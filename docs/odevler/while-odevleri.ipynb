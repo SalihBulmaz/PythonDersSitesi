{
 "cells": [
  {
   "cell_type": "markdown",
   "id": "f28dac39",
   "metadata": {},
   "source": [
    "# Python While Döngüsü Ödevleri\n",
    "\n",
    "## GENEL TALİMATLAR\n",
    "- Sadece **while döngüsü** kullanın\n",
    "- Primitif veri tipleri kullanın (int, float, string, boolean)\n",
    "- List ve dictionary kullanmayın\n",
    "- String metodları kullanmayın (split, join, replace vb.)\n",
    "- ord(), chr() gibi fonksiyonlar kullanmayın\n",
    "- Her ödevde yorum satırları ekleyin\n",
    "- Kullanıcı girişlerini kontrol edin\n",
    "\n",
    "---\n",
    "\n",
    "## Ödev 1: Sayı Tahmin Oyunu (Kolay)\n",
    "**Zorluk:** ⭐⭐☆☆☆\n",
    "\n",
    "Bilgisayar 1-100 arası rastgele bir sayı tutsun. Kullanıcı bu sayıyı tahmin etmeye çalışsın. Her tahminde bilgisayar \"daha büyük\" veya \"daha küçük\" desin. Kaç denemede bulduğunu gösterin.\n",
    "\n",
    "**Örnek Çıktı:**\n",
    "```\n",
    "1-100 arası bir sayı tuttum!\n",
    "Tahmininiz: 50\n",
    "Daha küçük!\n",
    "Tahmininiz: 25\n",
    "Daha büyük!\n",
    "Tahmininiz: 37\n",
    "Daha küçük!\n",
    "Tahmininiz: 31\n",
    "Tebrikler! 4 denemede buldunuz.\n",
    "```\n",
    "\n",
    "**İpuçları:**\n",
    "- import random kullanın\n",
    "- While döngüsü ile tahmin alma\n",
    "- Deneme sayısını sayın\n",
    "\n",
    "---"
   ]
  },
  {
   "cell_type": "code",
   "execution_count": null,
   "id": "7affbe28",
   "metadata": {},
   "outputs": [],
   "source": [
    "# kodunuzu buraya yazin."
   ]
  },
  {
   "cell_type": "markdown",
   "id": "842fa0a1",
   "metadata": {},
   "source": [
    "## Ödev 2: Şifre Doğrulama (Kolay)\n",
    "**Zorluk:** ⭐⭐☆☆☆\n",
    "\n",
    "Kullanıcıdan bir şifre belirlemesini isteyin. Sonra şifreyi doğru girene kadar tekrar tekrar şifre girmesini isteyin. Kaç denemede doğru girdiğini gösterin.\n",
    "\n",
    "**Örnek Çıktı:**\n",
    "```\n",
    "Şifrenizi belirleyin: python123\n",
    "Şifrenizi girin: abc\n",
    "Yanlış şifre!\n",
    "Şifrenizi girin: python\n",
    "Yanlış şifre!\n",
    "Şifrenizi girin: python123\n",
    "Hoş geldiniz! 3 denemede doğru şifreyi girdiniz.\n",
    "```\n",
    "\n",
    "**İpuçları:**\n",
    "- While döngüsü ile şifre kontrolü\n",
    "- Deneme sayısını sayın\n",
    "- Şifre eşleşince döngüden çıkın\n",
    "\n",
    "---"
   ]
  },
  {
   "cell_type": "code",
   "execution_count": null,
   "id": "9d20f937",
   "metadata": {},
   "outputs": [],
   "source": [
    "# kodunuzu buraya yazin."
   ]
  },
  {
   "cell_type": "markdown",
   "id": "8b765b1b",
   "metadata": {},
   "source": [
    "## Ödev 3: Çarpım Tablosu (Kolay)\n",
    "**Zorluk:** ⭐⭐☆☆☆\n",
    "\n",
    "Kullanıcıdan bir sayı alın (1-10 arası). Bu sayının çarpım tablosunu while döngüsü kullanarak ekrana yazdırın.\n",
    "\n",
    "**Örnek Çıktı:**\n",
    "```\n",
    "Sayı girin: 6\n",
    "6 x 1 = 6\n",
    "6 x 2 = 12\n",
    "6 x 3 = 18\n",
    "6 x 4 = 24\n",
    "6 x 5 = 30\n",
    "6 x 6 = 36\n",
    "6 x 7 = 42\n",
    "6 x 8 = 48\n",
    "6 x 9 = 54\n",
    "6 x 10 = 60\n",
    "```\n",
    "\n",
    "**İpuçları:**\n",
    "- Sayaç değişkeni kullanın\n",
    "- While döngüsü ile 1'den 10'a kadar sayın\n",
    "- Her adımda çarpım sonucunu yazdırın\n",
    "\n",
    "---"
   ]
  },
  {
   "cell_type": "code",
   "execution_count": null,
   "id": "b8ff26be",
   "metadata": {},
   "outputs": [],
   "source": [
    "# kodunuzu buraya yazin."
   ]
  },
  {
   "cell_type": "markdown",
   "id": "35a7276f",
   "metadata": {},
   "source": [
    "## Ödev 4: Toplam Hesaplama (Kolay)\n",
    "**Zorluk:** ⭐⭐☆☆☆\n",
    "\n",
    "Kullanıcıdan bir sayı alın (1-100 arası). 1'den bu sayıya kadar olan tüm sayıların toplamını while döngüsü kullanarak hesaplayın.\n",
    "\n",
    "**Örnek Çıktı:**\n",
    "```\n",
    "Sayı girin: 8\n",
    "1 + 2 + 3 + 4 + 5 + 6 + 7 + 8 = 36\n",
    "Toplam: 36\n",
    "```\n",
    "\n",
    "**İpuçları:**\n",
    "- Sayaç ve toplam değişkeni kullanın\n",
    "- While döngüsü ile sayıları toplayın\n",
    "- İsteğe bağlı: İşlemi de ekrana yazdırın\n",
    "\n",
    "---"
   ]
  },
  {
   "cell_type": "code",
   "execution_count": null,
   "id": "2ce202be",
   "metadata": {},
   "outputs": [],
   "source": [
    "# kodunuzu buraya yazin."
   ]
  },
  {
   "cell_type": "markdown",
   "id": "27bdafca",
   "metadata": {},
   "source": [
    "## Ödev 5: Çift Sayı Toplama (Kolay)\n",
    "**Zorluk:** ⭐⭐☆☆☆\n",
    "\n",
    "Kullanıcıdan bir sayı alın (1-50 arası). 1'den bu sayıya kadar olan çift sayıların toplamını while döngüsü kullanarak hesaplayın.\n",
    "\n",
    "**Örnek Çıktı:**\n",
    "```\n",
    "Sayı girin: 12\n",
    "Çift sayılar: 2, 4, 6, 8, 10, 12\n",
    "Toplam: 42\n",
    "```\n",
    "\n",
    "**İpuçları:**\n",
    "- Sayaç değişkeni kullanın\n",
    "- Her sayının çift olup olmadığını kontrol edin\n",
    "- Çift sayıları toplam değişkenine ekleyin\n",
    "\n",
    "---"
   ]
  },
  {
   "cell_type": "code",
   "execution_count": null,
   "id": "87294181",
   "metadata": {},
   "outputs": [],
   "source": [
    "# kodunuzu buraya yazin."
   ]
  },
  {
   "cell_type": "markdown",
   "id": "27193f60",
   "metadata": {},
   "source": [
    "## Ödev 6: Basamak Sayma (Kolay)\n",
    "**Zorluk:** ⭐⭐☆☆☆\n",
    "\n",
    "Kullanıcıdan bir sayı alın. Bu sayının kaç basamaklı olduğunu while döngüsü kullanarak bulun.\n",
    "\n",
    "**Örnek Çıktı:**\n",
    "```\n",
    "Sayı girin: 12345\n",
    "Basamak sayısı: 5\n",
    "```\n",
    "\n",
    "**Gelişmiş versiyon:**\n",
    "```\n",
    "Sayı girin: 12345\n",
    "12345 sayısı 5 basamaklıdır.\n",
    "```\n",
    "\n",
    "**İpuçları:**\n",
    "- Sayıyı 10'a bölerek basamak sayısını bulun\n",
    "- While döngüsü ile sayı 0 olana kadar bölün\n",
    "\n",
    "---"
   ]
  },
  {
   "cell_type": "code",
   "execution_count": 6,
   "id": "0d6d8400",
   "metadata": {},
   "outputs": [
    {
     "name": "stdout",
     "output_type": "stream",
     "text": [
      "123456 sayisinin basamak sayisi: 6\n"
     ]
    }
   ],
   "source": [
    "# kodunuzu buraya yazin.\n",
    "input_n = int(input('n: '))\n",
    "n = input_n\n",
    "basamak = 0\n",
    "while n > 0:\n",
    "    n //= 10\n",
    "    basamak += 1\n",
    "\n",
    "print(f'{input_n} sayisinin basamak sayisi: {basamak}')"
   ]
  },
  {
   "cell_type": "markdown",
   "id": "d4c774a6",
   "metadata": {},
   "source": [
    "## Ödev 7: Ters Sayı (Orta)\n",
    "**Zorluk:** ⭐⭐⭐☆☆\n",
    "\n",
    "Kullanıcıdan bir sayı alın. Bu sayının tersini while döngüsü kullanarak bulun.\n",
    "\n",
    "**Örnek Çıktı:**\n",
    "```\n",
    "Sayı girin: 12345\n",
    "Ters sayı: 54321\n",
    "```\n",
    "\n",
    "**Gelişmiş versiyon:**\n",
    "```\n",
    "Sayı girin: 12345\n",
    "12345 sayısının tersi: 54321\n",
    "```\n",
    "\n",
    "**İpuçları:**\n",
    "- Modulo (%) operatörü kullanın\n",
    "- Her basamağı alıp ters sayıyı oluşturun\n",
    "- While döngüsü ile basamakları işleyin\n",
    "\n",
    "---"
   ]
  },
  {
   "cell_type": "code",
   "execution_count": null,
   "id": "8f92bed3",
   "metadata": {},
   "outputs": [],
   "source": [
    "# kodunuzu buraya yazin."
   ]
  },
  {
   "cell_type": "markdown",
   "id": "9aad64f2",
   "metadata": {},
   "source": [
    "## Ödev 8: Faktöriyel Hesaplama (Orta)\n",
    "**Zorluk:** ⭐⭐⭐☆☆\n",
    "\n",
    "Kullanıcıdan bir sayı alın (1-10 arası). Bu sayının faktöriyelini while döngüsü kullanarak hesaplayın.\n",
    "\n",
    "**Örnek Çıktı:**\n",
    "```\n",
    "Sayı girin: 5\n",
    "5! = 5 x 4 x 3 x 2 x 1 = 120\n",
    "```\n",
    "\n",
    "**Basit versiyon:**\n",
    "```\n",
    "Sayı girin: 5\n",
    "5! = 120\n",
    "```\n",
    "\n",
    "**İpuçları:**\n",
    "- Sayaç değişkeni kullanın\n",
    "- While döngüsü ile çarpım yapın\n",
    "- İsteğe bağlı: İşlemi de ekrana yazdırın\n",
    "\n",
    "---"
   ]
  },
  {
   "cell_type": "code",
   "execution_count": 9,
   "id": "bc282259",
   "metadata": {},
   "outputs": [
    {
     "name": "stdout",
     "output_type": "stream",
     "text": [
      "6! = 720\n"
     ]
    }
   ],
   "source": [
    "# kodunuzu buraya yazin.\n",
    "n = int(input('N: '))\n",
    "i = 0\n",
    "fakt = 1\n",
    "while i < n:\n",
    "  i += 1\n",
    "  fakt *= i\n",
    "print(f'{n}! = {fakt}')"
   ]
  },
  {
   "cell_type": "markdown",
   "id": "cbb6e615",
   "metadata": {},
   "source": [
    "## Ödev 9: Fibonacci Serisi (Orta)\n",
    "**Zorluk:** ⭐⭐⭐☆☆\n",
    "\n",
    "Kullanıcıdan bir sayı alın (1-20 arası). Bu sayıya kadar olan Fibonacci serisini while döngüsü kullanarak yazdırın.\n",
    "\n",
    "**Örnek Çıktı:**\n",
    "```\n",
    "Kaç terim: 8\n",
    "Fibonacci serisi: 0, 1, 1, 2, 3, 5, 8, 13\n",
    "```\n",
    "\n",
    "**Gelişmiş versiyon:**\n",
    "```\n",
    "Kaç terim: 8\n",
    "0, 1, 1, 2, 3, 5, 8, 13\n",
    "Toplam: 33\n",
    "```\n",
    "\n",
    "**İpuçları:**\n",
    "- İki önceki sayıyı tutun\n",
    "- While döngüsü ile yeni sayıları hesaplayın\n",
    "- Sayaç ile terim sayısını kontrol edin\n",
    "\n",
    "---"
   ]
  },
  {
   "cell_type": "code",
   "execution_count": null,
   "id": "88d9e688",
   "metadata": {},
   "outputs": [
    {
     "name": "stdout",
     "output_type": "stream",
     "text": [
      "0, 1, 1, 2, 3, 5, 8, 13, 21, 34, "
     ]
    }
   ],
   "source": [
    "# kodunuzu buraya yazin.\n",
    "\n",
    "n = int(input('Terim: '))\n",
    "a, b = 0, 1\n",
    "i = 1\n",
    "\n",
    "while i <= n:\n",
    "    print(a, end = ', ')\n",
    "    a, b = b, a + b\n",
    "    i += 1"
   ]
  },
  {
   "cell_type": "markdown",
   "id": "1260832a",
   "metadata": {},
   "source": [
    "## Ödev 10: Basamak Toplama (Kolay)\n",
    "**Zorluk:** ⭐⭐☆☆☆\n",
    "\n",
    "Kullanıcıdan bir sayı alın. Bu sayının basamaklarının toplamını while döngüsü kullanarak bulun.\n",
    "\n",
    "**Örnek Çıktı:**\n",
    "```\n",
    "Sayı girin: 12345\n",
    "Basamaklar toplamı: 15 (1+2+3+4+5)\n",
    "```\n",
    "\n",
    "**Gelişmiş versiyon:**\n",
    "```\n",
    "Sayı girin: 12345\n",
    "1 + 2 + 3 + 4 + 5 = 15\n",
    "Basamaklar toplamı: 15\n",
    "```\n",
    "\n",
    "**İpuçları:**\n",
    "- Modulo (%) operatörü ile son basamağı alın\n",
    "- While döngüsü ile tüm basamakları toplayın\n",
    "- İsteğe bağlı: İşlemi de ekrana yazdırın\n",
    "\n",
    "--- "
   ]
  },
  {
   "cell_type": "code",
   "execution_count": null,
   "id": "a4b47e21",
   "metadata": {},
   "outputs": [
    {
     "name": "stdout",
     "output_type": "stream",
     "text": [
      "16\n"
     ]
    }
   ],
   "source": [
    "n = int(input('Sayi: '))\n",
    "basamak_toplam = 0\n",
    "\n",
    "while n > 0:\n",
    "    basamak_toplam += n % 10\n",
    "    n = n // 10\n",
    "print(basamak_toplam)"
   ]
  }
 ],
 "metadata": {
  "jupytext": {
   "cell_metadata_filter": "-all",
   "main_language": "python",
   "notebook_metadata_filter": "-all"
  },
  "kernelspec": {
   "display_name": "3.13.1",
   "language": "python",
   "name": "python3"
  },
  "language_info": {
   "codemirror_mode": {
    "name": "ipython",
    "version": 3
   },
   "file_extension": ".py",
   "mimetype": "text/x-python",
   "name": "python",
   "nbconvert_exporter": "python",
   "pygments_lexer": "ipython3",
   "version": "3.13.1"
  }
 },
 "nbformat": 4,
 "nbformat_minor": 5
}
