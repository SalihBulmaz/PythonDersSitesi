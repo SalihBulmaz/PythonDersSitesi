{
 "cells": [
  {
   "cell_type": "markdown",
   "id": "1be5dd6c",
   "metadata": {},
   "source": [
    "# Python For Döngüsü Ödevleri\n",
    "\n",
    "## GENEL TALİMATLAR\n",
    "- Sadece **for döngüsü** kullanın\n",
    "- Primitif veri tipleri kullanın (int, float, string, boolean)\n",
    "- List ve dictionary kullanmayın\n",
    "- Her ödevde yorum satırları ekleyin\n",
    "- Kullanıcı girişlerini kontrol edin\n",
    "\n",
    "---\n",
    "\n",
    "## Ödev 1: Karakter Analizi (Kolay)\n",
    "**Zorluk:** ⭐⭐☆☆☆\n",
    "\n",
    "Kullanıcıdan bir kelime alın. Bu kelimede:\n",
    "- Kaç tane sesli harf olduğunu\n",
    "- Kaç tane ünsüz harf olduğunu  \n",
    "- Toplam karakter sayısını\n",
    "- En çok tekrar eden karakteri\n",
    "\n",
    "for döngüsü kullanarak bulun ve ekrana yazdırın.\n",
    "\n",
    "**Örnek Çıktı:**\n",
    "```\n",
    "Kelime girin: python\n",
    "Sesli harf sayısı: 1 (y, o)\n",
    "Ünsüz harf sayısı: 5 (p, t, h, n)\n",
    "Toplam karakter: 6\n",
    "En çok tekrar eden: Hepsi eşit (her karakter 1 kez)\n",
    "```\n",
    "\n",
    "**İpuçları:**\n",
    "- Sesli harfler: \"aeıioöuüAEIİOÖUÜ\"\n",
    "- Her karakteri tek tek kontrol edin\n",
    "- En çok tekrar eden için her karakteri sayın"
   ]
  },
  {
   "cell_type": "code",
   "execution_count": 2,
   "id": "61db1d00",
   "metadata": {},
   "outputs": [
    {
     "name": "stdout",
     "output_type": "stream",
     "text": [
      "Sesli harf sayisi: 3\n",
      "Sessiz harf sayisi: 5\n",
      "Toplam harf sayisi: 8\n",
      "En cok tekrar eden harf: m, 3 kez tekrar etti.\n"
     ]
    }
   ],
   "source": [
    "# kodunuzu buraya yazin.\n",
    "kelime = input('Bir kelime giriniz: ')\n",
    "sesli_harfler = 'aeıioöuü'\n",
    "\n",
    "sesli_harf_sayisi = 0\n",
    "sessiz_harf_sayisi = 0\n",
    "en_cok_tekrar_eden_harf = ''\n",
    "en_cok_tekrar_eden = 0\n",
    "\n",
    "for harf in kelime:\n",
    "  if kelime.count(harf) > en_cok_tekrar_eden:\n",
    "    en_cok_tekrar_eden_harf = harf\n",
    "    en_cok_tekrar_eden = kelime.count(harf)\n",
    "  if harf in sesli_harfler:\n",
    "    sesli_harf_sayisi += 1\n",
    "  else:\n",
    "    sessiz_harf_sayisi += 1\n",
    "    \n",
    "print(f'Sesli harf sayisi: {sesli_harf_sayisi}')\n",
    "print(f'Sessiz harf sayisi: {sessiz_harf_sayisi}')\n",
    "print(f'Toplam harf sayisi: {sesli_harf_sayisi + sessiz_harf_sayisi}')\n",
    "print(f'En cok tekrar eden harf: {en_cok_tekrar_eden_harf}, {en_cok_tekrar_eden} kez tekrar etti.')"
   ]
  },
  {
   "cell_type": "markdown",
   "id": "b77a2c67",
   "metadata": {},
   "source": [
    "---\n",
    "\n",
    "## Ödev 2: Çarpım Tablosu Matrisi (Orta)\n",
    "**Zorluk:** ⭐⭐⭐☆☆\n",
    "\n",
    "Kullanıcıdan bir sayı alın (1-12 arası). Bu sayıya kadar olan tüm sayıların çarpım tablolarını matris şeklinde ekrana yazdırın.\n",
    "\n",
    "**Örnek Çıktı (n=4):**\n",
    "```\n",
    "     1   2   3   4\n",
    "  1  1   2   3   4\n",
    "  2  2   4   6   8\n",
    "  3  3   6   9  12\n",
    "  4  4   8  12  16\n",
    "```\n",
    "\n",
    "**İpuçları:**\n",
    "- İç içe for döngüleri kullanın\n",
    "- Sayıları düzgün hizalamak için format kullanın\n",
    "- İlk satır ve sütun başlık olacak"
   ]
  },
  {
   "cell_type": "code",
   "execution_count": null,
   "id": "f3eca6f9",
   "metadata": {},
   "outputs": [
    {
     "name": "stdout",
     "output_type": "stream",
     "text": [
      "  1 2 3 4 \n",
      "1 1 1 1 1 \n",
      "4 4 4 4 4 \n",
      "9 9 9 9 9 \n",
      "16 16 16 16 16 \n"
     ]
    }
   ],
   "source": [
    "# kodunuzu buraya yazin.\n",
    "n = int(input('N: '))\n",
    "for i in range(n + 1):\n",
    "  if i != 0:\n",
    "    print(f'{i}', end = ' ')\n",
    "  else:\n",
    "    print(f' ', end = ' ')\n",
    "print()\n",
    "for i in range(1, n + 1):\n",
    "  for j in range(0, n + 1):\n",
    "    if j == 0:\n",
    "        print(f'{i * i}', end = ' ')\n",
    "    else:\n",
    "        print(f'{j * i}', end = ' ')\n",
    "    \n",
    "  print()"
   ]
  },
  {
   "cell_type": "markdown",
   "id": "59c16fd6",
   "metadata": {},
   "source": [
    "---\n",
    "\n",
    "## Ödev 3: Fibonacci Paterni (Orta)\n",
    "**Zorluk:** ⭐⭐⭐☆☆\n",
    "\n",
    "Fibonacci serisinin ilk 10 terimini kullanarak aşağıdaki deseni oluşturun:\n",
    "\n",
    "**Beklenen Çıktı:**\n",
    "```\n",
    "0\n",
    "0 1\n",
    "0 1 1\n",
    "0 1 1 2\n",
    "0 1 1 2 3\n",
    "0 1 1 2 3 5\n",
    "0 1 1 2 3 5 8\n",
    "0 1 1 2 3 5 8 13\n",
    "0 1 1 2 3 5 8 13 21\n",
    "0 1 1 2 3 5 8 13 21 34\n",
    "```\n",
    "\n",
    "**İpuçları:**\n",
    "- Önce Fibonacci sayılarını hesaplayın\n",
    "- Her satırda o satır numarasına kadar Fibonacci sayısı yazdırın\n",
    "- İç içe döngü kullanın"
   ]
  },
  {
   "cell_type": "code",
   "execution_count": 20,
   "id": "1b97dbc6",
   "metadata": {},
   "outputs": [
    {
     "name": "stdout",
     "output_type": "stream",
     "text": [
      "0 \n",
      "0 1 \n",
      "0 1 1 \n",
      "0 1 1 2 \n",
      "0 1 1 2 3 \n",
      "0 1 1 2 3 5 \n",
      "0 1 1 2 3 5 8 \n",
      "0 1 1 2 3 5 8 13 \n",
      "0 1 1 2 3 5 8 13 21 \n",
      "0 1 1 2 3 5 8 13 21 34 \n"
     ]
    }
   ],
   "source": [
    "# kodunuzu buraya yazin.\n",
    "\n",
    "for i in range(10):\n",
    "    a, b = 0, 1\n",
    "    for j in range(i + 1):\n",
    "        print(a, end = ' ')\n",
    "        a, b = b, a + b\n",
    "    print()\n",
    "  "
   ]
  },
  {
   "cell_type": "markdown",
   "id": "2e53e98a",
   "metadata": {},
   "source": [
    "---\n",
    "\n",
    "## Ödev 4: ASCII Sanat Piramidi (Orta)\n",
    "**Zorluk:** ⭐⭐⭐☆☆\n",
    "\n",
    "Kullanıcıdan bir yükseklik değeri alın ve aşağıdaki ASCII piramidini çizin:\n",
    "\n",
    "**Örnek (yükseklik=5):**\n",
    "```\n",
    "    *\n",
    "   ***\n",
    "  *****\n",
    " *******\n",
    "*********\n",
    "```\n",
    "\n",
    "**Kurallar:**\n",
    "- Her satırda yıldız sayısı: 2n-1 (n = satır numarası)\n",
    "- Piramit ortada hizalı olmalı\n",
    "- Boşluk sayısı: yükseklik - satır numarası\n",
    "\n",
    "**İpuçları:**\n",
    "- İç içe döngü kullanın\n",
    "- İlk döngü boşluklar, ikinci döngü yıldızlar için"
   ]
  },
  {
   "cell_type": "code",
   "execution_count": 23,
   "id": "62d8adef",
   "metadata": {},
   "outputs": [
    {
     "name": "stdout",
     "output_type": "stream",
     "text": [
      "         *\n",
      "        ***\n",
      "       *****\n",
      "      *******\n",
      "     *********\n",
      "    ***********\n",
      "   *************\n",
      "  ***************\n",
      " *****************\n",
      "*******************\n"
     ]
    }
   ],
   "source": [
    "# kodunuzu buraya yazin.\n",
    "n = int(input('n: '))\n",
    "# n = 5\n",
    "# 1, 2, 3, 4, 5\n",
    "for i in range(1, n + 1):\n",
    "  for j in range(n-i):\n",
    "    print(' ', end='')\n",
    "  for j in range(i-1):\n",
    "    print('*', end='')\n",
    "  print('*', end='')\n",
    "  for j in range(i-1):\n",
    "    print('*', end='')\n",
    "  print('')"
   ]
  },
  {
   "cell_type": "markdown",
   "id": "eb1ebf93",
   "metadata": {},
   "source": [
    "---\n",
    "\n",
    "## Ödev 5: Çift Sayı Toplama (Kolay)\n",
    "**Zorluk:** ⭐⭐☆☆☆\n",
    "\n",
    "Kullanıcıdan bir sayı alın (1-50 arası). 1'den bu sayıya kadar olan çift sayıların toplamını for döngüsü kullanarak hesaplayın.\n",
    "\n",
    "**Örnek Çıktı:**\n",
    "```\n",
    "Sayı girin: 10\n",
    "Çift sayılar: 2, 4, 6, 8, 10\n",
    "Toplam: 30\n",
    "```\n",
    "\n",
    "**Gelişmiş versiyon:**\n",
    "```\n",
    "Sayı girin: 15\n",
    "Çift sayılar: 2 + 4 + 6 + 8 + 10 + 12 + 14 = 56\n",
    "Toplam: 56\n",
    "```\n",
    "\n",
    "**İpuçları:**\n",
    "- 1'den girilen sayıya kadar for döngüsü kullanın\n",
    "- Her sayının çift olup olmadığını kontrol edin\n",
    "- Çift sayıları toplam değişkenine ekleyin"
   ]
  },
  {
   "cell_type": "code",
   "execution_count": null,
   "id": "8f89c520",
   "metadata": {},
   "outputs": [],
   "source": [
    "# kodunuzu buraya yazin.\n",
    "n = int(input('n: '))\n",
    "if n >= 2:\n",
    "    toplam = 2\n",
    "    print(f'{2}', end = '')\n",
    "    for i in range(4, n + 1, 2):\n",
    "        print(f' + {i}', end = '')\n",
    "        toplam += i\n",
    "    print(f' = {toplam}')"
   ]
  },
  {
   "cell_type": "markdown",
   "id": "9d8d0fc7",
   "metadata": {},
   "source": [
    "---\n",
    "\n",
    "## Ödev 6: Sayı Özellikleri (Kolay)\n",
    "**Zorluk:** ⭐⭐☆☆☆\n",
    "\n",
    "Kullanıcıdan bir sayı alın (1-100 arası). Bu sayının:\n",
    "- Çift mi tek mi olduğunu\n",
    "- Kaç basamaklı olduğunu\n",
    "- Basamaklarının toplamını\n",
    "- Basamaklarının çarpımını\n",
    "- Basamaklarının ortalamasını\n",
    "\n",
    "for döngüsü kullanarak bulun ve ekrana yazdırın.\n",
    "\n",
    "**Örnek Çıktı:**\n",
    "```\n",
    "Sayı girin: 123\n",
    "Çift/Tek: Tek\n",
    "Basamak sayısı: 3\n",
    "Basamaklar toplamı: 6 (1+2+3)\n",
    "Basamaklar çarpımı: 6 (1*2*3)\n",
    "Basamaklar ortalaması: 2.0\n",
    "```\n",
    "\n",
    "**İpuçları:**\n",
    "- Sayıyı string'e çevirip karakter karakter dolaşın\n",
    "- Her karakteri int'e çevirip işlem yapın"
   ]
  },
  {
   "cell_type": "code",
   "execution_count": null,
   "id": "d1a55387",
   "metadata": {},
   "outputs": [],
   "source": [
    "# kodunuzu buraya yazin."
   ]
  },
  {
   "cell_type": "markdown",
   "id": "dc4f47d7",
   "metadata": {},
   "source": [
    "---\n",
    "\n",
    "## Ödev 7: Kelime Sayma (Çok Kolay)\n",
    "**Zorluk:** ⭐☆☆☆☆\n",
    "\n",
    "Kullanıcıdan bir cümle alın. Bu cümlede kaç kelime olduğunu for döngüsü kullanarak bulun.\n",
    "\n",
    "**Örnek Çıktı:**\n",
    "```\n",
    "Cümle girin: Python programlama dili çok güzel\n",
    "Kelime sayısı: 5\n",
    "```\n",
    "\n",
    "**İpuçları:**\n",
    "- Boşluk karakterlerini sayarak kelime sayısını bulun\n",
    "- Kelime sayısı = boşluk sayısı + 1"
   ]
  },
  {
   "cell_type": "code",
   "execution_count": null,
   "id": "a907f66d",
   "metadata": {},
   "outputs": [],
   "source": [
    "# kodunuzu buraya yazin."
   ]
  },
  {
   "cell_type": "markdown",
   "id": "28ad1e07",
   "metadata": {},
   "source": [
    "---\n",
    "\n",
    "## Ödev 8: Sayı Deseni (Kolay)\n",
    "**Zorluk:** ⭐⭐☆☆☆\n",
    "\n",
    "Kullanıcıdan bir sayı alın (1-10 arası). Aşağıdaki deseni oluşturun:\n",
    "\n",
    "**Örnek (n=4):**\n",
    "```\n",
    "1\n",
    "1 2\n",
    "1 2 3\n",
    "1 2 3 4\n",
    "```\n",
    "\n",
    "**Gelişmiş versiyon (n=4):**\n",
    "```\n",
    "   1\n",
    "  1 2\n",
    " 1 2 3\n",
    "1 2 3 4\n",
    "```\n",
    "\n",
    "**İpuçları:**\n",
    "- İç içe for döngüleri kullanın\n",
    "- Dış döngü satır sayısı, iç döngü sütun sayısı için"
   ]
  },
  {
   "cell_type": "code",
   "execution_count": null,
   "id": "0ae6bd18",
   "metadata": {},
   "outputs": [],
   "source": [
    "# kodunuzu buraya yazin."
   ]
  },
  {
   "cell_type": "markdown",
   "id": "33ed18d7",
   "metadata": {},
   "source": [
    "---\n",
    "\n",
    "## Ödev 9: Çarpım Tablosu (Kolay)\n",
    "**Zorluk:** ⭐⭐☆☆☆\n",
    "\n",
    "Kullanıcıdan bir sayı alın (1-10 arası). Bu sayının çarpım tablosunu for döngüsü kullanarak ekrana yazdırın.\n",
    "\n",
    "**Örnek Çıktı:**\n",
    "```\n",
    "Sayı girin: 7\n",
    "7 x 1 = 7\n",
    "7 x 2 = 14\n",
    "7 x 3 = 21\n",
    "7 x 4 = 28\n",
    "7 x 5 = 35\n",
    "7 x 6 = 42\n",
    "7 x 7 = 49\n",
    "7 x 8 = 56\n",
    "7 x 9 = 63\n",
    "7 x 10 = 70\n",
    "```\n",
    "\n",
    "**İpuçları:**\n",
    "- 1'den 10'a kadar for döngüsü kullanın\n",
    "- Her adımda çarpım sonucunu yazdırın"
   ]
  },
  {
   "cell_type": "code",
   "execution_count": null,
   "id": "e98d7205",
   "metadata": {},
   "outputs": [],
   "source": [
    "# kodunuzu buraya yazin."
   ]
  },
  {
   "cell_type": "markdown",
   "id": "f329215d",
   "metadata": {},
   "source": [
    "---\n",
    "\n",
    "## Ödev 10: Toplam Hesaplama (Kolay)\n",
    "**Zorluk:** ⭐⭐☆☆☆\n",
    "\n",
    "Kullanıcıdan bir sayı alın (1-100 arası). 1'den bu sayıya kadar olan tüm sayıların toplamını for döngüsü kullanarak hesaplayın.\n",
    "\n",
    "**Örnek Çıktı:**\n",
    "```\n",
    "Sayı girin: 5\n",
    "1 + 2 + 3 + 4 + 5 = 15\n",
    "Toplam: 15\n",
    "```\n",
    "\n",
    "**Gelişmiş versiyon:**\n",
    "```\n",
    "Sayı girin: 10\n",
    "1 + 2 + 3 + 4 + 5 + 6 + 7 + 8 + 9 + 10 = 55\n",
    "Toplam: 55\n",
    "```\n",
    "\n",
    "**İpuçları:**\n",
    "- 1'den girilen sayıya kadar for döngüsü kullanın\n",
    "- Her sayıyı toplam değişkenine ekleyin\n",
    "- İsteğe bağlı: İşlemi de ekrana yazdırın\n",
    "\n",
    "---"
   ]
  }
 ],
 "metadata": {
  "jupytext": {
   "cell_metadata_filter": "-all",
   "main_language": "python",
   "notebook_metadata_filter": "-all"
  },
  "kernelspec": {
   "display_name": "3.13.1",
   "language": "python",
   "name": "python3"
  },
  "language_info": {
   "codemirror_mode": {
    "name": "ipython",
    "version": 3
   },
   "file_extension": ".py",
   "mimetype": "text/x-python",
   "name": "python",
   "nbconvert_exporter": "python",
   "pygments_lexer": "ipython3",
   "version": "3.13.1"
  }
 },
 "nbformat": 4,
 "nbformat_minor": 5
}
