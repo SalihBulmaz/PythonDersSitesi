{
 "cells": [
  {
   "cell_type": "markdown",
   "id": "4c9fae7f",
   "metadata": {
    "lines_to_next_cell": 0
   },
   "source": [
    "# Python Fonksiyonlar\n",
    "\n",
    "## Giriş\n",
    "\n",
    "Fonksiyonlar, kodun yeniden kullanılabilir parçalarını oluşturmamızı sağlar. Python'da fonksiyonlar `def` anahtar kelimesi ile tanımlanır ve programlarımızı daha modüler hale getirir.\n",
    "\n",
    "## Temel Fonksiyon Tanımlama\n",
    "\n",
    "### Basit Fonksiyon"
   ]
  },
  {
   "cell_type": "code",
   "execution_count": 2,
   "id": "e54cb199",
   "metadata": {},
   "outputs": [
    {
     "name": "stdout",
     "output_type": "stream",
     "text": [
      "Merhaba!\n",
      "Merhaba!\n",
      "Merhaba!\n",
      "Merhaba!\n",
      "Merhaba!\n"
     ]
    }
   ],
   "source": [
    "def selamla():\n",
    "    print(\"Merhaba!\")\n",
    "\n",
    "# Fonksiyonu çağırma\n",
    "selamla()  # Merhaba!\n",
    "selamla()  # Merhaba!\n",
    "selamla()  # Merhaba!\n",
    "selamla()  # Merhaba!\n",
    "selamla()  # Merhaba!"
   ]
  },
  {
   "cell_type": "markdown",
   "id": "dbcdbe3d",
   "metadata": {
    "lines_to_next_cell": 0
   },
   "source": [
    "### Parametreli Fonksiyon"
   ]
  },
  {
   "cell_type": "code",
   "execution_count": 11,
   "id": "21f28792",
   "metadata": {},
   "outputs": [
    {
     "name": "stdout",
     "output_type": "stream",
     "text": [
      "gunaydin salih!\n"
     ]
    }
   ],
   "source": [
    "def selamla(isim, selamlama):\n",
    "    print(f\"{selamlama} {isim}!\")\n",
    "\n",
    "isim = input('isim: ')\n",
    "selamlama = input('selamlama: ')\n",
    "selamla(isim, selamlama)  # Merhaba Ali!\n"
   ]
  },
  {
   "cell_type": "markdown",
   "id": "799a4e0f",
   "metadata": {
    "lines_to_next_cell": 0
   },
   "source": [
    "### Birden Fazla Parametre"
   ]
  },
  {
   "cell_type": "code",
   "execution_count": null,
   "id": "2de1a44c",
   "metadata": {},
   "outputs": [
    {
     "name": "stdout",
     "output_type": "stream",
     "text": [
      "15\n"
     ]
    }
   ],
   "source": [
    "def toplam(a, b):\n",
    "    return a + b\n",
    "\n",
    "sonuç1 = toplam(5, 3)\n",
    "sonuç2 = toplam(7, 8)\n",
    "print(sonuç2)  # 8"
   ]
  },
  {
   "cell_type": "markdown",
   "id": "70623ec4",
   "metadata": {
    "lines_to_next_cell": 0
   },
   "source": [
    "### Varsayılan Parametreler"
   ]
  },
  {
   "cell_type": "code",
   "execution_count": null,
   "id": "b3d36850",
   "metadata": {},
   "outputs": [
    {
     "name": "stdout",
     "output_type": "stream",
     "text": [
      "Merhaba Ali!\n",
      "Selam Ayşe!\n"
     ]
    },
    {
     "data": {
      "text/plain": [
       "'Selam Ayşe!'"
      ]
     },
     "execution_count": 18,
     "metadata": {},
     "output_type": "execute_result"
    }
   ],
   "source": [
    "def selamla(isim, selam=\"Merhaba\"):\n",
    "    print(f\"{selam} {isim}!\")\n",
    "    \n",
    "selamla(\"Ali\")           # Merhaba Ali!\n",
    "selamla(\"Ayşe\", \"Selam\") # Selam Ayşe!"
   ]
  },
  {
   "cell_type": "markdown",
   "id": "a8e26f3b",
   "metadata": {
    "lines_to_next_cell": 0
   },
   "source": [
    "## Parametre Türleri\n",
    "\n",
    "### Pozisyonel Parametreler"
   ]
  },
  {
   "cell_type": "code",
   "execution_count": 19,
   "id": "c5e1269f",
   "metadata": {},
   "outputs": [
    {
     "name": "stdout",
     "output_type": "stream",
     "text": [
      "Ad: Ali, Yaş: 25, Şehir: İstanbul\n"
     ]
    }
   ],
   "source": [
    "def bilgi_yazdır(ad, yaş, şehir):\n",
    "    print(f\"Ad: {ad}, Yaş: {yaş}, Şehir: {şehir}\")\n",
    "\n",
    "bilgi_yazdır(\"Ali\", 25, \"İstanbul\")"
   ]
  },
  {
   "cell_type": "markdown",
   "id": "3d74c651",
   "metadata": {
    "lines_to_next_cell": 0
   },
   "source": [
    "### Anahtar Kelime Parametreleri"
   ]
  },
  {
   "cell_type": "code",
   "execution_count": 22,
   "id": "72e0176c",
   "metadata": {},
   "outputs": [
    {
     "name": "stdout",
     "output_type": "stream",
     "text": [
      "Ad: Ali, Yaş: 25, Şehir: İstanbul\n",
      "Ad: Ali, Yaş: 25, Şehir: İstanbul\n"
     ]
    }
   ],
   "source": [
    "def bilgi_yazdır(ad, yaş, şehir):\n",
    "    print(f\"Ad: {ad}, Yaş: {yaş}, Şehir: {şehir}\")\n",
    "\n",
    "# Anahtar kelime ile çağırma\n",
    "bilgi_yazdır(ad=\"Ali\", yaş=25, şehir=\"İstanbul\")\n",
    "bilgi_yazdır(yaş=25, ad=\"Ali\", şehir=\"İstanbul\")  # Sıra önemli değil"
   ]
  },
  {
   "cell_type": "markdown",
   "id": "42543522",
   "metadata": {
    "lines_to_next_cell": 0
   },
   "source": [
    "### Karışık Kullanım"
   ]
  },
  {
   "cell_type": "code",
   "execution_count": 26,
   "id": "0b2fd8fb",
   "metadata": {},
   "outputs": [
    {
     "name": "stdout",
     "output_type": "stream",
     "text": [
      "Ad: Ali, Yaş: 25, Şehir: İstanbul, Meslek: Öğrenci\n",
      "Ad: Ayşe, Yaş: 30, Şehir: İstanbul, Meslek: Mühendis\n"
     ]
    }
   ],
   "source": [
    "def bilgi_yazdır(ad, yaş, şehir=\"İstanbul\", meslek=\"Öğrenci\"):\n",
    "    print(f\"Ad: {ad}, Yaş: {yaş}, Şehir: {şehir}, Meslek: {meslek}\")\n",
    "\n",
    "bilgi_yazdır(\"Ali\", 25)  # Varsayılan değerler kullanılır\n",
    "bilgi_yazdır(\"Ayşe\", 30, meslek=\"Mühendis\")"
   ]
  },
  {
   "cell_type": "markdown",
   "id": "4a16f36c",
   "metadata": {
    "lines_to_next_cell": 0
   },
   "source": [
    "### *args (Değişken Sayıda Parametre)"
   ]
  },
  {
   "cell_type": "code",
   "execution_count": 27,
   "id": "2085a8af",
   "metadata": {},
   "outputs": [
    {
     "name": "stdout",
     "output_type": "stream",
     "text": [
      "6\n",
      "15\n",
      "Ali\n",
      "25\n",
      "İstanbul\n",
      "Mühendis\n"
     ]
    }
   ],
   "source": [
    "def toplam(*sayılar):\n",
    "    return sum(sayılar)\n",
    "\n",
    "print(toplam(1, 2, 3))      # 6\n",
    "print(toplam(1, 2, 3, 4, 5)) # 15\n",
    "\n",
    "def bilgi_yazdır(*bilgiler):\n",
    "    for bilgi in bilgiler:\n",
    "        print(bilgi)\n",
    "\n",
    "bilgi_yazdır(\"Ali\", 25, \"İstanbul\", \"Mühendis\")"
   ]
  },
  {
   "cell_type": "markdown",
   "id": "5da41126",
   "metadata": {
    "lines_to_next_cell": 0
   },
   "source": [
    "### **kwargs (Anahtar Kelime Parametreleri)"
   ]
  },
  {
   "cell_type": "code",
   "execution_count": 28,
   "id": "7e9588bc",
   "metadata": {},
   "outputs": [
    {
     "name": "stdout",
     "output_type": "stream",
     "text": [
      "ad: Ali\n",
      "yaş: 25\n",
      "şehir: İstanbul\n",
      "meslek: Mühendis\n"
     ]
    }
   ],
   "source": [
    "def kişi_bilgileri(**bilgiler):\n",
    "    for anahtar, değer in bilgiler.items():\n",
    "        print(f\"{anahtar}: {değer}\")\n",
    "\n",
    "kişi_bilgileri(ad=\"Ali\", yaş=25, şehir=\"İstanbul\", meslek=\"Mühendis\")"
   ]
  },
  {
   "cell_type": "markdown",
   "id": "483000b6",
   "metadata": {
    "lines_to_next_cell": 0
   },
   "source": [
    "### Karışık Parametre Türleri"
   ]
  },
  {
   "cell_type": "code",
   "execution_count": 29,
   "id": "1ce66d87",
   "metadata": {},
   "outputs": [
    {
     "name": "stdout",
     "output_type": "stream",
     "text": [
      "Ad: Ali, Yaş: 25\n",
      "Hobiler: ('spor', 'müzik')\n",
      "Ek bilgiler: {'şehir': 'İstanbul', 'meslek': 'Mühendis'}\n"
     ]
    }
   ],
   "source": [
    "def karmaşık_fonksiyon(ad, yaş, *hobiler, **ek_bilgiler):\n",
    "    print(f\"Ad: {ad}, Yaş: {yaş}\")\n",
    "    if hobiler:\n",
    "        print(\"Hobiler:\", hobiler)\n",
    "    if ek_bilgiler:\n",
    "        print(\"Ek bilgiler:\", ek_bilgiler)\n",
    "\n",
    "karmaşık_fonksiyon(\"Ali\", 25, \"spor\", \"müzik\", şehir=\"İstanbul\", meslek=\"Mühendis\")"
   ]
  },
  {
   "cell_type": "markdown",
   "id": "f56099bc",
   "metadata": {
    "lines_to_next_cell": 0
   },
   "source": [
    "## Return Değerleri\n",
    "\n",
    "### Tek Değer Döndürme"
   ]
  },
  {
   "cell_type": "code",
   "execution_count": 30,
   "id": "18dbfe99",
   "metadata": {},
   "outputs": [
    {
     "name": "stdout",
     "output_type": "stream",
     "text": [
      "25\n"
     ]
    }
   ],
   "source": [
    "def kare_al(sayı):\n",
    "    return sayı ** 2\n",
    "\n",
    "sonuç = kare_al(5)\n",
    "print(sonuç)  # 25"
   ]
  },
  {
   "cell_type": "markdown",
   "id": "3f39ce5b",
   "metadata": {
    "lines_to_next_cell": 0
   },
   "source": [
    "### Çoklu Değer Döndürme"
   ]
  },
  {
   "cell_type": "code",
   "execution_count": 31,
   "id": "f80c6698",
   "metadata": {},
   "outputs": [
    {
     "name": "stdout",
     "output_type": "stream",
     "text": [
      "Bölüm: 3, Kalan: 2\n"
     ]
    }
   ],
   "source": [
    "def bölme_işlemi(bölünen, bölen):\n",
    "    bölüm = bölünen // bölen\n",
    "    kalan = bölünen % bölen\n",
    "    return bölüm, kalan\n",
    "\n",
    "bölüm, kalan = bölme_işlemi(17, 5)\n",
    "print(f\"Bölüm: {bölüm}, Kalan: {kalan}\")  # Bölüm: 3, Kalan: 2"
   ]
  },
  {
   "cell_type": "markdown",
   "id": "d88f071d",
   "metadata": {
    "lines_to_next_cell": 0
   },
   "source": [
    "### Koşullu Return"
   ]
  },
  {
   "cell_type": "code",
   "execution_count": 32,
   "id": "ebd11d50",
   "metadata": {},
   "outputs": [
    {
     "name": "stdout",
     "output_type": "stream",
     "text": [
      "5\n",
      "3\n"
     ]
    }
   ],
   "source": [
    "def mutlak_değer(sayı):\n",
    "    if sayı >= 0:\n",
    "        return sayı\n",
    "    else:\n",
    "        return -sayı\n",
    "\n",
    "print(mutlak_değer(-5))  # 5\n",
    "print(mutlak_değer(3))   # 3"
   ]
  },
  {
   "cell_type": "markdown",
   "id": "0461f13a",
   "metadata": {
    "lines_to_next_cell": 0
   },
   "source": [
    "## Lambda Fonksiyonları\n",
    "\n",
    "### Temel Lambda"
   ]
  },
  {
   "cell_type": "code",
   "execution_count": null,
   "id": "756ac8b7",
   "metadata": {},
   "outputs": [],
   "source": [
    "# Normal fonksiyon\n",
    "def kare_al(x):\n",
    "    return x ** 2\n",
    "\n",
    "# Lambda fonksiyonu\n",
    "kare_al_lambda = lambda x: x ** 2\n",
    "\n",
    "print(kare_al(5))        # 25\n",
    "print(kare_al_lambda(5)) # 25"
   ]
  },
  {
   "cell_type": "markdown",
   "id": "44298422",
   "metadata": {
    "lines_to_next_cell": 0
   },
   "source": [
    "### Lambda ile Parametreler"
   ]
  },
  {
   "cell_type": "code",
   "execution_count": null,
   "id": "e74a7d4a",
   "metadata": {},
   "outputs": [],
   "source": [
    "toplam = lambda a, b: a + b\n",
    "çarpım = lambda a, b, c: a * b * c\n",
    "\n",
    "print(toplam(3, 5))      # 8\n",
    "print(çarpım(2, 3, 4))   # 24"
   ]
  },
  {
   "cell_type": "markdown",
   "id": "0339c103",
   "metadata": {
    "lines_to_next_cell": 0
   },
   "source": [
    "### Lambda ile Koşullar"
   ]
  },
  {
   "cell_type": "code",
   "execution_count": null,
   "id": "9b5c6b16",
   "metadata": {},
   "outputs": [],
   "source": [
    "kontrol = lambda x: \"Pozitif\" if x > 0 else \"Negatif veya sıfır\"\n",
    "\n",
    "print(kontrol(5))   # Pozitif\n",
    "print(kontrol(-3))  # Negatif veya sıfır"
   ]
  },
  {
   "cell_type": "markdown",
   "id": "1ec6ec9a",
   "metadata": {
    "lines_to_next_cell": 0
   },
   "source": [
    "## Fonksiyon Kapsamı (Scope)\n",
    "\n",
    "### Yerel Değişkenler"
   ]
  },
  {
   "cell_type": "code",
   "execution_count": null,
   "id": "45cd5f77",
   "metadata": {},
   "outputs": [],
   "source": [
    "def test_fonksiyon():\n",
    "    x = 10  # Yerel değişken\n",
    "    print(f\"Fonksiyon içinde x: {x}\")\n",
    "\n",
    "test_fonksiyon()\n",
    "# print(x)  # Hata! x fonksiyon dışında tanımlı değil"
   ]
  },
  {
   "cell_type": "markdown",
   "id": "20fc6da5",
   "metadata": {
    "lines_to_next_cell": 0
   },
   "source": [
    "### Global Değişkenler"
   ]
  },
  {
   "cell_type": "code",
   "execution_count": null,
   "id": "0a2508b6",
   "metadata": {},
   "outputs": [],
   "source": [
    "global_x = 100  # Global değişken\n",
    "\n",
    "def test_fonksiyon():\n",
    "    print(f\"Global x: {global_x}\")\n",
    "\n",
    "test_fonksiyon()\n",
    "print(f\"Fonksiyon dışında x: {global_x}\")"
   ]
  },
  {
   "cell_type": "markdown",
   "id": "9a712782",
   "metadata": {
    "lines_to_next_cell": 0
   },
   "source": [
    "### Global Anahtar Kelimesi"
   ]
  },
  {
   "cell_type": "code",
   "execution_count": null,
   "id": "fd72d30c",
   "metadata": {},
   "outputs": [],
   "source": [
    "sayı = 10\n",
    "\n",
    "def değiştir():\n",
    "    global sayı\n",
    "    sayı = 20\n",
    "    print(f\"Fonksiyon içinde sayı: {sayı}\")\n",
    "\n",
    "print(f\"Önce: {sayı}\")  # 10\n",
    "değiştir()              # 20\n",
    "print(f\"Sonra: {sayı}\") # 20"
   ]
  },
  {
   "cell_type": "markdown",
   "id": "30df51e6",
   "metadata": {},
   "source": [
    "## İç İçe Fonksiyonlar"
   ]
  },
  {
   "cell_type": "code",
   "execution_count": null,
   "id": "4f6aa582",
   "metadata": {},
   "outputs": [],
   "source": [
    "def dış_fonksiyon(x):\n",
    "    def iç_fonksiyon(y):\n",
    "        return x + y  # x dış fonksiyondan gelir\n",
    "    return iç_fonksiyon\n",
    "\n",
    "# Closure oluşturma\n",
    "topla_5 = dış_fonksiyon(5)\n",
    "sonuç = topla_5(3)\n",
    "print(sonuç)  # 8"
   ]
  },
  {
   "cell_type": "markdown",
   "id": "bb13d09d",
   "metadata": {
    "lines_to_next_cell": 0
   },
   "source": [
    "## Decorator'lar\n",
    "\n",
    "### Basit Decorator"
   ]
  },
  {
   "cell_type": "code",
   "execution_count": null,
   "id": "938b8bed",
   "metadata": {},
   "outputs": [],
   "source": [
    "def zamanlayıcı(func):\n",
    "    def wrapper():\n",
    "        import time\n",
    "        başlangıç = time.time()\n",
    "        func()\n",
    "        bitiş = time.time()\n",
    "        print(f\"Fonksiyon {bitiş - başlangıç:.4f} saniyede çalıştı\")\n",
    "    return wrapper\n",
    "\n",
    "@zamanlayıcı\n",
    "def yavaş_fonksiyon():\n",
    "    import time\n",
    "    time.sleep(1)\n",
    "    print(\"Fonksiyon tamamlandı\")\n",
    "\n",
    "yavaş_fonksiyon()"
   ]
  },
  {
   "cell_type": "markdown",
   "id": "5c9b0c5e",
   "metadata": {
    "lines_to_next_cell": 0
   },
   "source": [
    "### Parametreli Decorator"
   ]
  },
  {
   "cell_type": "code",
   "execution_count": null,
   "id": "1076f362",
   "metadata": {},
   "outputs": [],
   "source": [
    "def tekrar_çalıştır(sayı):\n",
    "    def decorator(func):\n",
    "        def wrapper(*args, **kwargs):\n",
    "            for _ in range(sayı):\n",
    "                func(*args, **kwargs)\n",
    "        return wrapper\n",
    "    return decorator\n",
    "\n",
    "@tekrar_çalıştır(3)\n",
    "def selamla(isim):\n",
    "    print(f\"Merhaba {isim}!\")\n",
    "\n",
    "selamla(\"Ali\")"
   ]
  },
  {
   "cell_type": "markdown",
   "id": "01b3e74b",
   "metadata": {
    "lines_to_next_cell": 0
   },
   "source": [
    "## Pratik Örnekler\n",
    "\n",
    "### Hesap Makinesi Fonksiyonları"
   ]
  },
  {
   "cell_type": "code",
   "execution_count": null,
   "id": "f535a8fc",
   "metadata": {},
   "outputs": [],
   "source": [
    "def toplama(a, b):\n",
    "    return a + b\n",
    "\n",
    "def çıkarma(a, b):\n",
    "    return a - b\n",
    "\n",
    "def çarpma(a, b):\n",
    "    return a * b\n",
    "\n",
    "def bölme(a, b):\n",
    "    if b == 0:\n",
    "        return \"Sıfıra bölme hatası!\"\n",
    "    return a / b\n",
    "\n",
    "def hesap_makinesi():\n",
    "    print(\"1. Toplama\")\n",
    "    print(\"2. Çıkarma\")\n",
    "    print(\"3. Çarpma\")\n",
    "    print(\"4. Bölme\")\n",
    "    \n",
    "    seçim = input(\"İşlem seçin (1-4): \")\n",
    "    sayı1 = float(input(\"Birinci sayı: \"))\n",
    "    sayı2 = float(input(\"İkinci sayı: \"))\n",
    "    \n",
    "    if seçim == \"1\":\n",
    "        sonuç = toplama(sayı1, sayı2)\n",
    "    elif seçim == \"2\":\n",
    "        sonuç = çıkarma(sayı1, sayı2)\n",
    "    elif seçim == \"3\":\n",
    "        sonuç = çarpma(sayı1, sayı2)\n",
    "    elif seçim == \"4\":\n",
    "        sonuç = bölme(sayı1, sayı2)\n",
    "    else:\n",
    "        sonuç = \"Geçersiz seçim\"\n",
    "    \n",
    "    print(f\"Sonuç: {sonuç}\")"
   ]
  },
  {
   "cell_type": "markdown",
   "id": "2ec1709b",
   "metadata": {
    "lines_to_next_cell": 0
   },
   "source": [
    "### Faktöriyel Hesaplama"
   ]
  },
  {
   "cell_type": "code",
   "execution_count": null,
   "id": "5dcc42c1",
   "metadata": {},
   "outputs": [],
   "source": [
    "def faktöriyel(n):\n",
    "    if n < 0:\n",
    "        return \"Negatif sayıların faktöriyeli hesaplanamaz\"\n",
    "    elif n == 0 or n == 1:\n",
    "        return 1\n",
    "    else:\n",
    "        return n * faktöriyel(n - 1)\n",
    "\n",
    "# Test\n",
    "for i in range(6):\n",
    "    print(f\"{i}! = {faktöriyel(i)}\")"
   ]
  },
  {
   "cell_type": "markdown",
   "id": "5afbbfe8",
   "metadata": {
    "lines_to_next_cell": 0
   },
   "source": [
    "### Fibonacci Dizisi"
   ]
  },
  {
   "cell_type": "code",
   "execution_count": null,
   "id": "6965cdaf",
   "metadata": {},
   "outputs": [],
   "source": [
    "def fibonacci(n):\n",
    "    if n <= 0:\n",
    "        return []\n",
    "    elif n == 1:\n",
    "        return [0]\n",
    "    elif n == 2:\n",
    "        return [0, 1]\n",
    "    else:\n",
    "        dizi = [0, 1]\n",
    "        for i in range(2, n):\n",
    "            dizi.append(dizi[i-1] + dizi[i-2])\n",
    "        return dizi\n",
    "\n",
    "print(fibonacci(10))  # [0, 1, 1, 2, 3, 5, 8, 13, 21, 34]"
   ]
  },
  {
   "cell_type": "markdown",
   "id": "9b8c68b7",
   "metadata": {
    "lines_to_next_cell": 0
   },
   "source": [
    "### Liste İşlemleri"
   ]
  },
  {
   "cell_type": "code",
   "execution_count": null,
   "id": "4ec267aa",
   "metadata": {},
   "outputs": [],
   "source": [
    "def liste_istatistikleri(liste):\n",
    "    if not liste:\n",
    "        return \"Liste boş\"\n",
    "    \n",
    "    return {\n",
    "        \"uzunluk\": len(liste),\n",
    "        \"toplam\": sum(liste),\n",
    "        \"ortalama\": sum(liste) / len(liste),\n",
    "        \"minimum\": min(liste),\n",
    "        \"maksimum\": max(liste)\n",
    "    }\n",
    "\n",
    "sayılar = [1, 2, 3, 4, 5, 6, 7, 8, 9, 10]\n",
    "istatistikler = liste_istatistikleri(sayılar)\n",
    "print(istatistikler)"
   ]
  },
  {
   "cell_type": "markdown",
   "id": "a3960e5d",
   "metadata": {
    "lines_to_next_cell": 0
   },
   "source": [
    "### Şifre Güvenlik Kontrolü"
   ]
  },
  {
   "cell_type": "code",
   "execution_count": null,
   "id": "5bb300a0",
   "metadata": {},
   "outputs": [],
   "source": [
    "def şifre_kontrol(şifre):\n",
    "    kriterler = {\n",
    "        \"uzunluk\": len(şifre) >= 8,\n",
    "        \"büyük_harf\": any(c.isupper() for c in şifre),\n",
    "        \"küçük_harf\": any(c.islower() for c in şifre),\n",
    "        \"rakam\": any(c.isdigit() for c in şifre),\n",
    "        \"özel_karakter\": any(c in \"!@#$%^&*\" for c in şifre)\n",
    "    }\n",
    "    \n",
    "    geçerli_kriterler = sum(kriterler.values())\n",
    "    \n",
    "    if geçerli_kriterler == 5:\n",
    "        return \"Çok güçlü\"\n",
    "    elif geçerli_kriterler >= 3:\n",
    "        return \"Güçlü\"\n",
    "    elif geçerli_kriterler >= 2:\n",
    "        return \"Orta\"\n",
    "    else:\n",
    "        return \"Zayıf\"\n",
    "\n",
    "test_şifreleri = [\"abc\", \"abc123\", \"Abc123!\", \"GüçlüŞifre123!\"]\n",
    "for şifre in test_şifreleri:\n",
    "    print(f\"'{şifre}': {şifre_kontrol(şifre)}\")"
   ]
  },
  {
   "cell_type": "markdown",
   "id": "dbe1e7b3",
   "metadata": {},
   "source": [
    "## Özet\n",
    "\n",
    "### Fonksiyon Tanımlama\n",
    "- `def` anahtar kelimesi ile fonksiyon tanımlanır\n",
    "- Parametreler parantez içinde belirtilir\n",
    "- `return` ile değer döndürülür\n",
    "\n",
    "### Parametre Türleri\n",
    "- **Pozisyonel**: Sırayla verilen parametreler\n",
    "- **Anahtar kelime**: İsimle belirtilen parametreler\n",
    "- **Varsayılan**: Önceden tanımlı değerler\n",
    "- **\\*args**: Değişken sayıda parametre\n",
    "- **\\*\\*kwargs**: Anahtar kelime parametreleri\n",
    "\n",
    "### Özel Fonksiyonlar\n",
    "- **Lambda**: Tek satırlık anonim fonksiyonlar\n",
    "- **İç içe**: Fonksiyon içinde fonksiyon\n",
    "- **Decorator**: Fonksiyonları saran yapılar\n",
    "\n",
    "### Kapsam\n",
    "- **Yerel**: Fonksiyon içinde tanımlı değişkenler\n",
    "- **Global**: Tüm programda erişilebilir değişkenler\n",
    "\n",
    "Fonksiyonlar, kodun yeniden kullanılabilirliğini artırır ve programları daha modüler hale getirir. "
   ]
  }
 ],
 "metadata": {
  "jupytext": {
   "cell_metadata_filter": "-all",
   "main_language": "python",
   "notebook_metadata_filter": "-all"
  },
  "kernelspec": {
   "display_name": "3.13.1",
   "language": "python",
   "name": "python3"
  },
  "language_info": {
   "codemirror_mode": {
    "name": "ipython",
    "version": 3
   },
   "file_extension": ".py",
   "mimetype": "text/x-python",
   "name": "python",
   "nbconvert_exporter": "python",
   "pygments_lexer": "ipython3",
   "version": "3.13.1"
  }
 },
 "nbformat": 4,
 "nbformat_minor": 5
}
