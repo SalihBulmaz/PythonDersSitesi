{
 "cells": [
  {
   "cell_type": "markdown",
   "id": "7cde83d3",
   "metadata": {
    "lines_to_next_cell": 0
   },
   "source": [
    "# VS Code ve Python Kurulum Rehberi\n",
    "\n",
    "## 📚 İçindekiler\n",
    "- [Python Nedir?](#python-nedir)\n",
    "- [Python Kurulumu](#python-kurulumu)\n",
    "- [VS Code Kurulumu](#vs-code-kurulumu)\n",
    "- [VS Code Python Eklentileri](#vs-code-python-eklentileri)\n",
    "- [İlk Python Programınız](#ilk-python-programınız)\n",
    "- [Python Ortamı (Environment)](#python-ortamı-environment)\n",
    "- [Hata Ayıklama (Debugging)](#hata-ayıklama-debugging)\n",
    "- [Terminal Kullanımı](#terminal-kullanımı)\n",
    "- [Git Entegrasyonu](#git-entegrasyonu)\n",
    "- [Yararlı Kısayollar](#yararlı-kısayollar)\n",
    "- [Sık Karşılaşılan Sorunlar](#sık-karşılaşılan-sorunlar)\n",
    "\n",
    "---\n",
    "\n",
    "## 🐍 Python Nedir?\n",
    "\n",
    "Python, 1991 yılında Guido van Rossum tarafından geliştirilen, yüksek seviyeli, genel amaçlı bir programlama dilidir.\n",
    "\n",
    "### Python'un Avantajları:\n",
    "- ✅ **Öğrenmesi Kolay**: Temiz ve okunabilir sözdizimi\n",
    "- ✅ **Çok Yönlü**: Web, veri analizi, AI, oyun geliştirme\n",
    "- ✅ **Zengin Kütüphane**: 200,000+ paket\n",
    "- ✅ **Topluluk Desteği**: Büyük ve aktif topluluk\n",
    "- ✅ **Ücretsiz**: Açık kaynak kodlu\n",
    "\n",
    "### Python Kullanım Alanları:\n",
    "- 🌐 **Web Geliştirme**: Django, Flask\n",
    "- 📊 **Veri Analizi**: Pandas, NumPy\n",
    "- 🤖 **Yapay Zeka**: TensorFlow, PyTorch\n",
    "- 🎮 **Oyun Geliştirme**: Pygame\n",
    "- 🔧 **Otomasyon**: Selenium, Requests\n",
    "\n",
    "---\n",
    "\n",
    "## 💻 Python Kurulumu\n",
    "\n",
    "### Windows'ta Python Kurulumu:\n",
    "\n",
    "#### 1. Python İndirme\n",
    "1. [python.org](https://www.python.org/downloads/) adresine gidin\n",
    "2. \"Download Python\" butonuna tıklayın (en son sürüm)\n",
    "3. İndirilen `.exe` dosyasını çalıştırın\n",
    "\n",
    "#### 2. Kurulum Adımları\n",
    "```\n",
    "✅ Install launcher for all users (recommended)\n",
    "✅ Add Python to PATH\n",
    "✅ Install for all users\n",
    "```\n",
    "\n",
    "**ÖNEMLİ**: \"Add Python to PATH\" seçeneğini mutlaka işaretleyin!\n",
    "\n",
    "#### 3. Kurulumu Doğrulama\n",
    "Komut istemini açın (cmd) ve şu komutları yazın:"
   ]
  },
  {
   "cell_type": "code",
   "execution_count": null,
   "id": "f01aa4a8",
   "metadata": {},
   "outputs": [],
   "source": [
    "python --version\n",
    "pip --version"
   ]
  },
  {
   "cell_type": "markdown",
   "id": "6d94733f",
   "metadata": {
    "lines_to_next_cell": 0
   },
   "source": [
    "### macOS'ta Python Kurulumu:\n",
    "\n",
    "#### Yöntem 1: Homebrew ile (Önerilen)"
   ]
  },
  {
   "cell_type": "code",
   "execution_count": null,
   "id": "04bd6454",
   "metadata": {},
   "outputs": [],
   "source": [
    "# Homebrew kurulumu (yoksa)\n",
    "/bin/bash -c \"$(curl -fsSL https://raw.githubusercontent.com/Homebrew/install/HEAD/install.sh)\"\n",
    "\n",
    "# Python kurulumu\n",
    "brew install python"
   ]
  },
  {
   "cell_type": "markdown",
   "id": "a9f25529",
   "metadata": {
    "lines_to_next_cell": 0
   },
   "source": [
    "#### Yöntem 2: Resmi İndirici\n",
    "1. [python.org](https://www.python.org/downloads/) adresinden macOS sürümünü indirin\n",
    "2. `.pkg` dosyasını çalıştırın\n",
    "3. Kurulum sihirbazını takip edin\n",
    "\n",
    "### Linux'ta Python Kurulumu:\n",
    "\n",
    "#### Ubuntu/Debian:"
   ]
  },
  {
   "cell_type": "code",
   "execution_count": null,
   "id": "e944ebc6",
   "metadata": {},
   "outputs": [],
   "source": [
    "sudo apt update\n",
    "sudo apt install python3 python3-pip"
   ]
  },
  {
   "cell_type": "markdown",
   "id": "37229f91",
   "metadata": {
    "lines_to_next_cell": 0
   },
   "source": [
    "#### CentOS/RHEL:"
   ]
  },
  {
   "cell_type": "code",
   "execution_count": null,
   "id": "9e72c429",
   "metadata": {},
   "outputs": [],
   "source": [
    "sudo yum install python3 python3-pip"
   ]
  },
  {
   "cell_type": "markdown",
   "id": "fba58b69",
   "metadata": {},
   "source": [
    "---\n",
    "\n",
    "## 🔧 VS Code Kurulumu\n",
    "\n",
    "### VS Code İndirme ve Kurulum:\n",
    "\n",
    "#### 1. İndirme\n",
    "1. [code.visualstudio.com](https://code.visualstudio.com/) adresine gidin\n",
    "2. İşletim sisteminize uygun sürümü indirin:\n",
    "   - Windows: `.exe` dosyası\n",
    "   - macOS: `.dmg` dosyası\n",
    "   - Linux: `.deb` veya `.rpm` dosyası\n",
    "\n",
    "#### 2. Kurulum\n",
    "- **Windows**: İndirilen `.exe` dosyasını çalıştırın\n",
    "- **macOS**: `.dmg` dosyasını açın ve VS Code'u Applications klasörüne sürükleyin\n",
    "- **Linux**: Terminal'de `sudo dpkg -i code_*.deb` komutunu çalıştırın\n",
    "\n",
    "#### 3. İlk Açılış\n",
    "VS Code'u ilk açtığınızda:\n",
    "- Dil seçimi yapın (Türkçe seçebilirsiniz)\n",
    "- Tema seçimi yapın (Dark/Light)\n",
    "- Eklenti önerilerini inceleyin\n",
    "\n",
    "---\n",
    "\n",
    "## 🔌 VS Code Python Eklentileri\n",
    "\n",
    "### Temel Python Eklentileri:\n",
    "\n",
    "#### 1. **Python (Microsoft)**\n",
    "- **Açıklama**: Resmi Python eklentisi\n",
    "- **Özellikler**: IntelliSense, debugging, linting\n",
    "- **Kurulum**: VS Code'da Extensions sekmesinden \"Python\" arayın\n",
    "\n",
    "#### 2. **Pylance**\n",
    "- **Açıklama**: Gelişmiş Python dil sunucusu\n",
    "- **Özellikler**: Hızlı kod tamamlama, tip kontrolü\n",
    "- **Kurulum**: Python eklentisiyle birlikte gelir\n",
    "\n",
    "#### 3. **Python Indent**\n",
    "- **Açıklama**: Otomatik girinti ayarlama\n",
    "- **Özellikler**: Python sözdizimi için özel girinti\n",
    "\n",
    "#### 4. **Python Docstring Generator**\n",
    "- **Açıklama**: Otomatik dokümantasyon oluşturma\n",
    "- **Kullanım**: `Ctrl+Shift+2` (Windows) / `Cmd+Shift+2` (macOS)\n",
    "\n",
    "#### 5. **Python Test Explorer**\n",
    "- **Açıklama**: Test dosyalarını yönetme\n",
    "- **Özellikler**: pytest, unittest desteği\n",
    "\n",
    "### Yararlı Genel Eklentiler:\n",
    "\n",
    "#### 6. **Auto Rename Tag**\n",
    "- **Açıklama**: HTML/XML etiketlerini otomatik yeniden adlandırma\n",
    "\n",
    "#### 7. **Bracket Pair Colorizer**\n",
    "- **Açıklama**: Parantezleri renklendirme\n",
    "\n",
    "#### 8. **GitLens**\n",
    "- **Açıklama**: Git geçmişini görüntüleme\n",
    "- **Özellikler**: Satır bazında değişiklik geçmişi\n",
    "\n",
    "#### 9. **Live Server**\n",
    "- **Açıklama**: HTML dosyalarını canlı sunucuda açma\n",
    "\n",
    "#### 10. **Material Icon Theme**\n",
    "- **Açıklama**: Güzel dosya ikonları\n",
    "\n",
    "### Eklenti Kurulumu:\n",
    "1. VS Code'da `Ctrl+Shift+X` (Windows) / `Cmd+Shift+X` (macOS)\n",
    "2. Arama kutusuna eklenti adını yazın\n",
    "3. \"Install\" butonuna tıklayın\n",
    "\n",
    "---\n",
    "\n",
    "## 🚀 İlk Python Programınız\n",
    "\n",
    "### 1. Yeni Proje Oluşturma:\n",
    "1. VS Code'u açın\n",
    "2. `File > Open Folder` ile yeni bir klasör açın\n",
    "3. Klasör adı: `python_kursu`\n",
    "\n",
    "### 2. İlk Python Dosyası:\n",
    "1. Sol panelde \"New File\" butonuna tıklayın\n",
    "2. Dosya adı: `merhaba.py`\n",
    "3. Aşağıdaki kodu yazın:"
   ]
  },
  {
   "cell_type": "code",
   "execution_count": null,
   "id": "60ed086b",
   "metadata": {},
   "outputs": [],
   "source": [
    "%%python\n",
    "# Bu benim ilk Python programım!\n",
    "print(\"Merhaba, Dünya!\")\n",
    "\n",
    "# Kullanıcıdan isim alalım\n",
    "isim = input(\"Adınız nedir? \")\n",
    "print(f\"Hoş geldin, {isim}!\")\n",
    "\n",
    "# Basit bir hesaplama\n",
    "yas = int(input(\"Yaşınız kaç? \"))\n",
    "dogum_yili = 2024 - yas\n",
    "print(f\"{yas} yaşındasınız ve {dogum_yili} yılında doğmuşsunuz.\")"
   ]
  },
  {
   "cell_type": "markdown",
   "id": "1beb6ac4",
   "metadata": {
    "lines_to_next_cell": 0
   },
   "source": [
    "### 3. Programı Çalıştırma:\n",
    "- **Yöntem 1**: `F5` tuşuna basın\n",
    "- **Yöntem 2**: `Ctrl+F5` (Windows) / `Cmd+F5` (macOS)\n",
    "- **Yöntem 3**: Terminal'de `python merhaba.py`\n",
    "\n",
    "### 4. Çıktı:\n",
    "```\n",
    "Merhaba, Dünya!\n",
    "Adınız nedir? Ahmet\n",
    "Hoş geldin, Ahmet!\n",
    "Yaşınız kaç? 25\n",
    "25 yaşındasınız ve 1999 yılında doğmuşsunuz.\n",
    "```\n",
    "\n",
    "---\n",
    "\n",
    "## 🌍 Python Ortamı (Environment)\n",
    "\n",
    "### Sanal Ortam Nedir?\n",
    "Sanal ortam, Python projelerinizi izole etmenizi sağlar. Her proje kendi paketlerini kullanır.\n",
    "\n",
    "### Sanal Ortam Oluşturma:\n",
    "\n",
    "#### 1. Terminal'de Komut:"
   ]
  },
  {
   "cell_type": "code",
   "execution_count": null,
   "id": "62dab290",
   "metadata": {},
   "outputs": [],
   "source": [
    "# Proje klasörüne gidin\n",
    "cd python_kursu\n",
    "\n",
    "# Sanal ortam oluşturun\n",
    "python -m venv venv\n",
    "\n",
    "# Sanal ortamı aktifleştirin\n",
    "# Windows:\n",
    "venv\\Scripts\\activate\n",
    "\n",
    "# macOS/Linux:\n",
    "source venv/bin/activate"
   ]
  },
  {
   "cell_type": "markdown",
   "id": "31d736c7",
   "metadata": {
    "lines_to_next_cell": 0
   },
   "source": [
    "#### 2. VS Code'da Otomatik Seçim:\n",
    "1. `Ctrl+Shift+P` (Windows) / `Cmd+Shift+P` (macOS)\n",
    "2. \"Python: Select Interpreter\" yazın\n",
    "3. `./venv/bin/python` seçin\n",
    "\n",
    "### Paket Yönetimi:\n",
    "\n",
    "#### Paket Kurulumu:"
   ]
  },
  {
   "cell_type": "code",
   "execution_count": null,
   "id": "86b28f28",
   "metadata": {},
   "outputs": [],
   "source": [
    "# Sanal ortam aktifken\n",
    "pip install pandas numpy matplotlib"
   ]
  },
  {
   "cell_type": "markdown",
   "id": "8767f7d7",
   "metadata": {
    "lines_to_next_cell": 0
   },
   "source": [
    "#### requirements.txt Oluşturma:"
   ]
  },
  {
   "cell_type": "code",
   "execution_count": null,
   "id": "8fe50549",
   "metadata": {},
   "outputs": [],
   "source": [
    "pip freeze > requirements.txt"
   ]
  },
  {
   "cell_type": "markdown",
   "id": "a0f24043",
   "metadata": {
    "lines_to_next_cell": 0
   },
   "source": [
    "#### Paketleri requirements.txt'den Kurma:"
   ]
  },
  {
   "cell_type": "code",
   "execution_count": null,
   "id": "090e721e",
   "metadata": {},
   "outputs": [],
   "source": [
    "pip install -r requirements.txt"
   ]
  },
  {
   "cell_type": "markdown",
   "id": "a4d2f34a",
   "metadata": {
    "lines_to_next_cell": 0
   },
   "source": [
    "---\n",
    "\n",
    "## 🐛 Hata Ayıklama (Debugging)\n",
    "\n",
    "### Breakpoint Ekleme:\n",
    "1. Kod satırının soluna tıklayın (kırmızı nokta belirir)\n",
    "2. `F5` tuşuna basın\n",
    "3. Program breakpoint'te duracak\n",
    "\n",
    "### Debugging Kontrolleri:\n",
    "- **F5**: Devam et\n",
    "- **F10**: Adım adım (Step Over)\n",
    "- **F11**: İçeri gir (Step Into)\n",
    "- **Shift+F11**: Dışarı çık (Step Out)\n",
    "- **F9**: Breakpoint ekle/çıkar\n",
    "\n",
    "### Debugging Örneği:"
   ]
  },
  {
   "cell_type": "code",
   "execution_count": null,
   "id": "b3fb7e49",
   "metadata": {},
   "outputs": [],
   "source": [
    "%%python\n",
    "def toplama(a, b):\n",
    "    sonuc = a + b  # Breakpoint buraya\n",
    "    return sonuc\n",
    "\n",
    "x = 5\n",
    "y = 3\n",
    "z = toplama(x, y)\n",
    "print(f\"{x} + {y} = {z}\")"
   ]
  },
  {
   "cell_type": "markdown",
   "id": "c3a988c4",
   "metadata": {
    "lines_to_next_cell": 0
   },
   "source": [
    "### Debug Console:\n",
    "- Debugging sırasında değişkenleri kontrol edin\n",
    "- Python komutları çalıştırın\n",
    "- Değerleri inceleyin\n",
    "\n",
    "---\n",
    "\n",
    "## 💻 Terminal Kullanımı\n",
    "\n",
    "### VS Code Terminal'i Açma:\n",
    "- **Ctrl+`** (Windows) / **Cmd+`** (macOS)\n",
    "- **View > Terminal**\n",
    "- **Ctrl+Shift+P** > \"Terminal: Create New Terminal\"\n",
    "\n",
    "### Yararlı Terminal Komutları:\n",
    "\n",
    "#### Python Komutları:"
   ]
  },
  {
   "cell_type": "code",
   "execution_count": null,
   "id": "e428aae4",
   "metadata": {},
   "outputs": [],
   "source": [
    "# Python sürümü\n",
    "python --version\n",
    "\n",
    "# Python'u interaktif modda başlat\n",
    "python\n",
    "\n",
    "# Python dosyasını çalıştır\n",
    "python dosya_adi.py\n",
    "\n",
    "# Modülü çalıştır\n",
    "python -m modul_adi"
   ]
  },
  {
   "cell_type": "markdown",
   "id": "3d62073d",
   "metadata": {
    "lines_to_next_cell": 0
   },
   "source": [
    "#### Dosya İşlemleri:"
   ]
  },
  {
   "cell_type": "code",
   "execution_count": null,
   "id": "641cce69",
   "metadata": {},
   "outputs": [],
   "source": [
    "# Dizin değiştir\n",
    "cd klasor_adi\n",
    "\n",
    "# Bir üst dizine git\n",
    "cd ..\n",
    "\n",
    "# Dizin içeriğini listele\n",
    "dir          # Windows\n",
    "ls           # macOS/Linux\n",
    "\n",
    "# Dosya oluştur\n",
    "touch dosya.txt  # macOS/Linux\n",
    "echo. > dosya.txt  # Windows"
   ]
  },
  {
   "cell_type": "markdown",
   "id": "1dce1ee7",
   "metadata": {
    "lines_to_next_cell": 0
   },
   "source": [
    "#### Paket Yönetimi:"
   ]
  },
  {
   "cell_type": "code",
   "execution_count": null,
   "id": "50c8e738",
   "metadata": {},
   "outputs": [],
   "source": [
    "# Paket kur\n",
    "pip install paket_adi\n",
    "\n",
    "# Paket kaldır\n",
    "pip uninstall paket_adi\n",
    "\n",
    "# Kurulu paketleri listele\n",
    "pip list\n",
    "\n",
    "# Paket bilgisi\n",
    "pip show paket_adi"
   ]
  },
  {
   "cell_type": "markdown",
   "id": "64da222b",
   "metadata": {
    "lines_to_next_cell": 0
   },
   "source": [
    "---\n",
    "\n",
    "## 📝 Git Entegrasyonu\n",
    "\n",
    "### Git Kurulumu:\n",
    "1. [git-scm.com](https://git-scm.com/) adresinden indirin\n",
    "2. Kurulumu tamamlayın\n",
    "3. VS Code'da Git eklentisi otomatik çalışır\n",
    "\n",
    "### İlk Git Repository:"
   ]
  },
  {
   "cell_type": "code",
   "execution_count": null,
   "id": "8446bf4c",
   "metadata": {},
   "outputs": [],
   "source": [
    "# Git repository başlat\n",
    "git init\n",
    "\n",
    "# Dosyaları staging area'ya ekle\n",
    "git add .\n",
    "\n",
    "# İlk commit\n",
    "git commit -m \"İlk Python projesi\""
   ]
  },
  {
   "cell_type": "markdown",
   "id": "6b244603",
   "metadata": {
    "lines_to_next_cell": 0
   },
   "source": [
    "### VS Code Git Özellikleri:\n",
    "- **Source Control** sekmesi (Ctrl+Shift+G)\n",
    "- **Değişiklikleri görüntüleme**\n",
    "- **Commit ve push işlemleri**\n",
    "- **Branch yönetimi**\n",
    "\n",
    "### .gitignore Dosyası:"
   ]
  },
  {
   "cell_type": "code",
   "execution_count": null,
   "id": "d61008a9",
   "metadata": {},
   "outputs": [],
   "source": [
    "# Python\n",
    "__pycache__/\n",
    "*.py[cod]\n",
    "*$py.class\n",
    "venv/\n",
    ".env\n",
    "\n",
    "# VS Code\n",
    ".vscode/\n",
    "*.code-workspace\n",
    "\n",
    "# Sistem dosyaları\n",
    ".DS_Store\n",
    "Thumbs.db"
   ]
  },
  {
   "cell_type": "markdown",
   "id": "18defc62",
   "metadata": {
    "lines_to_next_cell": 0
   },
   "source": [
    "---\n",
    "\n",
    "## ⌨️ Yararlı Kısayollar\n",
    "\n",
    "### Genel Kısayollar:\n",
    "- **Ctrl+N**: Yeni dosya\n",
    "- **Ctrl+S**: Kaydet\n",
    "- **Ctrl+Z**: Geri al\n",
    "- **Ctrl+Y**: İleri al\n",
    "- **Ctrl+F**: Bul\n",
    "- **Ctrl+H**: Değiştir\n",
    "- **Ctrl+A**: Tümünü seç\n",
    "\n",
    "### Python Geliştirme:\n",
    "- **F5**: Çalıştır/Debug\n",
    "- **Ctrl+F5**: Çalıştır (Debug olmadan)\n",
    "- **F9**: Breakpoint\n",
    "- **Ctrl+Shift+P**: Komut paleti\n",
    "- **Ctrl+Space**: Kod tamamlama\n",
    "\n",
    "### Dosya Gezinme:\n",
    "- **Ctrl+P**: Dosya aç\n",
    "- **Ctrl+Shift+E**: Explorer\n",
    "- **Ctrl+Shift+F**: Arama\n",
    "- **Ctrl+Shift+X**: Eklentiler\n",
    "\n",
    "### Terminal:\n",
    "- **Ctrl+`**: Terminal aç/kapat\n",
    "- **Ctrl+Shift+`**: Yeni terminal\n",
    "- **Ctrl+Shift+5**: Terminal böl\n",
    "\n",
    "---\n",
    "\n",
    "## ❗ Sık Karşılaşılan Sorunlar\n",
    "\n",
    "### 1. \"Python is not recognized\"\n",
    "**Çözüm**: Python'u PATH'e ekleyin"
   ]
  },
  {
   "cell_type": "code",
   "execution_count": null,
   "id": "869147f2",
   "metadata": {},
   "outputs": [],
   "source": [
    "# Windows'ta PATH kontrolü\n",
    "echo %PATH%\n",
    "\n",
    "# Python'u PATH'e manuel ekleme\n",
    "set PATH=%PATH%;C:\\Python39\\"
   ]
  },
  {
   "cell_type": "markdown",
   "id": "8e678a3b",
   "metadata": {
    "lines_to_next_cell": 0
   },
   "source": [
    "### 2. \"pip is not recognized\"\n",
    "**Çözüm**: pip'i yeniden yükleyin"
   ]
  },
  {
   "cell_type": "code",
   "execution_count": null,
   "id": "6abfbfb5",
   "metadata": {},
   "outputs": [],
   "source": [
    "python -m ensurepip --upgrade"
   ]
  },
  {
   "cell_type": "markdown",
   "id": "5b64fa9e",
   "metadata": {
    "lines_to_next_cell": 0
   },
   "source": [
    "### 3. VS Code Python Interpreter Bulamıyor\n",
    "**Çözüm**:\n",
    "1. `Ctrl+Shift+P` > \"Python: Select Interpreter\"\n",
    "2. Python yolunu manuel seçin\n",
    "3. Sanal ortam kullanın\n",
    "\n",
    "### 4. Eklenti Çalışmıyor\n",
    "**Çözüm**:\n",
    "1. VS Code'u yeniden başlatın\n",
    "2. Eklentiyi kaldırıp yeniden kurun\n",
    "3. Python eklentisini güncelleyin\n",
    "\n",
    "### 5. Terminal'de Python Çalışmıyor\n",
    "**Çözüm**:"
   ]
  },
  {
   "cell_type": "code",
   "execution_count": null,
   "id": "390745dd",
   "metadata": {},
   "outputs": [],
   "source": [
    "# Python yolunu kontrol edin\n",
    "where python  # Windows\n",
    "which python  # macOS/Linux\n",
    "\n",
    "# Sanal ortamı aktifleştirin\n",
    "venv\\Scripts\\activate  # Windows\n",
    "source venv/bin/activate  # macOS/Linux"
   ]
  },
  {
   "cell_type": "markdown",
   "id": "8fc4ffb9",
   "metadata": {},
   "source": [
    "---\n",
    "\n",
    "## 🎯 Öneriler ve İpuçları\n",
    "\n",
    "### Geliştirme İpuçları:\n",
    "1. **Sanal ortam kullanın**: Her proje için ayrı ortam\n",
    "2. **Düzenli commit yapın**: Git kullanın\n",
    "3. **Kod formatını koruyun**: PEP 8 standartları\n",
    "4. **Dokümantasyon yazın**: Docstring kullanın\n",
    "5. **Test yazın**: Unit testler ekleyin\n",
    "\n",
    "### Performans İpuçları:\n",
    "1. **VS Code'u güncel tutun**\n",
    "2. **Gereksiz eklentileri kaldırın**\n",
    "3. **Büyük dosyaları bölün**\n",
    "4. **Linting kullanın**: Pylint, Flake8\n",
    "5. **Type hints kullanın**\n",
    "\n",
    "### Öğrenme Kaynakları:\n",
    "- **Python.org**: Resmi dokümantasyon\n",
    "- **Real Python**: Pratik örnekler\n",
    "- **Python Crash Course**: Kitap\n",
    "- **Automate the Boring Stuff**: Ücretsiz kitap\n",
    "- **Python for Everybody**: Coursera kursu\n",
    "\n",
    "---\n",
    "\n",
    "## 🎉 Sonuç\n",
    "\n",
    "VS Code ve Python kurulumunuz tamamlandı! Artık:\n",
    "\n",
    "✅ **Python programları yazabilirsiniz**  \n",
    "✅ **VS Code'un güçlü özelliklerini kullanabilirsiniz**  \n",
    "✅ **Sanal ortamlar oluşturabilirsiniz**  \n",
    "✅ **Debugging yapabilirsiniz**  \n",
    "✅ **Git ile versiyon kontrolü yapabilirsiniz**  \n",
    "\n",
    "Bir sonraki adımda Python'un temel konularını öğrenmeye başlayabilirsiniz. İyi çalışmalar! 🚀 "
   ]
  }
 ],
 "metadata": {
  "jupytext": {
   "cell_metadata_filter": "-all",
   "main_language": "bash",
   "notebook_metadata_filter": "-all"
  }
 },
 "nbformat": 4,
 "nbformat_minor": 5
}
