{
 "cells": [
  {
   "cell_type": "markdown",
   "id": "168dd64c",
   "metadata": {
    "lines_to_next_cell": 0
   },
   "source": [
    "# Python if, elif, else - Temel Kontrol Yapıları\n",
    "\n",
    "## Giriş\n",
    "\n",
    "Bu derste Python'da program akışını kontrol etmek için kullanılan temel yapıları öğreneceğiz: `if`, `elif` ve `else` ifadeleri. Bu yapılar sayesinde programlarımız farklı durumlara göre farklı davranışlar sergileyebilir.\n",
    "\n",
    "## Temel Veri Tipleri\n",
    "\n",
    "Önce kontrol yapılarında kullanacağımız temel veri tiplerini hatırlayalım:\n",
    "\n",
    "### Sayısal Veri Tipleri"
   ]
  },
  {
   "cell_type": "code",
   "execution_count": null,
   "id": "49aa6065",
   "metadata": {},
   "outputs": [],
   "source": [
    "# Integer (Tam sayılar)\n",
    "yas = 25\n",
    "ogrenci_sayisi = 30\n",
    "sıcaklık = -5\n",
    "\n",
    "# Float (Ondalıklı sayılar)\n",
    "boy = 1.75\n",
    "agırlık = 68.5\n",
    "ortalama = 85.7\n"
   ]
  },
  {
   "cell_type": "markdown",
   "id": "549aff11",
   "metadata": {
    "lines_to_next_cell": 0
   },
   "source": [
    "### String (Metin)"
   ]
  },
  {
   "cell_type": "code",
   "execution_count": null,
   "id": "68ec6fa1",
   "metadata": {},
   "outputs": [],
   "source": [
    "ad = \"Ahmet\"\n",
    "soyad = 'Yılmaz'\n",
    "mesaj = \"\"\"Bu çok satırlı\n",
    "bir metindir\"\"\""
   ]
  },
  {
   "cell_type": "markdown",
   "id": "c492d41a",
   "metadata": {
    "lines_to_next_cell": 0
   },
   "source": [
    "### Boolean (Mantıksal)"
   ]
  },
  {
   "cell_type": "code",
   "execution_count": null,
   "id": "c27c09d8",
   "metadata": {},
   "outputs": [],
   "source": [
    "dogru = True\n",
    "yanlış = False"
   ]
  },
  {
   "cell_type": "markdown",
   "id": "03aef419",
   "metadata": {},
   "source": [
    "## Aritmetik Operatörler"
   ]
  },
  {
   "cell_type": "code",
   "execution_count": null,
   "id": "08963775",
   "metadata": {},
   "outputs": [],
   "source": [
    "a = 10\n",
    "b = 3\n",
    "\n",
    "toplama = a + b        # 13\n",
    "çıkarma = a - b        # 7\n",
    "çarpma = a * b         # 30\n",
    "bölme = a / b          # 3.333...\n",
    "tam_bölme = a // b     # 3\n",
    "mod = a % b            # 1\n",
    "üs = a ** b            # 1000"
   ]
  },
  {
   "cell_type": "markdown",
   "id": "639c0440",
   "metadata": {},
   "source": [
    "## Mantıksal Operatörler"
   ]
  },
  {
   "cell_type": "code",
   "execution_count": null,
   "id": "9fc7a456",
   "metadata": {},
   "outputs": [],
   "source": [
    "x = True\n",
    "y = False\n",
    "\n",
    "# and operatörü - her iki koşul da doğru olmalı\n",
    "sonuç1 = x and y       # False\n",
    "\n",
    "# or operatörü - en az bir koşul doğru olmalı\n",
    "sonuç2 = x or y        # True\n",
    "\n",
    "# not operatörü - değeri tersine çevirir\n",
    "sonuç3 = not x         # False\n",
    "sonuç4 = not y         # True"
   ]
  },
  {
   "cell_type": "markdown",
   "id": "c0a1d071",
   "metadata": {},
   "source": [
    "## Karşılaştırma Operatörleri"
   ]
  },
  {
   "cell_type": "code",
   "execution_count": null,
   "id": "8923b9af",
   "metadata": {},
   "outputs": [],
   "source": [
    "a = 10\n",
    "b = 5\n",
    "\n",
    "eşit = a == b          # False\n",
    "eşit_değil = a != b    # True\n",
    "büyük = a > b          # True\n",
    "küçük = a < b          # False\n",
    "büyük_eşit = a >= b    # True\n",
    "küçük_eşit = a <= b    # False"
   ]
  },
  {
   "cell_type": "markdown",
   "id": "39278167",
   "metadata": {
    "lines_to_next_cell": 0
   },
   "source": [
    "## if Yapısı\n",
    "\n",
    "### Basit if"
   ]
  },
  {
   "cell_type": "code",
   "execution_count": null,
   "id": "850fe80a",
   "metadata": {},
   "outputs": [],
   "source": [
    "yas = 18\n",
    "\n",
    "if yas >= 18:\n",
    "    print(\"Reşitsiniz\")\n",
    "    print(\"Oy kullanabilirsiniz\")"
   ]
  },
  {
   "cell_type": "markdown",
   "id": "6b99c453",
   "metadata": {
    "lines_to_next_cell": 0
   },
   "source": [
    "### if-else Yapısı"
   ]
  },
  {
   "cell_type": "code",
   "execution_count": null,
   "id": "885cac59",
   "metadata": {},
   "outputs": [],
   "source": [
    "sıcaklık = 25\n",
    "\n",
    "if sıcaklık > 30:\n",
    "    print(\"Hava çok sıcak!\")\n",
    "    print(\"Bol su için\")\n",
    "else:\n",
    "    print(\"Hava sıcak değil\")\n",
    "    print(\"Normal kıyafet giyebilirsiniz\")"
   ]
  },
  {
   "cell_type": "markdown",
   "id": "5b93b117",
   "metadata": {
    "lines_to_next_cell": 0
   },
   "source": [
    "### if-elif-else Yapısı"
   ]
  },
  {
   "cell_type": "code",
   "execution_count": null,
   "id": "0e3c31f0",
   "metadata": {},
   "outputs": [],
   "source": [
    "not_değeri = 85\n",
    "\n",
    "if not_değeri >= 90:\n",
    "    print(\"AA - Mükemmel!\")\n",
    "elif not_değeri >= 80:\n",
    "    print(\"BA - Çok iyi!\")\n",
    "elif not_değeri >= 70:\n",
    "    print(\"BB - İyi\")\n",
    "elif not_değeri >= 60:\n",
    "    print(\"CB - Orta\")\n",
    "else:\n",
    "    print(\"FF - Başarısız\")"
   ]
  },
  {
   "cell_type": "markdown",
   "id": "f0316451",
   "metadata": {
    "lines_to_next_cell": 0
   },
   "source": [
    "## Detaylı Örnekler\n",
    "\n",
    "### Yaş Grupları"
   ]
  },
  {
   "cell_type": "code",
   "execution_count": null,
   "id": "428cb70d",
   "metadata": {},
   "outputs": [],
   "source": [
    "yas = 25\n",
    "\n",
    "if yas < 13:\n",
    "    kategori = \"Çocuk\"\n",
    "elif yas < 20:\n",
    "    kategori = \"Ergen\"\n",
    "elif yas < 65:\n",
    "    kategori = \"Yetişkin\"\n",
    "else:\n",
    "    kategori = \"Yaşlı\"\n",
    "\n",
    "print(f\"{yas} yaşındasınız, {kategori} kategorisindesiniz\")"
   ]
  },
  {
   "cell_type": "markdown",
   "id": "2b3303af",
   "metadata": {
    "lines_to_next_cell": 0
   },
   "source": [
    "### Hava Durumu Değerlendirmesi"
   ]
  },
  {
   "cell_type": "code",
   "execution_count": null,
   "id": "84325e52",
   "metadata": {},
   "outputs": [],
   "source": [
    "sıcaklık = 28\n",
    "nem_oranı = 70\n",
    "\n",
    "if sıcaklık > 35:\n",
    "    if nem_oranı > 80:\n",
    "        print(\"Çok sıcak ve nemli! Dikkatli olun\")\n",
    "    else:\n",
    "        print(\"Çok sıcak ama nem düşük\")\n",
    "elif sıcaklık > 25:\n",
    "    if nem_oranı > 70:\n",
    "        print(\"Sıcak ve nemli\")\n",
    "    else:\n",
    "        print(\"Güzel hava\")\n",
    "elif sıcaklık > 15:\n",
    "    print(\"Ilık hava\")\n",
    "elif sıcaklık > 5:\n",
    "    print(\"Serin hava\")\n",
    "else:\n",
    "    print(\"Soğuk hava\")"
   ]
  },
  {
   "cell_type": "markdown",
   "id": "30b6532b",
   "metadata": {
    "lines_to_next_cell": 0
   },
   "source": [
    "### Basit Hesap Makinesi"
   ]
  },
  {
   "cell_type": "code",
   "execution_count": null,
   "id": "c7bd184f",
   "metadata": {},
   "outputs": [],
   "source": [
    "sayı1 = 10\n",
    "sayı2 = 5\n",
    "işlem = \"+\"\n",
    "\n",
    "if işlem == \"+\":\n",
    "    sonuç = sayı1 + sayı2\n",
    "    print(f\"{sayı1} + {sayı2} = {sonuç}\")\n",
    "elif işlem == \"-\":\n",
    "    sonuç = sayı1 - sayı2\n",
    "    print(f\"{sayı1} - {sayı2} = {sonuç}\")\n",
    "elif işlem == \"*\":\n",
    "    sonuç = sayı1 * sayı2\n",
    "    print(f\"{sayı1} * {sayı2} = {sonuç}\")\n",
    "elif işlem == \"/\":\n",
    "    if sayı2 != 0:\n",
    "        sonuç = sayı1 / sayı2\n",
    "        print(f\"{sayı1} / {sayı2} = {sonuç}\")\n",
    "    else:\n",
    "        print(\"Sıfıra bölme hatası!\")\n",
    "else:\n",
    "    print(\"Geçersiz işlem\")"
   ]
  },
  {
   "cell_type": "markdown",
   "id": "3956d41d",
   "metadata": {
    "lines_to_next_cell": 0
   },
   "source": [
    "### Şifre Kontrolü"
   ]
  },
  {
   "cell_type": "code",
   "execution_count": null,
   "id": "f3d873bd",
   "metadata": {},
   "outputs": [],
   "source": [
    "doğru_şifre = \"1234\"\n",
    "girilen_şifre = \"1234\"\n",
    "\n",
    "if girilen_şifre == doğru_şifre:\n",
    "    print(\"Giriş başarılı!\")\n",
    "    print(\"Hoş geldiniz\")\n",
    "else:\n",
    "    print(\"Yanlış şifre!\")\n",
    "    print(\"Lütfen tekrar deneyin\")"
   ]
  },
  {
   "cell_type": "markdown",
   "id": "a4432fd0",
   "metadata": {
    "lines_to_next_cell": 0
   },
   "source": [
    "### Vücut Kitle İndeksi"
   ]
  },
  {
   "cell_type": "code",
   "execution_count": null,
   "id": "b48acf89",
   "metadata": {},
   "outputs": [],
   "source": [
    "kilo = 70\n",
    "boy = 1.75\n",
    "\n",
    "bmi = kilo / (boy ** 2)\n",
    "\n",
    "if bmi < 18.5:\n",
    "    kategori = \"Zayıf\"\n",
    "elif bmi < 25:\n",
    "    kategori = \"Normal\"\n",
    "elif bmi < 30:\n",
    "    kategori = \"Fazla kilolu\"\n",
    "else:\n",
    "    kategori = \"Obez\"\n",
    "\n",
    "print(f\"VKİ: {bmi:.1f}\")\n",
    "print(f\"Kategori: {kategori}\")"
   ]
  },
  {
   "cell_type": "markdown",
   "id": "583a0190",
   "metadata": {
    "lines_to_next_cell": 0
   },
   "source": [
    "### Çift/Tek Sayı Kontrolü"
   ]
  },
  {
   "cell_type": "code",
   "execution_count": null,
   "id": "c5c9ff5b",
   "metadata": {},
   "outputs": [],
   "source": [
    "sayı = 7\n",
    "\n",
    "if sayı % 2 == 0:\n",
    "    print(f\"{sayı} çift sayıdır\")\n",
    "else:\n",
    "    print(f\"{sayı} tek sayıdır\")"
   ]
  },
  {
   "cell_type": "markdown",
   "id": "aa55bdf1",
   "metadata": {
    "lines_to_next_cell": 0
   },
   "source": [
    "### Pozitif/Negatif/Sıfır Kontrolü"
   ]
  },
  {
   "cell_type": "code",
   "execution_count": null,
   "id": "3069c9a7",
   "metadata": {},
   "outputs": [],
   "source": [
    "sayı = -5\n",
    "\n",
    "if sayı > 0:\n",
    "    print(\"Pozitif sayı\")\n",
    "elif sayı < 0:\n",
    "    print(\"Negatif sayı\")\n",
    "else:\n",
    "    print(\"Sıfır\")"
   ]
  },
  {
   "cell_type": "markdown",
   "id": "9dec7c6d",
   "metadata": {
    "lines_to_next_cell": 0
   },
   "source": [
    "### Kredi Değerlendirmesi"
   ]
  },
  {
   "cell_type": "code",
   "execution_count": null,
   "id": "6d276a9f",
   "metadata": {},
   "outputs": [],
   "source": [
    "yas = 25\n",
    "gelir = 5000\n",
    "kredi_geçmişi = True\n",
    "\n",
    "if yas >= 18:\n",
    "    if gelir >= 3000:\n",
    "        if kredi_geçmişi:\n",
    "            print(\"Kredi onaylandı!\")\n",
    "        else:\n",
    "            print(\"Kredi geçmişi yetersiz\")\n",
    "    else:\n",
    "        print(\"Gelir yetersiz\")\n",
    "else:\n",
    "    print(\"Yaş yetersiz\")"
   ]
  },
  {
   "cell_type": "markdown",
   "id": "56d871f8",
   "metadata": {
    "lines_to_next_cell": 0
   },
   "source": [
    "## Pratik Alıştırmalar\n",
    "\n",
    "### Alıştırma 1: Not Değerlendirmesi"
   ]
  },
  {
   "cell_type": "code",
   "execution_count": null,
   "id": "0483f44b",
   "metadata": {},
   "outputs": [],
   "source": [
    "# Kullanıcıdan bir not alın (0-100 arası)\n",
    "# Bu nota göre harf notu verin:\n",
    "# 90-100: AA\n",
    "# 80-89: BA\n",
    "# 70-79: BB\n",
    "# 60-69: CB\n",
    "# 0-59: FF\n",
    "\n",
    "not_puani = 85  # Bu değeri değiştirerek test edin\n",
    "\n",
    "# Kodunuzu buraya yazın"
   ]
  },
  {
   "cell_type": "markdown",
   "id": "bfb5ceee",
   "metadata": {
    "lines_to_next_cell": 0
   },
   "source": [
    "### Alıştırma 2: Haftanın Günü"
   ]
  },
  {
   "cell_type": "code",
   "execution_count": null,
   "id": "b8b9e2bf",
   "metadata": {},
   "outputs": [],
   "source": [
    "# 1-7 arası bir sayı alın\n",
    "# Bu sayıya göre haftanın gününü yazdırın:\n",
    "# 1: Pazartesi, 2: Salı, 3: Çarşamba, 4: Perşembe\n",
    "# 5: Cuma, 6: Cumartesi, 7: Pazar\n",
    "\n",
    "gün_sayısı = 3  # Bu değeri değiştirerek test edin\n",
    "\n",
    "# Kodunuzu buraya yazın"
   ]
  },
  {
   "cell_type": "markdown",
   "id": "8400650c",
   "metadata": {
    "lines_to_next_cell": 0
   },
   "source": [
    "### Alıştırma 3: Üçgen Türü"
   ]
  },
  {
   "cell_type": "code",
   "execution_count": null,
   "id": "3d007833",
   "metadata": {},
   "outputs": [],
   "source": [
    "# Üç kenar uzunluğu verildiğinde üçgen türünü belirleyin\n",
    "# Eşkenar: Tüm kenarlar eşit\n",
    "# İkizkenar: İki kenar eşit\n",
    "# Çeşitkenar: Tüm kenarlar farklı\n",
    "\n",
    "a = 5\n",
    "b = 5\n",
    "c = 5\n",
    "\n",
    "# Kodunuzu buraya yazın"
   ]
  },
  {
   "cell_type": "markdown",
   "id": "56ef5318",
   "metadata": {
    "lines_to_next_cell": 0
   },
   "source": [
    "### Alıştırma 4: Basit Hesap Makinesi"
   ]
  },
  {
   "cell_type": "code",
   "execution_count": null,
   "id": "3e37554d",
   "metadata": {},
   "outputs": [],
   "source": [
    "# İki sayı ve bir işlem operatörü verildiğinde sonucu hesaplayın\n",
    "# Desteklenen işlemler: +, -, *, /\n",
    "\n",
    "sayı1 = 10\n",
    "sayı2 = 3\n",
    "işlem = \"*\"\n",
    "\n",
    "# Kodunuzu buraya yazın"
   ]
  },
  {
   "cell_type": "markdown",
   "id": "f6b062ed",
   "metadata": {
    "lines_to_next_cell": 0
   },
   "source": [
    "### Alıştırma 5: Mevsim Belirleme"
   ]
  },
  {
   "cell_type": "code",
   "execution_count": null,
   "id": "8a240e18",
   "metadata": {},
   "outputs": [],
   "source": [
    "# Ay numarası verildiğinde hangi mevsimde olduğunu belirleyin\n",
    "# İlkbahar: 3, 4, 5\n",
    "# Yaz: 6, 7, 8\n",
    "# Sonbahar: 9, 10, 11\n",
    "# Kış: 12, 1, 2\n",
    "\n",
    "ay = 7  # Bu değeri değiştirerek test edin\n",
    "\n",
    "# Kodunuzu buraya yazın"
   ]
  },
  {
   "cell_type": "markdown",
   "id": "a6119fd2",
   "metadata": {},
   "source": [
    "## Ödevler\n",
    "\n",
    "### Ödev 1: Yaş Kategorisi ve Aktivite Önerisi\n",
    "Bir kişinin yaşını alın ve şu kategorilere göre aktivite önerisi verin:\n",
    "- 0-2: Bebek (Emekleme ve oyun)\n",
    "- 3-5: Okul öncesi (Anaokulu aktiviteleri)\n",
    "- 6-12: Çocuk (Spor ve sanat)\n",
    "- 13-17: Ergen (Arkadaşlarla aktiviteler)\n",
    "- 18-25: Genç yetişkin (Üniversite ve kariyer)\n",
    "- 26-64: Yetişkin (İş ve aile)\n",
    "- 65+: Yaşlı (Hobi ve dinlenme)\n",
    "\n",
    "### Ödev 2: Basit ATM Sistemi\n",
    "Kullanıcının hesabında 1000 TL olduğunu varsayın. Kullanıcıdan işlem seçmesini isteyin:\n",
    "- 1: Para çekme\n",
    "- 2: Para yatırma\n",
    "- 3: Bakiye sorgulama\n",
    "- 4: Çıkış\n",
    "\n",
    "Para çekme işleminde yeterli bakiye kontrolü yapın.\n",
    "\n",
    "### Ödev 3: Hava Durumu ve Kıyafet Önerisi\n",
    "Sıcaklık ve hava durumunu (güneşli, yağmurlu, karlı) alın ve uygun kıyafet önerisi verin. Örneğin:\n",
    "- 30°C, güneşli → \"Şort ve t-shirt giyin, şapka takın\"\n",
    "- 5°C, karlı → \"Kalın mont, eldiven ve bere giyin\"\n",
    "\n",
    "### Ödev 4: Basit Quiz Sistemi\n",
    "3 soruluk bir quiz oluşturun. Her soru için doğru cevabı kontrol edin ve toplam puanı hesaplayın:\n",
    "- Her doğru cevap: 10 puan\n",
    "- Yanlış cevap: 0 puan\n",
    "- Sonuçta puanı değerlendirin:\n",
    "  - 30 puan: Mükemmel\n",
    "  - 20-29 puan: İyi\n",
    "  - 10-19 puan: Orta\n",
    "  - 0-9 puan: Geliştirilmeli\n",
    "\n",
    "### Ödev 5: Basit Oyun: Sayı Tahmin\n",
    "Bilgisayar 1-100 arası rastgele bir sayı seçsin. Kullanıcıdan tahmin alın ve:\n",
    "- Tahmin doğruysa: \"Tebrikler! X denemede buldunuz\"\n",
    "- Tahmin küçükse: \"Daha büyük bir sayı girin\"\n",
    "- Tahmin büyükse: \"Daha küçük bir sayı girin\"\n",
    "\n",
    "Maksimum 10 deneme hakkı verin.\n",
    "\n",
    "## Özet\n",
    "\n",
    "Bu derste öğrendiklerimiz:\n",
    "- `if`, `elif`, `else` yapılarını kullanarak koşullu işlemler yapabiliriz\n",
    "- Aritmetik operatörlerle matematiksel işlemler gerçekleştirebiliriz\n",
    "- Mantıksal operatörlerle karmaşık koşullar oluşturabiliriz\n",
    "- Karşılaştırma operatörleriyle değerleri karşılaştırabiliriz\n",
    "- İç içe if yapılarıyla daha detaylı kontroller yapabiliriz\n",
    "\n",
    "Bu temel yapılar, Python programlamanın en önemli yapı taşlarıdır ve neredeyse her programda kullanılır. "
   ]
  }
 ],
 "metadata": {
  "jupytext": {
   "cell_metadata_filter": "-all",
   "main_language": "python",
   "notebook_metadata_filter": "-all"
  }
 },
 "nbformat": 4,
 "nbformat_minor": 5
}
