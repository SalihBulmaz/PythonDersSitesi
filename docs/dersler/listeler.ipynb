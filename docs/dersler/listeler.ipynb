{
 "cells": [
  {
   "cell_type": "markdown",
   "id": "9b4a4765",
   "metadata": {
    "lines_to_next_cell": 0
   },
   "source": [
    "# Python Listeler (Lists)\n",
    "\n",
    "## Giriş\n",
    "\n",
    "Listeler, Python'da en çok kullanılan veri yapılarından biridir. Farklı veri türlerini içerebilen, değiştirilebilir (mutable) koleksiyonlardır.\n",
    "\n",
    "## Liste Oluşturma\n",
    "\n",
    "### Temel Liste Oluşturma"
   ]
  },
  {
   "cell_type": "code",
   "execution_count": null,
   "id": "813d44c1",
   "metadata": {},
   "outputs": [],
   "source": [
    "# Boş liste\n",
    "bos_liste = []\n",
    "bos_liste2 = list()\n",
    "\n",
    "# Elemanlı liste\n",
    "meyveler = [\"elma\", \"armut\", \"muz\"]\n",
    "sayilar = [1, 2, 3, 4, 5]\n",
    "karisik = [1, \"iki\", 3.0, True]\n",
    "\n",
    "print(meyveler)  # ['elma', 'armut', 'muz']\n",
    "print(type(meyveler))  # <class 'list'>"
   ]
  },
  {
   "cell_type": "markdown",
   "id": "ba551397",
   "metadata": {
    "lines_to_next_cell": 0
   },
   "source": [
    "### List Comprehension ile Liste Oluşturma"
   ]
  },
  {
   "cell_type": "code",
   "execution_count": null,
   "id": "b1beb609",
   "metadata": {},
   "outputs": [],
   "source": [
    "# 1'den 10'a kadar sayılar\n",
    "sayilar = [i for i in range(1, 11)]\n",
    "print(sayilar)  # [1, 2, 3, 4, 5, 6, 7, 8, 9, 10]\n",
    "\n",
    "# Çift sayılar\n",
    "cift_sayilar = [i for i in range(2, 21, 2)]\n",
    "print(cift_sayilar)  # [2, 4, 6, 8, 10, 12, 14, 16, 18, 20]\n",
    "\n",
    "# Kareleri\n",
    "kareler = [i**2 for i in range(1, 6)]\n",
    "print(kareler)  # [1, 4, 9, 16, 25]"
   ]
  },
  {
   "cell_type": "markdown",
   "id": "7e448356",
   "metadata": {
    "lines_to_next_cell": 0
   },
   "source": [
    "## Liste Elemanlarına Erişim\n",
    "\n",
    "### İndeks ile Erişim"
   ]
  },
  {
   "cell_type": "code",
   "execution_count": null,
   "id": "f472d0c1",
   "metadata": {},
   "outputs": [],
   "source": [
    "meyveler = [\"elma\", \"armut\", \"muz\", \"portakal\", \"kiraz\"]\n",
    "\n",
    "# İlk eleman (indeks 0)\n",
    "print(meyveler[0])  # elma\n",
    "\n",
    "# Son eleman\n",
    "print(meyveler[-1])  # kiraz\n",
    "print(meyveler[len(meyveler)-1])  # kiraz\n",
    "\n",
    "# Belirli bir eleman\n",
    "print(meyveler[2])  # muz"
   ]
  },
  {
   "cell_type": "markdown",
   "id": "9defdcd6",
   "metadata": {
    "lines_to_next_cell": 0
   },
   "source": [
    "### Slicing (Dilimleme)"
   ]
  },
  {
   "cell_type": "code",
   "execution_count": null,
   "id": "f46443c8",
   "metadata": {},
   "outputs": [],
   "source": [
    "sayilar = [0, 1, 2, 3, 4, 5, 6, 7, 8, 9]\n",
    "\n",
    "# Belirli aralık\n",
    "print(sayilar[2:5])    # [2, 3, 4]\n",
    "print(sayilar[1:8:2])  # [1, 3, 5, 7]\n",
    "\n",
    "# Baştan belirli noktaya\n",
    "print(sayilar[:3])     # [0, 1, 2]\n",
    "\n",
    "# Belirli noktadan sona\n",
    "print(sayilar[7:])     # [7, 8, 9]\n",
    "\n",
    "# Ters sıralama\n",
    "print(sayilar[::-1])   # [9, 8, 7, 6, 5, 4, 3, 2, 1, 0]\n",
    "\n",
    "# 2'şer atlayarak\n",
    "print(sayilar[::2])    # [0, 2, 4, 6, 8]"
   ]
  },
  {
   "cell_type": "markdown",
   "id": "022e1a90",
   "metadata": {
    "lines_to_next_cell": 0
   },
   "source": [
    "## Liste İşlemleri\n",
    "\n",
    "### Eleman Ekleme"
   ]
  },
  {
   "cell_type": "code",
   "execution_count": null,
   "id": "088beb7c",
   "metadata": {},
   "outputs": [],
   "source": [
    "meyveler = [\"elma\", \"armut\"]\n",
    "\n",
    "# Sona ekleme\n",
    "meyveler.append(\"muz\")\n",
    "print(meyveler)  # ['elma', 'armut', 'muz']\n",
    "\n",
    "# Belirli konuma ekleme\n",
    "meyveler.insert(1, \"kiraz\")\n",
    "print(meyveler)  # ['elma', 'kiraz', 'armut', 'muz']\n",
    "\n",
    "# Birden fazla eleman ekleme\n",
    "meyveler.extend([\"portakal\", \"mandalina\"])\n",
    "print(meyveler)  # ['elma', 'kiraz', 'armut', 'muz', 'portakal', 'mandalina']"
   ]
  },
  {
   "cell_type": "markdown",
   "id": "3a8fa96a",
   "metadata": {
    "lines_to_next_cell": 0
   },
   "source": [
    "### Eleman Silme"
   ]
  },
  {
   "cell_type": "code",
   "execution_count": null,
   "id": "7c0870a2",
   "metadata": {},
   "outputs": [],
   "source": [
    "meyveler = [\"elma\", \"kiraz\", \"armut\", \"muz\", \"portakal\"]\n",
    "\n",
    "# Değere göre silme\n",
    "meyveler.remove(\"kiraz\")\n",
    "print(meyveler)  # ['elma', 'armut', 'muz', 'portakal']\n",
    "\n",
    "# İndekse göre silme\n",
    "silinen = meyveler.pop(1)  # armut'u sil ve döndür\n",
    "print(silinen)  # armut\n",
    "print(meyveler)  # ['elma', 'muz', 'portakal']\n",
    "\n",
    "# Son elemanı silme\n",
    "son_eleman = meyveler.pop()\n",
    "print(son_eleman)  # portakal\n",
    "print(meyveler)  # ['elma', 'muz']\n",
    "\n",
    "# Tüm elemanları silme\n",
    "meyveler.clear()\n",
    "print(meyveler)  # []"
   ]
  },
  {
   "cell_type": "markdown",
   "id": "1093f976",
   "metadata": {
    "lines_to_next_cell": 0
   },
   "source": [
    "### Eleman Değiştirme"
   ]
  },
  {
   "cell_type": "code",
   "execution_count": null,
   "id": "82fae9a1",
   "metadata": {},
   "outputs": [],
   "source": [
    "meyveler = [\"elma\", \"armut\", \"muz\"]\n",
    "\n",
    "# Tek eleman değiştirme\n",
    "meyveler[1] = \"kiraz\"\n",
    "print(meyveler)  # ['elma', 'kiraz', 'muz']\n",
    "\n",
    "# Dilimleme ile değiştirme\n",
    "meyveler[0:2] = [\"portakal\", \"mandalina\"]\n",
    "print(meyveler)  # ['portakal', 'mandalina', 'muz']"
   ]
  },
  {
   "cell_type": "markdown",
   "id": "3e9494f8",
   "metadata": {
    "lines_to_next_cell": 0
   },
   "source": [
    "## Liste Metodları\n",
    "\n",
    "### Arama ve Kontrol"
   ]
  },
  {
   "cell_type": "code",
   "execution_count": null,
   "id": "72adbb39",
   "metadata": {},
   "outputs": [],
   "source": [
    "meyveler = [\"elma\", \"armut\", \"muz\", \"elma\", \"kiraz\"]\n",
    "\n",
    "# Eleman sayısı\n",
    "print(len(meyveler))  # 5\n",
    "\n",
    "# Eleman var mı?\n",
    "print(\"muz\" in meyveler)  # True\n",
    "print(\"portakal\" in meyveler)  # False\n",
    "\n",
    "# İlk bulunan elemanın indeksi\n",
    "print(meyveler.index(\"elma\"))  # 0\n",
    "\n",
    "# Eleman sayısı\n",
    "print(meyveler.count(\"elma\"))  # 2"
   ]
  },
  {
   "cell_type": "markdown",
   "id": "62469e7d",
   "metadata": {
    "lines_to_next_cell": 0
   },
   "source": [
    "### Sıralama ve Ters Çevirme"
   ]
  },
  {
   "cell_type": "code",
   "execution_count": null,
   "id": "5d766087",
   "metadata": {},
   "outputs": [],
   "source": [
    "sayilar = [3, 1, 4, 1, 5, 9, 2, 6]\n",
    "\n",
    "# Sıralama (orijinal listeyi değiştirir)\n",
    "sayilar.sort()\n",
    "print(sayilar)  # [1, 1, 2, 3, 4, 5, 6, 9]\n",
    "\n",
    "# Ters sıralama\n",
    "sayilar.sort(reverse=True)\n",
    "print(sayilar)  # [9, 6, 5, 4, 3, 2, 1, 1]\n",
    "\n",
    "# Sıralı kopya (orijinal listeyi değiştirmez)\n",
    "sayilar = [3, 1, 4, 1, 5, 9, 2, 6]\n",
    "sirali = sorted(sayilar)\n",
    "print(sirali)  # [1, 1, 2, 3, 4, 5, 6, 9]\n",
    "print(sayilar)  # [3, 1, 4, 1, 5, 9, 2, 6] (değişmedi)\n",
    "\n",
    "# Ters çevirme\n",
    "sayilar.reverse()\n",
    "print(sayilar)  # [6, 2, 9, 5, 1, 4, 1, 3]"
   ]
  },
  {
   "cell_type": "markdown",
   "id": "3f345704",
   "metadata": {
    "lines_to_next_cell": 0
   },
   "source": [
    "## İç İçe Listeler\n",
    "\n",
    "### 2D Liste (Matris)"
   ]
  },
  {
   "cell_type": "code",
   "execution_count": null,
   "id": "95f228ed",
   "metadata": {},
   "outputs": [],
   "source": [
    "# 3x3 matris\n",
    "matris = [\n",
    "    [1, 2, 3],\n",
    "    [4, 5, 6],\n",
    "    [7, 8, 9]\n",
    "]\n",
    "\n",
    "# Elemana erişim\n",
    "print(matris[0][1])  # 2\n",
    "print(matris[2][2])  # 9\n",
    "\n",
    "# Satır ekleme\n",
    "matris.append([10, 11, 12])\n",
    "print(matris)\n",
    "# [[1, 2, 3], [4, 5, 6], [7, 8, 9], [10, 11, 12]]"
   ]
  },
  {
   "cell_type": "markdown",
   "id": "118e6349",
   "metadata": {
    "lines_to_next_cell": 0
   },
   "source": [
    "### Liste Comprehension ile Matris"
   ]
  },
  {
   "cell_type": "code",
   "execution_count": null,
   "id": "3955d408",
   "metadata": {},
   "outputs": [],
   "source": [
    "# 3x3 sıfır matrisi\n",
    "sifir_matris = [[0 for j in range(3)] for i in range(3)]\n",
    "print(sifir_matris)  # [[0, 0, 0], [0, 0, 0], [0, 0, 0]]\n",
    "\n",
    "# Çarpım tablosu\n",
    "carpim_tablosu = [[i*j for j in range(1, 6)] for i in range(1, 6)]\n",
    "print(carpim_tablosu)\n",
    "# [[1, 2, 3, 4, 5], [2, 4, 6, 8, 10], [3, 6, 9, 12, 15], [4, 8, 12, 16, 20], [5, 10, 15, 20, 25]]"
   ]
  },
  {
   "cell_type": "markdown",
   "id": "dce09362",
   "metadata": {
    "lines_to_next_cell": 0
   },
   "source": [
    "## Liste ile Döngüler\n",
    "\n",
    "### For Döngüsü"
   ]
  },
  {
   "cell_type": "code",
   "execution_count": null,
   "id": "f46ac60b",
   "metadata": {},
   "outputs": [],
   "source": [
    "meyveler = [\"elma\", \"armut\", \"muz\", \"kiraz\"]\n",
    "\n",
    "# Elemanları yazdırma\n",
    "for meyve in meyveler:\n",
    "    print(meyve)\n",
    "\n",
    "# İndeks ile döngü\n",
    "for i in range(len(meyveler)):\n",
    "    print(f\"{i}: {meyveler[i]}\")\n",
    "\n",
    "# enumerate ile indeks ve değer\n",
    "for i, meyve in enumerate(meyveler):\n",
    "    print(f\"{i}: {meyve}\")"
   ]
  },
  {
   "cell_type": "markdown",
   "id": "57c900c6",
   "metadata": {
    "lines_to_next_cell": 0
   },
   "source": [
    "### While Döngüsü"
   ]
  },
  {
   "cell_type": "code",
   "execution_count": null,
   "id": "938a0ca5",
   "metadata": {},
   "outputs": [],
   "source": [
    "meyveler = [\"elma\", \"armut\", \"muz\", \"kiraz\"]\n",
    "i = 0\n",
    "\n",
    "while i < len(meyveler):\n",
    "    print(meyveler[i])\n",
    "    i += 1"
   ]
  },
  {
   "cell_type": "markdown",
   "id": "913012c0",
   "metadata": {
    "lines_to_next_cell": 0
   },
   "source": [
    "## Pratik Örnekler\n",
    "\n",
    "### Örnek 1: Not Ortalaması"
   ]
  },
  {
   "cell_type": "code",
   "execution_count": null,
   "id": "38ef6b2f",
   "metadata": {},
   "outputs": [],
   "source": [
    "notlar = [85, 90, 78, 92, 88]\n",
    "\n",
    "# Ortalama hesaplama\n",
    "toplam = sum(notlar)\n",
    "ortalama = toplam / len(notlar)\n",
    "\n",
    "print(f\"Notlar: {notlar}\")\n",
    "print(f\"Toplam: {toplam}\")\n",
    "print(f\"Ortalama: {ortalama:.2f}\")"
   ]
  },
  {
   "cell_type": "markdown",
   "id": "5530f1d2",
   "metadata": {
    "lines_to_next_cell": 0
   },
   "source": [
    "### Örnek 2: En Büyük ve En Küçük"
   ]
  },
  {
   "cell_type": "code",
   "execution_count": null,
   "id": "8bb38e5c",
   "metadata": {},
   "outputs": [],
   "source": [
    "sayilar = [23, 45, 12, 67, 34, 89, 56]\n",
    "\n",
    "en_buyuk = max(sayilar)\n",
    "en_kucuk = min(sayilar)\n",
    "\n",
    "print(f\"Sayılar: {sayilar}\")\n",
    "print(f\"En büyük: {en_buyuk}\")\n",
    "print(f\"En küçük: {en_kucuk}\")"
   ]
  },
  {
   "cell_type": "markdown",
   "id": "8e143c99",
   "metadata": {
    "lines_to_next_cell": 0
   },
   "source": [
    "### Örnek 3: Filtreleme"
   ]
  },
  {
   "cell_type": "code",
   "execution_count": null,
   "id": "f1bdd7f6",
   "metadata": {},
   "outputs": [],
   "source": [
    "sayilar = [1, 2, 3, 4, 5, 6, 7, 8, 9, 10]\n",
    "\n",
    "# Çift sayıları filtreleme\n",
    "cift_sayilar = [sayi for sayi in sayilar if sayi % 2 == 0]\n",
    "print(f\"Çift sayılar: {cift_sayilar}\")\n",
    "\n",
    "# 5'ten büyük sayıları filtreleme\n",
    "buyuk_sayilar = [sayi for sayi in sayilar if sayi > 5]\n",
    "print(f\"5'ten büyük sayılar: {buyuk_sayilar}\")"
   ]
  },
  {
   "cell_type": "markdown",
   "id": "0dbdeca3",
   "metadata": {},
   "source": [
    "## Önemli Notlar\n",
    "\n",
    "1. **Değiştirilebilir (Mutable)**: Listeler değiştirilebilir, elemanları eklenebilir, silinebilir, değiştirilebilir.\n",
    "\n",
    "2. **Referans**: Liste değişkenleri referans tutar, kopyalama yaparken dikkatli olun.\n",
    "\n",
    "3. **Performans**: Büyük listelerde `append()` ve `pop()` işlemleri hızlıdır, `insert()` ve `remove()` yavaştır.\n",
    "\n",
    "4. **Bellek**: Listeler dinamik olarak büyür ve küçülür.\n",
    "\n",
    "## Alıştırmalar\n",
    "\n",
    "1. 1'den 20'ye kadar olan sayıları içeren bir liste oluşturun.\n",
    "2. Bu listeden çift sayıları filtreleyin.\n",
    "3. Listenin ortalamasını hesaplayın.\n",
    "4. En büyük 3 sayıyı bulun.\n",
    "5. Listeyi ters çevirin."
   ]
  },
  {
   "cell_type": "code",
   "execution_count": null,
   "id": "a79a7e82",
   "metadata": {},
   "outputs": [],
   "source": [
    "# Çözüm\n",
    "sayilar = list(range(1, 21))\n",
    "cift_sayilar = [x for x in sayilar if x % 2 == 0]\n",
    "ortalama = sum(sayilar) / len(sayilar)\n",
    "en_buyuk_3 = sorted(sayilar, reverse=True)[:3]\n",
    "ters_liste = sayilar[::-1]\n",
    "\n",
    "print(f\"Orijinal: {sayilar}\")\n",
    "print(f\"Çift sayılar: {cift_sayilar}\")\n",
    "print(f\"Ortalama: {ortalama}\")\n",
    "print(f\"En büyük 3: {en_buyuk_3}\")\n",
    "print(f\"Ters liste: {ters_liste}\")"
   ]
  }
 ],
 "metadata": {
  "jupytext": {
   "cell_metadata_filter": "-all",
   "main_language": "python",
   "notebook_metadata_filter": "-all"
  }
 },
 "nbformat": 4,
 "nbformat_minor": 5
}
