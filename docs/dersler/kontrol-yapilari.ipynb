{
 "cells": [
  {
   "cell_type": "markdown",
   "id": "7686c50b",
   "metadata": {},
   "source": [
    "# Python Kontrol Yapıları\n",
    "\n",
    "## Giriş\n",
    "\n",
    "Kontrol yapıları, programların akışını yönetmemizi sağlar. Python'da koşullu ifadeler ve döngüler ile programlarımızı daha dinamik hale getirebiliriz.\n",
    "\n",
    "## Koşullu İfadeler (Conditional Statements)\n",
    "\n",
    "### if - elif - else Yapısı"
   ]
  },
  {
   "cell_type": "code",
   "execution_count": null,
   "id": "6e6eb353",
   "metadata": {},
   "outputs": [],
   "source": [
    "# Temel if yapısı\n",
    "yas = 18\n",
    "\n",
    "if yas >= 18:\n",
    "    print(\"Reşitsiniz\")"
   ]
  },
  {
   "cell_type": "code",
   "execution_count": null,
   "id": "e554e178",
   "metadata": {},
   "outputs": [],
   "source": [
    "# if-else yapısı\n",
    "sıcaklık = 25\n",
    "\n",
    "if sıcaklık > 30:\n",
    "    print(\"Hava çok sıcak!\")\n",
    "else:\n",
    "    print(\"Hava sıcak değil\")"
   ]
  },
  {
   "cell_type": "code",
   "execution_count": null,
   "id": "1b0dd717",
   "metadata": {},
   "outputs": [],
   "source": [
    "# if-elif-else yapısı\n",
    "not_değeri = 85\n",
    "\n",
    "if not_değeri >= 90:\n",
    "    print(\"AA\")\n",
    "elif not_değeri >= 80:\n",
    "    print(\"BA\")\n",
    "elif not_değeri >= 70:\n",
    "    print(\"BB\")\n",
    "elif not_değeri >= 60:\n",
    "    print(\"CB\")\n",
    "else:\n",
    "    print(\"FF\")"
   ]
  },
  {
   "cell_type": "markdown",
   "id": "048fdc9c",
   "metadata": {},
   "source": [
    "### İç İçe if Yapıları"
   ]
  },
  {
   "cell_type": "code",
   "execution_count": null,
   "id": "deba0be4",
   "metadata": {},
   "outputs": [],
   "source": [
    "yas = 25\n",
    "gelir = 5000\n",
    "\n",
    "if yas >= 18:\n",
    "    if gelir >= 3000:\n",
    "        print(\"Kredi alabilirsiniz\")\n",
    "    else:\n",
    "        print(\"Gelir yetersiz\")\n",
    "else:\n",
    "    print(\"Yaş yetersiz\")"
   ]
  },
  {
   "cell_type": "markdown",
   "id": "d134d70b",
   "metadata": {},
   "source": [
    "### Ternary Operator (Üçlü Operatör)"
   ]
  },
  {
   "cell_type": "code",
   "execution_count": null,
   "id": "7283b794",
   "metadata": {},
   "outputs": [],
   "source": [
    "yas = 20\n",
    "durum = \"Reşit\" if yas >= 18 else \"Reşit değil\"\n",
    "print(durum)\n",
    "\n",
    "# Uzun hali:\n",
    "if yas >= 18:\n",
    "    durum = \"Reşit\"\n",
    "else:\n",
    "    durum = \"Reşit değil\""
   ]
  },
  {
   "cell_type": "markdown",
   "id": "40c1bfda",
   "metadata": {},
   "source": [
    "### Mantıksal Operatörler"
   ]
  },
  {
   "cell_type": "code",
   "execution_count": null,
   "id": "ca4d1f67",
   "metadata": {},
   "outputs": [],
   "source": [
    "yas = 25\n",
    "gelir = 5000\n",
    "kredi_geçmişi = True\n",
    "\n",
    "# and operatörü\n",
    "if yas >= 18 and gelir >= 3000:\n",
    "    print(\"Kredi alabilirsiniz\")\n",
    "\n",
    "# or operatörü\n",
    "if yas >= 18 or gelir >= 10000:\n",
    "    print(\"Kredi değerlendirilebilir\")\n",
    "\n",
    "# not operatörü\n",
    "if not kredi_geçmişi:\n",
    "    print(\"Kredi geçmişi yok\")\n",
    "\n",
    "# Karmaşık koşullar\n",
    "if (yas >= 18 and gelir >= 3000) or kredi_geçmişi:\n",
    "    print(\"Kredi onaylandı\")"
   ]
  },
  {
   "cell_type": "markdown",
   "id": "a002d7b5",
   "metadata": {
    "lines_to_next_cell": 0
   },
   "source": [
    "## Döngüler (Loops)\n",
    "\n",
    "### for Döngüsü\n",
    "\n",
    "#### Liste ile Döngü"
   ]
  },
  {
   "cell_type": "code",
   "execution_count": null,
   "id": "1c7cb8e0",
   "metadata": {},
   "outputs": [],
   "source": [
    "meyveler = [\"elma\", \"armut\", \"muz\", \"portakal\"]\n",
    "\n",
    "for meyve in meyveler:\n",
    "    print(f\"Bu meyve: {meyve}\")"
   ]
  },
  {
   "cell_type": "markdown",
   "id": "c7dd7063",
   "metadata": {
    "lines_to_next_cell": 0
   },
   "source": [
    "#### range() ile Döngü"
   ]
  },
  {
   "cell_type": "code",
   "execution_count": null,
   "id": "b06fb5e6",
   "metadata": {},
   "outputs": [],
   "source": [
    "# 0'dan 4'e kadar\n",
    "for i in range(5):\n",
    "    print(i)  # 0, 1, 2, 3, 4\n",
    "\n",
    "# 1'den 10'a kadar\n",
    "for i in range(1, 11):\n",
    "    print(i)  # 1, 2, 3, ..., 10\n",
    "\n",
    "# 2'şer artarak\n",
    "for i in range(0, 10, 2):\n",
    "    print(i)  # 0, 2, 4, 6, 8"
   ]
  },
  {
   "cell_type": "markdown",
   "id": "012091d8",
   "metadata": {
    "lines_to_next_cell": 0
   },
   "source": [
    "#### Dictionary ile Döngü"
   ]
  },
  {
   "cell_type": "code",
   "execution_count": null,
   "id": "0fe57413",
   "metadata": {},
   "outputs": [],
   "source": [
    "öğrenci = {\n",
    "    \"ad\": \"Ali\",\n",
    "    \"yaş\": 20,\n",
    "    \"bölüm\": \"Bilgisayar\"\n",
    "}\n",
    "\n",
    "# Anahtarlar\n",
    "for anahtar in öğrenci.keys():\n",
    "    print(anahtar)\n",
    "\n",
    "# Değerler\n",
    "for değer in öğrenci.values():\n",
    "    print(değer)\n",
    "\n",
    "# Anahtar-değer çiftleri\n",
    "for anahtar, değer in öğrenci.items():\n",
    "    print(f\"{anahtar}: {değer}\")"
   ]
  },
  {
   "cell_type": "markdown",
   "id": "61e2880d",
   "metadata": {
    "lines_to_next_cell": 0
   },
   "source": [
    "#### enumerate() ile İndeks"
   ]
  },
  {
   "cell_type": "code",
   "execution_count": null,
   "id": "041c20e1",
   "metadata": {},
   "outputs": [],
   "source": [
    "meyveler = [\"elma\", \"armut\", \"muz\"]\n",
    "\n",
    "for indeks, meyve in enumerate(meyveler):\n",
    "    print(f\"{indeks}: {meyve}\")"
   ]
  },
  {
   "cell_type": "markdown",
   "id": "260aee32",
   "metadata": {},
   "source": [
    "### while Döngüsü"
   ]
  },
  {
   "cell_type": "code",
   "execution_count": null,
   "id": "eda47130",
   "metadata": {},
   "outputs": [],
   "source": [
    "# Basit while döngüsü\n",
    "sayı = 1\n",
    "while sayı <= 5:\n",
    "    print(sayı)\n",
    "    sayı += 1"
   ]
  },
  {
   "cell_type": "code",
   "execution_count": null,
   "id": "0bfdb1a2",
   "metadata": {},
   "outputs": [],
   "source": [
    "# Kullanıcı girişi ile\n",
    "şifre = \"1234\"\n",
    "giriş = \"\"\n",
    "deneme = 0\n",
    "\n",
    "while giriş != şifre and deneme < 3:\n",
    "    giriş = input(\"Şifreyi girin: \")\n",
    "    deneme += 1\n",
    "    if giriş != şifre:\n",
    "        print(f\"Yanlış! {3 - deneme} deneme hakkınız kaldı\")\n",
    "\n",
    "if giriş == şifre:\n",
    "    print(\"Giriş başarılı!\")\n",
    "else:\n",
    "    print(\"Hesap bloke edildi!\")"
   ]
  },
  {
   "cell_type": "markdown",
   "id": "5eaccab5",
   "metadata": {
    "lines_to_next_cell": 0
   },
   "source": [
    "### Döngü Kontrolü\n",
    "\n",
    "#### break - Döngüden Çıkma"
   ]
  },
  {
   "cell_type": "code",
   "execution_count": null,
   "id": "0f2cbebe",
   "metadata": {},
   "outputs": [],
   "source": [
    "sayılar = [1, 2, 3, 4, 5, 6, 7, 8, 9, 10]\n",
    "\n",
    "for sayı in sayılar:\n",
    "    if sayı == 5:\n",
    "        break\n",
    "    print(sayı)  # 1, 2, 3, 4"
   ]
  },
  {
   "cell_type": "markdown",
   "id": "a193c3c7",
   "metadata": {
    "lines_to_next_cell": 0
   },
   "source": [
    "#### continue - Atlama"
   ]
  },
  {
   "cell_type": "code",
   "execution_count": null,
   "id": "6f3f7205",
   "metadata": {},
   "outputs": [],
   "source": [
    "for i in range(1, 11):\n",
    "    if i % 2 == 0:  # Çift sayıları atla\n",
    "        continue\n",
    "    print(i)  # 1, 3, 5, 7, 9"
   ]
  },
  {
   "cell_type": "markdown",
   "id": "29c8a6e8",
   "metadata": {
    "lines_to_next_cell": 0
   },
   "source": [
    "#### else ile Döngü"
   ]
  },
  {
   "cell_type": "code",
   "execution_count": null,
   "id": "209c04b1",
   "metadata": {},
   "outputs": [],
   "source": [
    "for i in range(5):\n",
    "    print(i)\n",
    "else:\n",
    "    print(\"Döngü tamamlandı\")  # Döngü normal bittiğinde çalışır\n",
    "\n",
    "# break ile çıkıldığında else çalışmaz\n",
    "for i in range(5):\n",
    "    if i == 3:\n",
    "        break\n",
    "    print(i)\n",
    "else:\n",
    "    print(\"Bu çalışmaz\")"
   ]
  },
  {
   "cell_type": "markdown",
   "id": "3c2f7a69",
   "metadata": {
    "lines_to_next_cell": 0
   },
   "source": [
    "## List Comprehension\n",
    "\n",
    "### Temel List Comprehension"
   ]
  },
  {
   "cell_type": "code",
   "execution_count": null,
   "id": "39ad8c41",
   "metadata": {},
   "outputs": [],
   "source": [
    "# Geleneksel yöntem\n",
    "sayılar = [1, 2, 3, 4, 5]\n",
    "kareler = []\n",
    "for sayı in sayılar:\n",
    "    kareler.append(sayı ** 2)\n",
    "\n",
    "# List comprehension\n",
    "kareler = [sayı ** 2 for sayı in sayılar]"
   ]
  },
  {
   "cell_type": "markdown",
   "id": "30fa1364",
   "metadata": {
    "lines_to_next_cell": 0
   },
   "source": [
    "### Koşullu List Comprehension"
   ]
  },
  {
   "cell_type": "code",
   "execution_count": null,
   "id": "ed5c88bf",
   "metadata": {},
   "outputs": [],
   "source": [
    "sayılar = [1, 2, 3, 4, 5, 6, 7, 8, 9, 10]\n",
    "\n",
    "# Sadece çift sayıların kareleri\n",
    "çift_kareler = [x**2 for x in sayılar if x % 2 == 0]\n",
    "\n",
    "# Koşullu değer atama\n",
    "sonuçlar = [\"çift\" if x % 2 == 0 else \"tek\" for x in sayılar]"
   ]
  },
  {
   "cell_type": "markdown",
   "id": "530d526e",
   "metadata": {
    "lines_to_next_cell": 0
   },
   "source": [
    "### İç İçe List Comprehension"
   ]
  },
  {
   "cell_type": "code",
   "execution_count": null,
   "id": "762af000",
   "metadata": {},
   "outputs": [],
   "source": [
    "# 3x3 matris\n",
    "matris = [[i+j for j in range(3)] for i in range(0, 9, 3)]\n",
    "print(matris)  # [[0, 1, 2], [3, 4, 5], [6, 7, 8]]"
   ]
  },
  {
   "cell_type": "markdown",
   "id": "629d7d2f",
   "metadata": {
    "lines_to_next_cell": 0
   },
   "source": [
    "## Pratik Örnekler\n",
    "\n",
    "### Not Ortalaması Hesaplama"
   ]
  },
  {
   "cell_type": "code",
   "execution_count": null,
   "id": "576abd7d",
   "metadata": {},
   "outputs": [],
   "source": [
    "notlar = [85, 90, 78, 92, 88]\n",
    "\n",
    "def ortalama_hesapla(not_listesi):\n",
    "    if not not_listesi:\n",
    "        return 0\n",
    "    return sum(not_listesi) / len(not_listesi)\n",
    "\n",
    "ortalama = ortalama_hesapla(notlar)\n",
    "\n",
    "if ortalama >= 90:\n",
    "    harf = \"AA\"\n",
    "elif ortalama >= 80:\n",
    "    harf = \"BA\"\n",
    "elif ortalama >= 70:\n",
    "    harf = \"BB\"\n",
    "elif ortalama >= 60:\n",
    "    harf = \"CB\"\n",
    "else:\n",
    "    harf = \"FF\"\n",
    "\n",
    "print(f\"Ortalama: {ortalama:.1f} - Harf: {harf}\")"
   ]
  },
  {
   "cell_type": "markdown",
   "id": "0d33f919",
   "metadata": {
    "lines_to_next_cell": 0
   },
   "source": [
    "### Asal Sayı Kontrolü"
   ]
  },
  {
   "cell_type": "code",
   "execution_count": null,
   "id": "253b56e1",
   "metadata": {},
   "outputs": [],
   "source": [
    "def asal_mı(sayı):\n",
    "    if sayı < 2:\n",
    "        return False\n",
    "    for i in range(2, int(sayı ** 0.5) + 1):\n",
    "        if sayı % i == 0:\n",
    "            return False\n",
    "    return True\n",
    "\n",
    "# 1'den 50'ye kadar asal sayıları bul\n",
    "asal_sayılar = [sayı for sayı in range(1, 51) if asal_mı(sayı)]\n",
    "print(f\"1-50 arası asal sayılar: {asal_sayılar}\")"
   ]
  },
  {
   "cell_type": "markdown",
   "id": "56c1e758",
   "metadata": {
    "lines_to_next_cell": 0
   },
   "source": [
    "### Şifre Güvenlik Kontrolü"
   ]
  },
  {
   "cell_type": "code",
   "execution_count": null,
   "id": "121fb065",
   "metadata": {},
   "outputs": [],
   "source": [
    "def şifre_kontrol(şifre):\n",
    "    uzunluk_ok = len(şifre) >= 8\n",
    "    büyük_harf = any(c.isupper() for c in şifre)\n",
    "    küçük_harf = any(c.islower() for c in şifre)\n",
    "    rakam = any(c.isdigit() for c in şifre)\n",
    "    özel_karakter = any(c in \"!@#$%^&*\" for c in şifre)\n",
    "    \n",
    "    if uzunluk_ok and büyük_harf and küçük_harf and rakam and özel_karakter:\n",
    "        return \"Güçlü şifre\"\n",
    "    elif uzunluk_ok and büyük_harf and küçük_harf and rakam:\n",
    "        return \"Orta güçlükte şifre\"\n",
    "    else:\n",
    "        return \"Zayıf şifre\"\n",
    "\n",
    "test_şifreleri = [\"abc123\", \"Abc123!\", \"GüçlüŞifre123!\", \"12345678\"]\n",
    "for şifre in test_şifreleri:\n",
    "    print(f\"'{şifre}': {şifre_kontrol(şifre)}\")"
   ]
  },
  {
   "cell_type": "markdown",
   "id": "6c6c6d53",
   "metadata": {
    "lines_to_next_cell": 0
   },
   "source": [
    "### Basit Hesap Makinesi"
   ]
  },
  {
   "cell_type": "code",
   "execution_count": null,
   "id": "6f986360",
   "metadata": {},
   "outputs": [],
   "source": [
    "def hesap_makinesi():\n",
    "    print(\"Basit Hesap Makinesi\")\n",
    "    print(\"1. Toplama\")\n",
    "    print(\"2. Çıkarma\")\n",
    "    print(\"3. Çarpma\")\n",
    "    print(\"4. Bölme\")\n",
    "    print(\"5. Çıkış\")\n",
    "    \n",
    "    while True:\n",
    "        seçim = input(\"İşlem seçin (1-5): \")\n",
    "        \n",
    "        if seçim == \"5\":\n",
    "            print(\"Güle güle!\")\n",
    "            break\n",
    "        \n",
    "        if seçim not in [\"1\", \"2\", \"3\", \"4\"]:\n",
    "            print(\"Geçersiz seçim!\")\n",
    "            continue\n",
    "        \n",
    "        try:\n",
    "            sayı1 = float(input(\"Birinci sayı: \"))\n",
    "            sayı2 = float(input(\"İkinci sayı: \"))\n",
    "            \n",
    "            if seçim == \"1\":\n",
    "                sonuç = sayı1 + sayı2\n",
    "            elif seçim == \"2\":\n",
    "                sonuç = sayı1 - sayı2\n",
    "            elif seçim == \"3\":\n",
    "                sonuç = sayı1 * sayı2\n",
    "            elif seçim == \"4\":\n",
    "                if sayı2 == 0:\n",
    "                    print(\"Sıfıra bölme hatası!\")\n",
    "                    continue\n",
    "                sonuç = sayı1 / sayı2\n",
    "            \n",
    "            print(f\"Sonuç: {sonuç}\")\n",
    "            \n",
    "        except ValueError:\n",
    "            print(\"Geçersiz sayı girişi!\")\n",
    "\n",
    "# hesap_makinesi()  # Çalıştırmak için yorumu kaldırın"
   ]
  },
  {
   "cell_type": "markdown",
   "id": "829fd887",
   "metadata": {},
   "source": [
    "## Özet\n",
    "\n",
    "### Koşullu İfadeler\n",
    "- `if`, `elif`, `else` ile program akışını kontrol edebiliriz\n",
    "- Mantıksal operatörler (`and`, `or`, `not`) ile karmaşık koşullar oluşturabiliriz\n",
    "- Ternary operator ile kısa koşullu atamalar yapabiliriz\n",
    "\n",
    "### Döngüler\n",
    "- `for` döngüsü ile listeler, stringler, range() üzerinde iterasyon yapabiliriz\n",
    "- `while` döngüsü ile koşul sağlandığı sürece işlem yapabiliriz\n",
    "- `break` ile döngüden çıkabilir, `continue` ile atlama yapabiliriz\n",
    "\n",
    "### List Comprehension\n",
    "- Kısa ve etkili liste oluşturma yöntemi\n",
    "- Koşullu filtreleme ve dönüştürme işlemleri için idealdir\n",
    "\n",
    "Bu kontrol yapıları ile Python'da güçlü ve esnek programlar yazabiliriz. "
   ]
  }
 ],
 "metadata": {
  "jupytext": {
   "cell_metadata_filter": "-all",
   "main_language": "python",
   "notebook_metadata_filter": "-all"
  }
 },
 "nbformat": 4,
 "nbformat_minor": 5
}
