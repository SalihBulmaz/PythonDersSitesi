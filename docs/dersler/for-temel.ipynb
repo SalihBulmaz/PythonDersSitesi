{
 "cells": [
  {
   "cell_type": "markdown",
   "id": "417df56c",
   "metadata": {},
   "source": [
    "# Python For Döngüleri - Primitif Tipler Rehberi\n",
    "\n",
    "## Giriş\n",
    "\n",
    "Bu derste Python'da tekrarlayan işlemleri otomatikleştirmek için kullanılan `for` döngülerini öğreneceğiz. Bu rehberde sadece primitif veri tipleri (int, float, string, boolean) kullanarak örnekler yapacağız.\n",
    "\n",
    "## For Döngüsünün Temel Yapısı"
   ]
  },
  {
   "cell_type": "code",
   "execution_count": null,
   "id": "f983adde",
   "metadata": {},
   "outputs": [],
   "source": [
    "for değişken in koleksiyon:\n",
    "    # Yapılacak işlemler\n",
    "    print(değişken)"
   ]
  },
  {
   "cell_type": "markdown",
   "id": "0fce9a92",
   "metadata": {
    "lines_to_next_cell": 0
   },
   "source": [
    "## 1. String Üzerinde Döngü\n",
    "\n",
    "### Karakter Karakter Dolaşma"
   ]
  },
  {
   "cell_type": "code",
   "execution_count": null,
   "id": "78377677",
   "metadata": {},
   "outputs": [],
   "source": [
    "# String'in her karakterini yazdırma\n",
    "isim = \"Python\"\n",
    "for karakter in isim:\n",
    "    print(karakter)\n",
    "\n",
    "# Çıktı:\n",
    "# P\n",
    "# y\n",
    "# t\n",
    "# h\n",
    "# o\n",
    "# n"
   ]
  },
  {
   "cell_type": "markdown",
   "id": "4480f7d9",
   "metadata": {
    "lines_to_next_cell": 0
   },
   "source": [
    "### Karakterleri Sayma"
   ]
  },
  {
   "cell_type": "code",
   "execution_count": null,
   "id": "616c31ff",
   "metadata": {},
   "outputs": [],
   "source": [
    "# String'deki karakter sayısını bulma\n",
    "metin = \"Merhaba Dünya\"\n",
    "sayac = 0\n",
    "\n",
    "for karakter in metin:\n",
    "    sayac += 1\n",
    "\n",
    "print(f\"'{metin}' metninde {sayac} karakter var\")\n",
    "# Çıktı: 'Merhaba Dünya' metninde 13 karakter var"
   ]
  },
  {
   "cell_type": "markdown",
   "id": "9b0aa0ac",
   "metadata": {
    "lines_to_next_cell": 0
   },
   "source": [
    "### Belirli Karakterleri Sayma"
   ]
  },
  {
   "cell_type": "code",
   "execution_count": null,
   "id": "45ae291c",
   "metadata": {},
   "outputs": [],
   "source": [
    "# String'deki sesli harfleri sayma\n",
    "metin = \"Python programlama dili\"\n",
    "sesli_harfler = \"aeıioöuüAEIİOÖUÜ\"\n",
    "sayac = 0\n",
    "\n",
    "for karakter in metin:\n",
    "    if karakter in sesli_harfler:\n",
    "        sayac += 1\n",
    "\n",
    "print(f\"'{metin}' metninde {sayac} sesli harf var\")\n",
    "# Çıktı: 'Python programlama dili' metninde 7 sesli harf var"
   ]
  },
  {
   "cell_type": "markdown",
   "id": "cff1b6d3",
   "metadata": {
    "lines_to_next_cell": 0
   },
   "source": [
    "### Karakterleri Büyük Harfe Çevirme"
   ]
  },
  {
   "cell_type": "code",
   "execution_count": null,
   "id": "4d8986de",
   "metadata": {},
   "outputs": [],
   "source": [
    "# String'deki tüm karakterleri büyük harfe çevirme\n",
    "metin = \"python programlama\"\n",
    "buyuk_metin = \"\"\n",
    "\n",
    "for karakter in metin:\n",
    "    buyuk_metin += karakter.upper()\n",
    "\n",
    "print(buyuk_metin)\n",
    "# Çıktı: PYTHON PROGRAMLAMA"
   ]
  },
  {
   "cell_type": "markdown",
   "id": "a0ed5b98",
   "metadata": {
    "lines_to_next_cell": 0
   },
   "source": [
    "### Boolean Kullanımı ile Kontrol"
   ]
  },
  {
   "cell_type": "code",
   "execution_count": null,
   "id": "8e2adcce",
   "metadata": {},
   "outputs": [],
   "source": [
    "# String'de belirli bir karakter var mı kontrol etme\n",
    "metin = \"Python\"\n",
    "aranan_karakter = \"t\"\n",
    "bulundu = False\n",
    "\n",
    "for karakter in metin:\n",
    "    if karakter == aranan_karakter:\n",
    "        bulundu = True\n",
    "        break\n",
    "\n",
    "if bulundu:\n",
    "    print(f\"'{aranan_karakter}' karakteri bulundu!\")\n",
    "else:\n",
    "    print(f\"'{aranan_karakter}' karakteri bulunamadı!\")"
   ]
  },
  {
   "cell_type": "markdown",
   "id": "227d1a7d",
   "metadata": {
    "lines_to_next_cell": 0
   },
   "source": [
    "### Pratik Alıştırmalar\n",
    "\n",
    "**Alıştırma 1:** Kullanıcıdan bir kelime alın ve bu kelimedeki her karakteri ayrı satırlarda yazdırın.\n",
    "\n",
    "**Alıştırma 2:** Verilen bir string'deki boşluk karakterlerini sayın.\n",
    "\n",
    "**Alıştırma 3:** Bir string'deki büyük harf sayısını bulan program yazın.\n",
    "\n",
    "**Alıştırma 4:** Bir kelimeyi tersten yazdıran program yazın (döngü kullanarak).\n",
    "\n",
    "**Alıştırma 5:** Verilen bir string'de \"a\" karakteri var mı yok mu kontrol eden program yazın.\n",
    "\n",
    "## 2. Range() Fonksiyonu ile Döngü\n",
    "\n",
    "### Belirli Aralıkta Sayma"
   ]
  },
  {
   "cell_type": "code",
   "execution_count": null,
   "id": "e9eccad8",
   "metadata": {},
   "outputs": [],
   "source": [
    "# 1'den 10'a kadar sayma\n",
    "for i in range(1, 11):\n",
    "    print(i, end=\" \")\n",
    "# Çıktı: 1 2 3 4 5 6 7 8 9 10"
   ]
  },
  {
   "cell_type": "markdown",
   "id": "674058b1",
   "metadata": {
    "lines_to_next_cell": 0
   },
   "source": [
    "### 0'dan Başlayarak Sayma"
   ]
  },
  {
   "cell_type": "code",
   "execution_count": null,
   "id": "bb23ee85",
   "metadata": {},
   "outputs": [],
   "source": [
    "# 0'dan 9'a kadar sayma\n",
    "for i in range(10):\n",
    "    print(i, end=\" \")\n",
    "# Çıktı: 0 1 2 3 4 5 6 7 8 9"
   ]
  },
  {
   "cell_type": "markdown",
   "id": "ea234a24",
   "metadata": {
    "lines_to_next_cell": 0
   },
   "source": [
    "### Belirli Adımlarla Sayma"
   ]
  },
  {
   "cell_type": "code",
   "execution_count": null,
   "id": "6d16a6cc",
   "metadata": {},
   "outputs": [],
   "source": [
    "# 2'şer 2'şer sayma\n",
    "for i in range(0, 20, 2):\n",
    "    print(i, end=\" \")\n",
    "# Çıktı: 0 2 4 6 8 10 12 14 16 18\n",
    "\n",
    "# Geriye doğru sayma\n",
    "for i in range(10, 0, -1):\n",
    "    print(i, end=\" \")\n",
    "# Çıktı: 10 9 8 7 6 5 4 3 2 1"
   ]
  },
  {
   "cell_type": "markdown",
   "id": "27b2d50e",
   "metadata": {
    "lines_to_next_cell": 0
   },
   "source": [
    "### Sayılarla Matematik İşlemleri"
   ]
  },
  {
   "cell_type": "code",
   "execution_count": null,
   "id": "fd8b0fb3",
   "metadata": {},
   "outputs": [],
   "source": [
    "# 1'den 10'a kadar sayıların toplamını bulma\n",
    "toplam = 0\n",
    "for i in range(1, 11):\n",
    "    toplam += i\n",
    "\n",
    "print(f\"1'den 10'a kadar sayıların toplamı: {toplam}\")\n",
    "# Çıktı: 1'den 10'a kadar sayıların toplamı: 55"
   ]
  },
  {
   "cell_type": "markdown",
   "id": "b4df8561",
   "metadata": {
    "lines_to_next_cell": 0
   },
   "source": [
    "### Çarpım Tablosu"
   ]
  },
  {
   "cell_type": "code",
   "execution_count": null,
   "id": "3adda23f",
   "metadata": {},
   "outputs": [],
   "source": [
    "# 5'lik çarpım tablosu\n",
    "sayi = 5\n",
    "for i in range(1, 11):\n",
    "    sonuc = sayi * i\n",
    "    print(f\"{sayi} x {i} = {sonuc}\")\n",
    "\n",
    "# Çıktı:\n",
    "# 5 x 1 = 5\n",
    "# 5 x 2 = 10\n",
    "# 5 x 3 = 15\n",
    "# ...\n",
    "# 5 x 10 = 50"
   ]
  },
  {
   "cell_type": "markdown",
   "id": "bd88c4c7",
   "metadata": {
    "lines_to_next_cell": 0
   },
   "source": [
    "### Faktöriyel Hesaplama"
   ]
  },
  {
   "cell_type": "code",
   "execution_count": null,
   "id": "9f8bd274",
   "metadata": {},
   "outputs": [],
   "source": [
    "# Bir sayının faktöriyelini hesaplama\n",
    "sayi = 5\n",
    "faktoriyel = 1\n",
    "\n",
    "for i in range(1, sayi + 1):\n",
    "    faktoriyel *= i\n",
    "\n",
    "print(f\"{sayi}! = {faktoriyel}\")\n",
    "# Çıktı: 5! = 120"
   ]
  },
  {
   "cell_type": "markdown",
   "id": "ba42fef8",
   "metadata": {
    "lines_to_next_cell": 0
   },
   "source": [
    "### Float Değerlerle Çalışma"
   ]
  },
  {
   "cell_type": "code",
   "execution_count": null,
   "id": "ad5b25d3",
   "metadata": {},
   "outputs": [],
   "source": [
    "# 0.1'den 1.0'a kadar 0.1'er artırarak\n",
    "sayi = 0.1\n",
    "for i in range(10):\n",
    "    print(f\"{sayi:.1f}\")\n",
    "    sayi += 0.1"
   ]
  },
  {
   "cell_type": "markdown",
   "id": "a5792fb7",
   "metadata": {
    "lines_to_next_cell": 0
   },
   "source": [
    "### Pratik Alıştırmalar\n",
    "\n",
    "**Alıştırma 1:** 1'den 100'e kadar olan sayıların toplamını bulan program yazın.\n",
    "\n",
    "**Alıştırma 2:** 1'den 20'ye kadar olan çift sayıların çarpımını hesaplayan program yazın.\n",
    "\n",
    "**Alıştırma 3:** Kullanıcıdan bir sayı alın ve o sayının çarpım tablosunu yazdırın.\n",
    "\n",
    "**Alıştırma 4:** 50'den 1'e kadar geriye doğru 5'er azaltarak sayan program yazın.\n",
    "\n",
    "**Alıştırma 5:** 1'den 1000'e kadar olan sayılardan 7'ye tam bölünenleri sayan program yazın.\n",
    "\n",
    "## 3. İç İçe For Döngüleri\n",
    "\n",
    "### Dikdörtgen Çizme"
   ]
  },
  {
   "cell_type": "code",
   "execution_count": null,
   "id": "ad743e5f",
   "metadata": {},
   "outputs": [],
   "source": [
    "# Yıldızlarla dikdörtgen çizme\n",
    "satir = 5\n",
    "sutun = 10\n",
    "\n",
    "for i in range(satir):\n",
    "    for j in range(sutun):\n",
    "        print(\"*\", end=\"\")\n",
    "    print()  # Yeni satır\n",
    "\n",
    "# Çıktı:\n",
    "# **********\n",
    "# **********\n",
    "# **********\n",
    "# **********\n",
    "# **********"
   ]
  },
  {
   "cell_type": "markdown",
   "id": "2c8b91ea",
   "metadata": {
    "lines_to_next_cell": 0
   },
   "source": [
    "### Üçgen Çizme"
   ]
  },
  {
   "cell_type": "code",
   "execution_count": null,
   "id": "522c1db8",
   "metadata": {},
   "outputs": [],
   "source": [
    "# Yıldızlarla üçgen çizme\n",
    "yukseklik = 5\n",
    "\n",
    "for i in range(yukseklik):\n",
    "    for j in range(i + 1):\n",
    "        print(\"*\", end=\"\")\n",
    "    print()\n",
    "\n",
    "# Çıktı:\n",
    "# *\n",
    "# **\n",
    "# ***\n",
    "# ****\n",
    "# *****"
   ]
  },
  {
   "cell_type": "markdown",
   "id": "1512432c",
   "metadata": {
    "lines_to_next_cell": 0
   },
   "source": [
    "### Sayı Piramidi"
   ]
  },
  {
   "cell_type": "code",
   "execution_count": null,
   "id": "97e21756",
   "metadata": {},
   "outputs": [],
   "source": [
    "# Sayılarla piramit çizme\n",
    "yukseklik = 5\n",
    "\n",
    "for i in range(1, yukseklik + 1):\n",
    "    for j in range(1, i + 1):\n",
    "        print(j, end=\"\")\n",
    "    print()\n",
    "\n",
    "# Çıktı:\n",
    "# 1\n",
    "# 12\n",
    "# 123\n",
    "# 1234\n",
    "# 12345"
   ]
  },
  {
   "cell_type": "markdown",
   "id": "9ce2ba0f",
   "metadata": {
    "lines_to_next_cell": 0
   },
   "source": [
    "### Çarpım Tablosu Matrixi"
   ]
  },
  {
   "cell_type": "code",
   "execution_count": null,
   "id": "0a512370",
   "metadata": {},
   "outputs": [],
   "source": [
    "# 5x5 çarpım tablosu\n",
    "boyut = 5\n",
    "\n",
    "for i in range(1, boyut + 1):\n",
    "    for j in range(1, boyut + 1):\n",
    "        carpim = i * j\n",
    "        print(f\"{carpim:3}\", end=\" \")\n",
    "    print()\n",
    "\n",
    "# Çıktı:\n",
    "#   1   2   3   4   5 \n",
    "#   2   4   6   8  10 \n",
    "#   3   6   9  12  15 \n",
    "#   4   8  12  16  20 \n",
    "#   5  10  15  20  25"
   ]
  },
  {
   "cell_type": "markdown",
   "id": "6fb3f29a",
   "metadata": {
    "lines_to_next_cell": 0
   },
   "source": [
    "### Boolean ile Kontrol"
   ]
  },
  {
   "cell_type": "code",
   "execution_count": null,
   "id": "8d23a021",
   "metadata": {},
   "outputs": [],
   "source": [
    "# Asal sayı kontrolü (basit yöntem)\n",
    "sayi = 17\n",
    "asal_mi = True\n",
    "\n",
    "if sayi <= 1:\n",
    "    asal_mi = False\n",
    "else:\n",
    "    for i in range(2, sayi):\n",
    "        if sayi % i == 0:\n",
    "            asal_mi = False\n",
    "            break\n",
    "\n",
    "if asal_mi:\n",
    "    print(f\"{sayi} asal bir sayıdır\")\n",
    "else:\n",
    "    print(f\"{sayi} asal bir sayı değildir\")"
   ]
  },
  {
   "cell_type": "markdown",
   "id": "dc66e4d2",
   "metadata": {
    "lines_to_next_cell": 0
   },
   "source": [
    "### Pratik Alıştırmalar\n",
    "\n",
    "**Alıştırma 1:** 7 satır ve 7 sütunluk bir kare çizen program yazın.\n",
    "\n",
    "**Alıştırma 2:** Ters üçgen (tepesi aşağıda) çizen program yazın.\n",
    "\n",
    "**Alıştırma 3:** 1'den 10'a kadar tüm sayıların çarpım tablolarını yazdıran program yazın.\n",
    "\n",
    "**Alıştırma 4:** Verilen bir sayının mükemmel kare olup olmadığını kontrol eden program yazın.\n",
    "\n",
    "**Alıştırma 5:** İki sayı arasındaki tüm asal sayıları bulan program yazın.\n",
    "\n",
    "## 4. String İndeksleme ile Döngü\n",
    "\n",
    "### Karakterlerin Pozisyonlarını Bulma"
   ]
  },
  {
   "cell_type": "code",
   "execution_count": null,
   "id": "d7202761",
   "metadata": {},
   "outputs": [],
   "source": [
    "# Belirli bir karakterin string'deki pozisyonlarını bulma\n",
    "metin = \"Python programlama\"\n",
    "aranan = \"a\"\n",
    "\n",
    "for i in range(len(metin)):\n",
    "    if metin[i] == aranan:\n",
    "        print(f\"'{aranan}' karakteri {i}. pozisyonda bulundu\")\n",
    "\n",
    "# Çıktı:\n",
    "# 'a' karakteri 10. pozisyonda bulundu\n",
    "# 'a' karakteri 14. pozisyonda bulundu"
   ]
  },
  {
   "cell_type": "markdown",
   "id": "03e05419",
   "metadata": {
    "lines_to_next_cell": 0
   },
   "source": [
    "### String'i Ters Çevirme"
   ]
  },
  {
   "cell_type": "code",
   "execution_count": null,
   "id": "2c284544",
   "metadata": {},
   "outputs": [],
   "source": [
    "# String'i ters çevirme (indeks kullanarak)\n",
    "metin = \"Python\"\n",
    "ters_metin = \"\"\n",
    "\n",
    "for i in range(len(metin) - 1, -1, -1):\n",
    "    ters_metin += metin[i]\n",
    "\n",
    "print(f\"'{metin}' kelimesinin tersi: '{ters_metin}'\")\n",
    "# Çıktı: 'Python' kelimesinin tersi: 'nohtyP'"
   ]
  },
  {
   "cell_type": "markdown",
   "id": "a094fc81",
   "metadata": {
    "lines_to_next_cell": 0
   },
   "source": [
    "### Palindrom Kontrolü"
   ]
  },
  {
   "cell_type": "code",
   "execution_count": null,
   "id": "6bf8c84b",
   "metadata": {},
   "outputs": [],
   "source": [
    "# Kelime palindrom mu kontrol etme\n",
    "kelime = \"radar\"\n",
    "palindrom_mu = True\n",
    "\n",
    "for i in range(len(kelime) // 2):\n",
    "    if kelime[i] != kelime[len(kelime) - 1 - i]:\n",
    "        palindrom_mu = False\n",
    "        break\n",
    "\n",
    "if palindrom_mu:\n",
    "    print(f\"'{kelime}' bir palindromdur\")\n",
    "else:\n",
    "    print(f\"'{kelime}' bir palindrom değildir\")"
   ]
  },
  {
   "cell_type": "markdown",
   "id": "d78e3090",
   "metadata": {
    "lines_to_next_cell": 0
   },
   "source": [
    "### Pratik Alıştırmalar\n",
    "\n",
    "**Alıştırma 1:** Bir string'deki her karakterin kaçıncı pozisyonda olduğunu gösteren program yazın.\n",
    "\n",
    "**Alıştırma 2:** Verilen iki string'in aynı uzunlukta olup olmadığını kontrol eden program yazın.\n",
    "\n",
    "**Alıştırma 3:** Bir string'de aynı karakterin peş peşe kaç kez tekrarlandığını bulan program yazın.\n",
    "\n",
    "**Alıştırma 4:** Verilen bir cümledeki kelime sayısını döngü kullanarak bulan program yazın.\n",
    "\n",
    "**Alıştırma 5:** Bir string'in her karakterini bir satır aşağı kaydırarak yazdıran program yazın.\n",
    "\n",
    "## 5. Matematiksel Hesaplamalar\n",
    "\n",
    "### Ortalama Hesaplama"
   ]
  },
  {
   "cell_type": "code",
   "execution_count": null,
   "id": "ade60e57",
   "metadata": {},
   "outputs": [],
   "source": [
    "# Belirli sayıda sayının ortalamasını hesaplama\n",
    "toplam = 0.0\n",
    "adet = 5\n",
    "\n",
    "print(\"5 sayı girin:\")\n",
    "for i in range(adet):\n",
    "    sayi = float(input(f\"{i+1}. sayı: \"))\n",
    "    toplam += sayi\n",
    "\n",
    "ortalama = toplam / adet\n",
    "print(f\"Girilen sayıların ortalaması: {ortalama:.2f}\")"
   ]
  },
  {
   "cell_type": "markdown",
   "id": "d8ab260b",
   "metadata": {
    "lines_to_next_cell": 0
   },
   "source": [
    "### Güç Hesaplama"
   ]
  },
  {
   "cell_type": "code",
   "execution_count": null,
   "id": "898b50cb",
   "metadata": {},
   "outputs": [],
   "source": [
    "# Bir sayının kuvvetini hesaplama (** kullanmadan)\n",
    "taban = 2\n",
    "us = 8\n",
    "sonuc = 1\n",
    "\n",
    "for i in range(us):\n",
    "    sonuc *= taban\n",
    "\n",
    "print(f\"{taban}^{us} = {sonuc}\")\n",
    "# Çıktı: 2^8 = 256"
   ]
  },
  {
   "cell_type": "markdown",
   "id": "4dcbf1bf",
   "metadata": {
    "lines_to_next_cell": 0
   },
   "source": [
    "### Fibonacci Serisi"
   ]
  },
  {
   "cell_type": "code",
   "execution_count": null,
   "id": "f65edc61",
   "metadata": {},
   "outputs": [],
   "source": [
    "# Fibonacci serisinin ilk n terimini yazdırma\n",
    "n = 10\n",
    "a, b = 0, 1\n",
    "\n",
    "print(\"Fibonacci serisi:\")\n",
    "for i in range(n):\n",
    "    print(a, end=\" \")\n",
    "    a, b = b, a + b\n",
    "\n",
    "# Çıktı: 0 1 1 2 3 5 8 13 21 34"
   ]
  },
  {
   "cell_type": "markdown",
   "id": "37043a47",
   "metadata": {
    "lines_to_next_cell": 0
   },
   "source": [
    "### Rakamları Toplama"
   ]
  },
  {
   "cell_type": "code",
   "execution_count": null,
   "id": "8d54eb9e",
   "metadata": {},
   "outputs": [],
   "source": [
    "# Bir sayının rakamlarını toplama\n",
    "sayi = 12345\n",
    "rakam_toplami = 0\n",
    "\n",
    "# Sayıyı string'e çevirerek rakamlarına erişme\n",
    "for rakam_str in str(sayi):\n",
    "    rakam = int(rakam_str)\n",
    "    rakam_toplami += rakam\n",
    "\n",
    "print(f\"{sayi} sayısının rakamları toplamı: {rakam_toplami}\")\n",
    "# Çıktı: 12345 sayısının rakamları toplamı: 15"
   ]
  },
  {
   "cell_type": "markdown",
   "id": "78a5f34f",
   "metadata": {
    "lines_to_next_cell": 0
   },
   "source": [
    "### Pratik Alıştırmalar\n",
    "\n",
    "**Alıştırma 1:** 1'den 100'e kadar olan sayıların karelerinin toplamını bulan program yazın.\n",
    "\n",
    "**Alıştırma 2:** Verilen bir sayının basamak sayısını bulan program yazın.\n",
    "\n",
    "**Alıştırma 3:** Kullanıcıdan aldığı n sayının en büyüğünü bulan program yazın.\n",
    "\n",
    "**Alıştırma 4:** Bir sayının tersini (rakamları ters sırada) bulan program yazın.\n",
    "\n",
    "**Alıştırma 5:** Verilen iki sayı arasındaki sayıların ortalamasını hesaplayan program yazın.\n",
    "\n",
    "## 6. Karakter ve ASCII Kodları\n",
    "\n",
    "### ASCII Değerleri ile Çalışma"
   ]
  },
  {
   "cell_type": "code",
   "execution_count": null,
   "id": "26e4f2c0",
   "metadata": {},
   "outputs": [],
   "source": [
    "# Alfabenin büyük harflerini yazdırma\n",
    "print(\"Büyük harfler:\")\n",
    "for i in range(65, 91):  # A=65, Z=90\n",
    "    harf = chr(i)\n",
    "    print(f\"{harf} = {i}\")"
   ]
  },
  {
   "cell_type": "markdown",
   "id": "aaa24696",
   "metadata": {
    "lines_to_next_cell": 0
   },
   "source": [
    "### Karakter Şifreleme"
   ]
  },
  {
   "cell_type": "code",
   "execution_count": null,
   "id": "65e726c5",
   "metadata": {},
   "outputs": [],
   "source": [
    "# Basit Caesar şifresi (3 karakter kaydırma)\n",
    "metin = \"PYTHON\"\n",
    "sifreli_metin = \"\"\n",
    "\n",
    "for karakter in metin:\n",
    "    if karakter.isalpha():\n",
    "        ascii_degeri = ord(karakter)\n",
    "        yeni_ascii = ascii_degeri + 3\n",
    "        # Z'den sonra A'ya döndür\n",
    "        if yeni_ascii > 90:\n",
    "            yeni_ascii = yeni_ascii - 26\n",
    "        sifreli_karakter = chr(yeni_ascii)\n",
    "        sifreli_metin += sifreli_karakter\n",
    "    else:\n",
    "        sifreli_metin += karakter\n",
    "\n",
    "print(f\"Orijinal: {metin}\")\n",
    "print(f\"Şifreli: {sifreli_metin}\")\n",
    "# Çıktı: \n",
    "# Orijinal: PYTHON\n",
    "# Şifreli: SBWKRQ"
   ]
  },
  {
   "cell_type": "markdown",
   "id": "7bc4f8d0",
   "metadata": {},
   "source": [
    "### Pratik Alıştırmalar\n",
    "\n",
    "**Alıştırma 1:** Küçük harflerin ASCII değerlerini yazdıran program yazın.\n",
    "\n",
    "**Alıştırma 2:** Verilen bir string'deki her karakterin ASCII değerini gösteren program yazın.\n",
    "\n",
    "**Alıştırma 3:** Bir string'i 1 karakter ileri kaydıran şifreleme programı yazın.\n",
    "\n",
    "**Alıştırma 4:** Rakamların ASCII değerlerini (0-9) yazdıran program yazın.\n",
    "\n",
    "**Alıştırma 5:** Verilen bir karakterin alfabede kaçıncı sırada olduğunu bulan program yazın.\n",
    "\n",
    "## Genel Pratik Projeleri\n",
    "\n",
    "### Proje 1: Sayı Tahmin Oyunu Yardımcısı\n",
    "Kullanıcının 1-100 arasında tuttuğu sayıyı bulmak için sistematik tahminler yapan program yazın.\n",
    "\n",
    "### Proje 2: Basit Hesap Makinesi\n",
    "Döngü kullanarak kullanıcıdan sürekli işlem alan ve sonuçları gösteren hesap makinesi yazın.\n",
    "\n",
    "### Proje 3: Kelime Analizi Programı\n",
    "Bir metin dosyasından alınan kelimeleri analiz eden (karakter sayısı, sesli harf sayısı, vb.) program yazın.\n",
    "\n",
    "### Proje 4: Çarpım Tablosu Öğrenme Programı\n",
    "Öğrencilere çarpım tablosu soruları soran ve skorlarını tutan program yazın.\n",
    "\n",
    "### Proje 5: Basit Şifreleme/Deşifreleme\n",
    "Metinleri şifreleyip deşifreleyebilen basit bir program yazın.\n",
    "\n",
    "---\n",
    "\n",
    "## Özet\n",
    "\n",
    "Bu rehberde Python for döngülerini primitif veri tipleri ile nasıl kullanacağınızı öğrendiniz:\n",
    "\n",
    "- **String döngüleri**: Karakter karakter işleme\n",
    "- **Range döngüleri**: Sayısal aralıklarla çalışma  \n",
    "- **İç içe döngüler**: Karmaşık desenler oluşturma\n",
    "- **İndeksli döngüler**: Pozisyon bazlı işlemler\n",
    "- **Matematiksel hesaplamalar**: Döngülerle hesaplama\n",
    "- **ASCII işlemleri**: Karakter kodları ile çalışma\n",
    "\n",
    "Her bölümdeki pratik alıştırmaları yaparak konuları pekiştirin ve projelerle gerçek uygulamalar geliştirin."
   ]
  }
 ],
 "metadata": {
  "jupytext": {
   "cell_metadata_filter": "-all",
   "main_language": "python",
   "notebook_metadata_filter": "-all"
  }
 },
 "nbformat": 4,
 "nbformat_minor": 5
}
