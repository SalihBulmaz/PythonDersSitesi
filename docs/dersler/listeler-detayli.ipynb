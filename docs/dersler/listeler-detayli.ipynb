{
 "cells": [
  {
   "cell_type": "markdown",
   "id": "89cb4b05",
   "metadata": {},
   "source": [
    "# Python Liste İşlemleri - Detaylı Rehber\n",
    "\n",
    "## Giriş\n",
    "\n",
    "Bu derste Python'da **liste** (list) veri yapısını detaylı olarak öğreneceğiz. Listeler, Python'da en çok kullanılan veri yapılarından biridir ve çok esnek özelliklere sahiptir. **Index mantığını** iyice anlayarak, en çok kullanılan liste metodlarını öğreneceğiz.\n",
    "\n",
    "## Liste Nedir?\n",
    "\n",
    "Liste, farklı veri tiplerini içerebilen, sıralı (sequence) ve **mutable** (değiştirilebilir) bir veri yapısıdır."
   ]
  },
  {
   "cell_type": "code",
   "execution_count": 1,
   "id": "d6824a15",
   "metadata": {},
   "outputs": [
    {
     "name": "stdout",
     "output_type": "stream",
     "text": [
      "liste1: [1, 2, 3, 4, 5]\n",
      "liste2: ['Python', 'Java', 'C++']\n",
      "liste3: [1, 'Python', 3.14, True]\n",
      "liste4: []\n",
      "liste5: ['P', 'y', 't', 'h', 'o', 'n']\n",
      "liste6: [0, 1, 2, 3, 4]\n",
      "liste1 uzunluğu: 5\n",
      "liste2 uzunluğu: 3\n"
     ]
    }
   ],
   "source": [
    "# Liste oluşturma yöntemleri\n",
    "liste1 = [1, 2, 3, 4, 5]\n",
    "liste2 = [\"Python\", \"Java\", \"C++\"]\n",
    "liste3 = [1, \"Python\", 3.14, True]  # Farklı tipler\n",
    "liste4 = []  # Boş liste\n",
    "liste5 = list(\"Python\")  # String'den liste oluşturma\n",
    "liste6 = list(range(5))  # Range'den liste oluşturma\n",
    "\n",
    "print(f\"liste1: {liste1}\")\n",
    "print(f\"liste2: {liste2}\")\n",
    "print(f\"liste3: {liste3}\")\n",
    "print(f\"liste4: {liste4}\")\n",
    "print(f\"liste5: {liste5}\")  # ['P', 'y', 't', 'h', 'o', 'n']\n",
    "print(f\"liste6: {liste6}\")  # [0, 1, 2, 3, 4]\n",
    "\n",
    "# Liste uzunluğu\n",
    "print(f\"liste1 uzunluğu: {len(liste1)}\")\n",
    "print(f\"liste2 uzunluğu: {len(liste2)}\")"
   ]
  },
  {
   "cell_type": "markdown",
   "id": "da78d0ea",
   "metadata": {},
   "source": [
    "## Index Mantığı - Temel Kavram\n",
    "\n",
    "### Index Nedir?\n",
    "\n",
    "Index, liste içindeki elemanların **pozisyon numarası**dır. Python'da indexleme **0'dan başlar**."
   ]
  },
  {
   "cell_type": "code",
   "execution_count": 2,
   "id": "224df488",
   "metadata": {},
   "outputs": [
    {
     "name": "stdout",
     "output_type": "stream",
     "text": [
      "10\n",
      "20\n",
      "30\n",
      "40\n",
      "50\n"
     ]
    }
   ],
   "source": [
    "sayilar = [10, 20, 30, 40, 50]\n",
    "# Index:    0   1   2   3   4\n",
    "\n",
    "print(sayilar[0])  # 10 (ilk eleman)\n",
    "print(sayilar[1])  # 20\n",
    "print(sayilar[2])  # 30\n",
    "print(sayilar[3])  # 40\n",
    "print(sayilar[4])  # 50 (son eleman)"
   ]
  },
  {
   "cell_type": "markdown",
   "id": "d8aeb959",
   "metadata": {},
   "source": [
    "### Negatif Index\n",
    "\n",
    "Python'da **negatif index** kullanarak sondan başlayarak elemanlara erişebiliriz:"
   ]
  },
  {
   "cell_type": "code",
   "execution_count": 3,
   "id": "0fd9c4a7",
   "metadata": {},
   "outputs": [
    {
     "name": "stdout",
     "output_type": "stream",
     "text": [
      "50\n",
      "40\n",
      "30\n",
      "20\n",
      "10\n"
     ]
    }
   ],
   "source": [
    "sayilar = [10, 20, 30, 40, 50]\n",
    "# Pozitif index:  0   1   2   3   4\n",
    "# Negatif index: -5  -4  -3  -2  -1\n",
    "\n",
    "print(sayilar[-1])  # 50 (son eleman)\n",
    "print(sayilar[-2])  # 40\n",
    "print(sayilar[-3])  # 30\n",
    "print(sayilar[-4])  # 20\n",
    "print(sayilar[-5])  # 10 (ilk eleman)"
   ]
  },
  {
   "cell_type": "markdown",
   "id": "3607d7b6",
   "metadata": {},
   "source": [
    "### Index Hatası\n",
    "\n",
    "Var olmayan bir indexe erişmeye çalışırsak **IndexError** alırız:"
   ]
  },
  {
   "cell_type": "code",
   "execution_count": 6,
   "id": "84f664c0",
   "metadata": {},
   "outputs": [
    {
     "name": "stdout",
     "output_type": "stream",
     "text": [
      "Bu index mevcut değil!\n"
     ]
    }
   ],
   "source": [
    "sayilar = [10, 20, 30, 40, 50]\n",
    "# print(sayilar[5])  # IndexError: list index out of range\n",
    "# print(sayilar[-6]) # IndexError: list index out of range\n",
    "\n",
    "# Güvenli erişim için kontrol\n",
    "if len(sayilar) > 5:\n",
    "    print(sayilar[5])\n",
    "else:\n",
    "    print(\"Bu index mevcut değil!\")"
   ]
  },
  {
   "cell_type": "markdown",
   "id": "16a2cc77",
   "metadata": {},
   "source": [
    "### Liste Uzunluğu\n",
    "\n",
    "`len()` fonksiyonu ile listenin uzunluğunu öğrenebiliriz:"
   ]
  },
  {
   "cell_type": "code",
   "execution_count": null,
   "id": "ae7843d9",
   "metadata": {},
   "outputs": [],
   "source": [
    "sayilar = [10, 20, 30, 40, 50]\n",
    "uzunluk = len(sayilar)\n",
    "print(f\"Liste uzunluğu: {uzunluk}\")\n",
    "\n",
    "# Boş liste\n",
    "bos_liste = []\n",
    "print(f\"Boş liste uzunluğu: {len(bos_liste)}\")  # 0"
   ]
  },
  {
   "cell_type": "markdown",
   "id": "b1678aca",
   "metadata": {},
   "source": [
    "## Liste Slicing (Dilimleme)\n",
    "\n",
    "Listelerde de string'lerdeki gibi slicing kullanabiliriz. Format: `liste[başlangıç:bitiş:adım]`\n",
    "\n",
    "### Temel Slicing"
   ]
  },
  {
   "cell_type": "code",
   "execution_count": null,
   "id": "c36865c4",
   "metadata": {},
   "outputs": [],
   "source": [
    "sayilar = [10, 20, 30, 40, 50, 60, 70, 80, 90, 100]\n",
    "\n",
    "# Temel slicing\n",
    "print(sayilar[0:5])      # [10, 20, 30, 40, 50] (0'dan 5'e kadar, 5 dahil değil)\n",
    "print(sayilar[2:7])      # [30, 40, 50, 60, 70]\n",
    "print(sayilar[:5])       # [10, 20, 30, 40, 50] (baştan 5'e kadar)\n",
    "print(sayilar[5:])       # [60, 70, 80, 90, 100] (5'ten sona kadar)\n",
    "print(sayilar[:])        # [10, 20, 30, 40, 50, 60, 70, 80, 90, 100] (tamamı)\n",
    "\n",
    "# Tek eleman alma\n",
    "print(sayilar[0])        # 10\n",
    "print(sayilar[1])        # 20"
   ]
  },
  {
   "cell_type": "markdown",
   "id": "e9ca9fba",
   "metadata": {},
   "source": [
    "### Negatif Index ile Slicing"
   ]
  },
  {
   "cell_type": "code",
   "execution_count": null,
   "id": "902aa33f",
   "metadata": {},
   "outputs": [],
   "source": [
    "sayilar = [10, 20, 30, 40, 50, 60, 70, 80, 90, 100]\n",
    "\n",
    "# Negatif index ile slicing\n",
    "print(sayilar[-5:])      # [60, 70, 80, 90, 100] (sondan 5 eleman)\n",
    "print(sayilar[:-5])      # [10, 20, 30, 40, 50] (sondan 5 eleman hariç)\n",
    "print(sayilar[-7:-3])    # [40, 50, 60, 70] (sondan 7'den 3'e kadar)\n",
    "print(sayilar[-6:])      # [50, 60, 70, 80, 90, 100] (sondan 6 eleman)"
   ]
  },
  {
   "cell_type": "markdown",
   "id": "8f1e5574",
   "metadata": {},
   "source": [
    "### Adım (Step) Kullanımı"
   ]
  },
  {
   "cell_type": "code",
   "execution_count": 7,
   "id": "be7f24e3",
   "metadata": {},
   "outputs": [
    {
     "name": "stdout",
     "output_type": "stream",
     "text": [
      "[10, 30, 50, 70, 90]\n",
      "[20, 40, 60, 80, 100]\n",
      "[10, 40, 70, 100]\n",
      "[10, 50, 90]\n",
      "[100, 90, 80, 70, 60, 50, 40, 30, 20, 10]\n",
      "[100, 80, 60, 40, 20]\n"
     ]
    }
   ],
   "source": [
    "sayilar = [10, 20, 30, 40, 50, 60, 70, 80, 90, 100]\n",
    "\n",
    "# Adım kullanımı\n",
    "print(sayilar[::2])      # [10, 30, 50, 70, 90] (2'şer atlayarak)\n",
    "print(sayilar[1::2])     # [20, 40, 60, 80, 100] (1'den başlayarak 2'şer atlayarak)\n",
    "print(sayilar[::3])      # [10, 40, 70, 100] (3'er atlayarak)\n",
    "print(sayilar[::4])      # [10, 50, 90] (4'er atlayarak)\n",
    "\n",
    "# Negatif adım (tersten)\n",
    "print(sayilar[::-1])     # [100, 90, 80, 70, 60, 50, 40, 30, 20, 10] (tersten)\n",
    "print(sayilar[::-2])     # [100, 80, 60, 40, 20] (tersten 2'şer atlayarak)"
   ]
  },
  {
   "cell_type": "markdown",
   "id": "585795ec",
   "metadata": {},
   "source": [
    "### Pratik Slicing Örnekleri"
   ]
  },
  {
   "cell_type": "code",
   "execution_count": 8,
   "id": "f5ce217b",
   "metadata": {},
   "outputs": [
    {
     "name": "stdout",
     "output_type": "stream",
     "text": [
      "İlk 3 eleman: [1, 2, 3]\n",
      "Son 3 eleman: [8, 9, 10]\n",
      "Ortadaki elemanlar: [4, 5, 6, 7]\n",
      "Çift indeksli elemanlar: [1, 3, 5, 7, 9]\n"
     ]
    }
   ],
   "source": [
    "sayilar = [1, 2, 3, 4, 5, 6, 7, 8, 9, 10]\n",
    "\n",
    "# İlk 3 elemanı al\n",
    "ilk_uc = sayilar[:3]\n",
    "print(f\"İlk 3 eleman: {ilk_uc}\")  # [1, 2, 3]\n",
    "\n",
    "# Son 3 elemanı al\n",
    "son_uc = sayilar[-3:]\n",
    "print(f\"Son 3 eleman: {son_uc}\")  # [8, 9, 10]\n",
    "\n",
    "# Ortadaki elemanları al\n",
    "orta = sayilar[3:7]\n",
    "print(f\"Ortadaki elemanlar: {orta}\")  # [4, 5, 6, 7]\n",
    "\n",
    "# Çift indeksli elemanları al\n",
    "cift_indeks = sayilar[::2]\n",
    "print(f\"Çift indeksli elemanlar: {cift_indeks}\")  # [1, 3, 5, 7, 9]"
   ]
  },
  {
   "cell_type": "markdown",
   "id": "4f9f1166",
   "metadata": {},
   "source": [
    "## Liste Elemanlarına Erişim ve Değiştirme\n",
    "\n",
    "### Elemanlara Erişim"
   ]
  },
  {
   "cell_type": "code",
   "execution_count": 9,
   "id": "16e8f809",
   "metadata": {},
   "outputs": [
    {
     "name": "stdout",
     "output_type": "stream",
     "text": [
      "10\n",
      "30\n",
      "50\n",
      "30\n",
      "[1, 2, 3]\n",
      "2\n",
      "6\n"
     ]
    }
   ],
   "source": [
    "sayilar = [10, 20, 30, 40, 50]\n",
    "\n",
    "# Elemanlara erişim\n",
    "print(sayilar[0])    # 10\n",
    "print(sayilar[2])    # 30\n",
    "print(sayilar[-1])   # 50\n",
    "print(sayilar[-3])   # 30\n",
    "\n",
    "# İç içe listelerde erişim\n",
    "matris = [[1, 2, 3], [4, 5, 6], [7, 8, 9]]\n",
    "print(matris[0])      # [1, 2, 3]\n",
    "print(matris[0][1])   # 2\n",
    "print(matris[1][2])   # 6"
   ]
  },
  {
   "cell_type": "markdown",
   "id": "138f9cae",
   "metadata": {},
   "source": [
    "### Elemanları Değiştirme"
   ]
  },
  {
   "cell_type": "code",
   "execution_count": 11,
   "id": "7986ad25",
   "metadata": {},
   "outputs": [
    {
     "name": "stdout",
     "output_type": "stream",
     "text": [
      "[10, 25, 30, 40, 50]\n",
      "[10, 25, 30, 40, 55]\n",
      "[10, 22, 33, 40, 55]\n",
      "[10, 15, 16, 22, 33, 40, 55]\n"
     ]
    }
   ],
   "source": [
    "sayilar = [10, 20, 30, 40, 50]\n",
    "\n",
    "# Tek eleman değiştirme\n",
    "sayilar[1] = 25\n",
    "print(sayilar)       # [10, 25, 30, 40, 50]\n",
    "\n",
    "sayilar[-1] = 55\n",
    "print(sayilar)       # [10, 25, 30, 40, 55]\n",
    "\n",
    "# Slicing ile değiştirme\n",
    "sayilar[1:3] = [22, 33]\n",
    "print(sayilar)       # [10, 22, 33, 40, 55]\n",
    "\n",
    "# Birden fazla eleman ekleme\n",
    "sayilar[1:1] = [15, 16]  # 1. pozisyona ekle\n",
    "print(sayilar)       # [10, 15, 16, 22, 33, 40, 55]"
   ]
  },
  {
   "cell_type": "markdown",
   "id": "dc65d04d",
   "metadata": {},
   "source": [
    "## En Çok Kullanılan Liste Metodları\n",
    "\n",
    "### 1. Eleman Ekleme Metodları\n",
    "\n",
    "#### append() - Sona Eleman Ekleme"
   ]
  },
  {
   "cell_type": "code",
   "execution_count": null,
   "id": "26415ac4",
   "metadata": {},
   "outputs": [],
   "source": [
    "sayilar = [1, 2, 3]\n",
    "\n",
    "# append() - sona eleman ekleme\n",
    "sayilar.append(4)\n",
    "print(sayilar)  # [1, 2, 3, 4]\n",
    "\n",
    "sayilar.append(5)\n",
    "print(sayilar)  # [1, 2, 3, 4, 5]\n",
    "\n",
    "# Farklı tipler ekleyebiliriz\n",
    "sayilar.append(\"Python\")\n",
    "print(sayilar)  # [1, 2, 3, 4, 5, 'Python']\n",
    "\n",
    "# Liste ekleme\n",
    "sayilar.append([6, 7, 8])\n",
    "print(sayilar)  # [1, 2, 3, 4, 5, 'Python', [6, 7, 8]]"
   ]
  },
  {
   "cell_type": "markdown",
   "id": "b37ab0b9",
   "metadata": {},
   "source": [
    "#### insert() - Belirli Pozisyona Eleman Ekleme"
   ]
  },
  {
   "cell_type": "code",
   "execution_count": null,
   "id": "af0e9e98",
   "metadata": {},
   "outputs": [],
   "source": [
    "sayilar = [1, 2, 3, 4]\n",
    "\n",
    "# insert() - belirli pozisyona eleman ekleme\n",
    "sayilar.insert(1, 1.5)\n",
    "print(sayilar)  # [1, 1.5, 2, 3, 4]\n",
    "\n",
    "sayilar.insert(0, 0)\n",
    "print(sayilar)  # [0, 1, 1.5, 2, 3, 4]\n",
    "\n",
    "sayilar.insert(-1, 3.5)  # Son elemandan önce ekle\n",
    "print(sayilar)  # [0, 1, 1.5, 2, 3, 3.5, 4]\n",
    "\n",
    "# Son pozisyona ekleme\n",
    "sayilar.insert(len(sayilar), 5)\n",
    "print(sayilar)  # [0, 1, 1.5, 2, 3, 3.5, 4, 5]"
   ]
  },
  {
   "cell_type": "markdown",
   "id": "a7c7a927",
   "metadata": {},
   "source": [
    "#### extend() - Başka Bir Listeyi Ekleme"
   ]
  },
  {
   "cell_type": "code",
   "execution_count": null,
   "id": "1d446595",
   "metadata": {},
   "outputs": [],
   "source": [
    "liste1 = [1, 2, 3]\n",
    "liste2 = [4, 5, 6]\n",
    "\n",
    "# extend() - başka bir listeyi ekleme\n",
    "liste1.extend(liste2)\n",
    "print(liste1)  # [1, 2, 3, 4, 5, 6]\n",
    "\n",
    "# Farklı yöntemler\n",
    "liste3 = [7, 8, 9]\n",
    "liste1.extend(liste3)\n",
    "print(liste1)  # [1, 2, 3, 4, 5, 6, 7, 8, 9]\n",
    "\n",
    "# + operatörü ile birleştirme (yeni liste oluşturur)\n",
    "birlesik = liste1 + liste2\n",
    "print(birlesik)  # [1, 2, 3, 4, 5, 6, 7, 8, 9, 4, 5, 6]"
   ]
  },
  {
   "cell_type": "markdown",
   "id": "22d37ddc",
   "metadata": {},
   "source": [
    "### 2. Eleman Silme Metodları\n",
    "\n",
    "#### remove() - Değere Göre Silme"
   ]
  },
  {
   "cell_type": "code",
   "execution_count": null,
   "id": "02880fe0",
   "metadata": {},
   "outputs": [],
   "source": [
    "sayilar = [10, 20, 30, 20, 40, 50]\n",
    "\n",
    "# remove() - değere göre silme (ilk bulduğunu siler)\n",
    "sayilar.remove(20)\n",
    "print(sayilar)  # [10, 30, 20, 40, 50]\n",
    "\n",
    "sayilar.remove(20)  # İkinci 20'yi siler\n",
    "print(sayilar)  # [10, 30, 40, 50]\n",
    "\n",
    "# Olmayan eleman silmeye çalışırsak hata alırız\n",
    "# sayilar.remove(100)  # ValueError: list.remove(x): x not in list\n",
    "\n",
    "# Güvenli silme\n",
    "def guvenli_sil(liste, eleman):\n",
    "    if eleman in liste:\n",
    "        liste.remove(eleman)\n",
    "        return True\n",
    "    else:\n",
    "        return False\n",
    "\n",
    "print(guvenli_sil(sayilar, 30))  # True\n",
    "print(guvenli_sil(sayilar, 100)) # False"
   ]
  },
  {
   "cell_type": "markdown",
   "id": "8c4566e3",
   "metadata": {},
   "source": [
    "#### pop() - Index'e Göre Silme"
   ]
  },
  {
   "cell_type": "code",
   "execution_count": null,
   "id": "68750f37",
   "metadata": {},
   "outputs": [],
   "source": [
    "sayilar = [10, 20, 30, 40, 50]\n",
    "\n",
    "# pop() - index'e göre silme (varsayılan olarak son elemanı siler)\n",
    "silinen = sayilar.pop()\n",
    "print(f\"Silinen: {silinen}\")  # Silinen: 50\n",
    "print(sayilar)  # [10, 20, 30, 40]\n",
    "\n",
    "silinen2 = sayilar.pop(1)\n",
    "print(f\"Silinen: {silinen2}\")  # Silinen: 20\n",
    "print(sayilar)  # [10, 30, 40]\n",
    "\n",
    "# Son elemanı silme\n",
    "son_eleman = sayilar.pop(-1)\n",
    "print(f\"Son eleman: {son_eleman}\")  # Son eleman: 40\n",
    "print(sayilar)  # [10, 30]\n",
    "\n",
    "# Boş listeden pop yapmaya çalışırsak hata alırız\n",
    "# sayilar.pop()  # IndexError: pop from empty list"
   ]
  },
  {
   "cell_type": "markdown",
   "id": "bb1163a5",
   "metadata": {},
   "source": [
    "#### del - Index veya Slicing ile Silme"
   ]
  },
  {
   "cell_type": "code",
   "execution_count": null,
   "id": "121f5bdb",
   "metadata": {},
   "outputs": [],
   "source": [
    "sayilar = [10, 20, 30, 40, 50, 60, 70]\n",
    "\n",
    "# del - index veya slicing ile silme\n",
    "del sayilar[0]\n",
    "print(sayilar)  # [20, 30, 40, 50, 60, 70]\n",
    "\n",
    "del sayilar[1:3]  # 1'den 3'e kadar sil (3 dahil değil)\n",
    "print(sayilar)  # [20, 50, 60, 70]\n",
    "\n",
    "del sayilar[-1]  # Son elemanı sil\n",
    "print(sayilar)  # [20, 50, 60]\n",
    "\n",
    "# Tüm listeyi sil\n",
    "del sayilar[:]\n",
    "print(sayilar)  # []"
   ]
  },
  {
   "cell_type": "markdown",
   "id": "a04f325c",
   "metadata": {},
   "source": [
    "#### clear() - Tüm Elemanları Silme"
   ]
  },
  {
   "cell_type": "code",
   "execution_count": null,
   "id": "1b6521b3",
   "metadata": {},
   "outputs": [],
   "source": [
    "sayilar = [1, 2, 3, 4, 5]\n",
    "\n",
    "# clear() - tüm elemanları silme\n",
    "sayilar.clear()\n",
    "print(sayilar)  # []\n",
    "print(len(sayilar))  # 0"
   ]
  },
  {
   "cell_type": "markdown",
   "id": "5cfe39ea",
   "metadata": {},
   "source": [
    "### 3. Arama ve Sıralama Metodları\n",
    "\n",
    "#### index() - Elemanın Index'ini Bulma"
   ]
  },
  {
   "cell_type": "code",
   "execution_count": null,
   "id": "1a43cb1e",
   "metadata": {},
   "outputs": [],
   "source": [
    "sayilar = [3, 1, 4, 1, 5, 9, 2, 6]\n",
    "\n",
    "# index() - elemanın index'ini bulma\n",
    "print(sayilar.index(1))      # 1 (ilk bulduğunun index'i)\n",
    "print(sayilar.index(1, 2))   # 3 (2'den sonra ara)\n",
    "print(sayilar.index(5))      # 4\n",
    "\n",
    "# Olmayan eleman ararsak hata alırız\n",
    "# print(sayilar.index(10))   # ValueError: 10 is not in list\n",
    "\n",
    "# Güvenli arama\n",
    "def guvenli_index(liste, eleman):\n",
    "    try:\n",
    "        return liste.index(eleman)\n",
    "    except ValueError:\n",
    "        return -1\n",
    "\n",
    "print(guvenli_index(sayilar, 5))   # 4\n",
    "print(guvenli_index(sayilar, 10))  # -1"
   ]
  },
  {
   "cell_type": "markdown",
   "id": "a48edb0c",
   "metadata": {},
   "source": [
    "#### count() - Elemanın Kaç Kez Geçtiğini Sayma"
   ]
  },
  {
   "cell_type": "code",
   "execution_count": null,
   "id": "996b062b",
   "metadata": {},
   "outputs": [],
   "source": [
    "sayilar = [1, 2, 2, 3, 2, 4, 5, 2]\n",
    "\n",
    "# count() - elemanın kaç kez geçtiğini sayma\n",
    "print(sayilar.count(2))      # 4\n",
    "print(sayilar.count(1))      # 1\n",
    "print(sayilar.count(10))     # 0\n",
    "\n",
    "# Pratik örnek - En çok geçen elemanı bulma\n",
    "def en_cok_gecen(liste):\n",
    "    if not liste:\n",
    "        return None\n",
    "    \n",
    "    en_cok_eleman = liste[0]\n",
    "    en_cok_sayi = liste.count(liste[0])\n",
    "    \n",
    "    for eleman in liste:\n",
    "        sayi = liste.count(eleman)\n",
    "        if sayi > en_cok_sayi:\n",
    "            en_cok_sayi = sayi\n",
    "            en_cok_eleman = eleman\n",
    "    \n",
    "    return en_cok_eleman, en_cok_sayi\n",
    "\n",
    "sonuc = en_cok_gecen(sayilar)\n",
    "print(f\"En çok geçen: {sonuc[0]} ({sonuc[1]} kez)\")"
   ]
  },
  {
   "cell_type": "markdown",
   "id": "b36f5dda",
   "metadata": {},
   "source": [
    "#### sort() - Sıralama"
   ]
  },
  {
   "cell_type": "code",
   "execution_count": null,
   "id": "7c021a91",
   "metadata": {},
   "outputs": [],
   "source": [
    "sayilar = [3, 1, 4, 1, 5, 9, 2, 6]\n",
    "\n",
    "# sort() - sıralama (listeyi değiştirir)\n",
    "sayilar.sort()\n",
    "print(sayilar)  # [1, 1, 2, 3, 4, 5, 6, 9]\n",
    "\n",
    "# Ters sıralama\n",
    "sayilar.sort(reverse=True)\n",
    "print(sayilar)  # [9, 6, 5, 4, 3, 2, 1, 1]\n",
    "\n",
    "# String listesi sıralama\n",
    "kelimeler = [\"Python\", \"Java\", \"C++\", \"JavaScript\"]\n",
    "kelimeler.sort()\n",
    "print(kelimeler)  # ['C++', 'Java', 'JavaScript', 'Python']\n",
    "\n",
    "# Karma tip liste sıralama\n",
    "karma = [3, \"Python\", 1, \"Java\"]\n",
    "# karma.sort()  # TypeError: '<' not supported between instances of 'str' and 'int'"
   ]
  },
  {
   "cell_type": "markdown",
   "id": "1154a0a6",
   "metadata": {},
   "source": [
    "#### sorted() - Yeni Sıralı Liste Oluşturma"
   ]
  },
  {
   "cell_type": "code",
   "execution_count": null,
   "id": "69f4dcf3",
   "metadata": {},
   "outputs": [],
   "source": [
    "sayilar = [3, 1, 4, 1, 5, 9, 2, 6]\n",
    "\n",
    "# sorted() - yeni sıralı liste oluşturur (orijinali değiştirmez)\n",
    "sirali = sorted(sayilar)\n",
    "print(sayilar)  # [3, 1, 4, 1, 5, 9, 2, 6] (değişmedi)\n",
    "print(sirali)    # [1, 1, 2, 3, 4, 5, 6, 9]\n",
    "\n",
    "# Ters sıralama\n",
    "ters_sirali = sorted(sayilar, reverse=True)\n",
    "print(ters_sirali)  # [9, 6, 5, 4, 3, 2, 1, 1]"
   ]
  },
  {
   "cell_type": "markdown",
   "id": "2dbb1590",
   "metadata": {},
   "source": [
    "#### reverse() - Ters Çevirme"
   ]
  },
  {
   "cell_type": "code",
   "execution_count": null,
   "id": "446fd645",
   "metadata": {},
   "outputs": [],
   "source": [
    "sayilar = [1, 2, 3, 4, 5]\n",
    "\n",
    "# reverse() - ters çevirme (listeyi değiştirir)\n",
    "sayilar.reverse()\n",
    "print(sayilar)  # [5, 4, 3, 2, 1]\n",
    "\n",
    "# reversed() - yeni ters liste oluşturur\n",
    "sayilar2 = [1, 2, 3, 4, 5]\n",
    "ters_liste = list(reversed(sayilar2))\n",
    "print(sayilar2)     # [1, 2, 3, 4, 5] (değişmedi)\n",
    "print(ters_liste)   # [5, 4, 3, 2, 1]"
   ]
  },
  {
   "cell_type": "markdown",
   "id": "6e9ae09d",
   "metadata": {},
   "source": [
    "### 4. Kopyalama\n",
    "\n",
    "#### Sığ Kopya (Shallow Copy)"
   ]
  },
  {
   "cell_type": "code",
   "execution_count": null,
   "id": "eac43e6f",
   "metadata": {},
   "outputs": [],
   "source": [
    "# Sığ kopya (shallow copy)\n",
    "liste1 = [1, 2, 3]\n",
    "liste2 = liste1.copy()  # veya liste2 = liste1[:]\n",
    "liste2[0] = 10\n",
    "print(liste1)  # [1, 2, 3] (değişmedi)\n",
    "print(liste2)  # [10, 2, 3]\n",
    "\n",
    "# İç içe listelerde sorun\n",
    "liste3 = [[1, 2], [3, 4]]\n",
    "liste4 = liste3.copy()\n",
    "liste4[0][0] = 10\n",
    "print(liste3)  # [[10, 2], [3, 4]] (değişti!)\n",
    "print(liste4)  # [[10, 2], [3, 4]]"
   ]
  },
  {
   "cell_type": "markdown",
   "id": "64b65d83",
   "metadata": {},
   "source": [
    "#### Derin Kopya (Deep Copy)"
   ]
  },
  {
   "cell_type": "code",
   "execution_count": null,
   "id": "59635926",
   "metadata": {},
   "outputs": [],
   "source": [
    "import copy\n",
    "\n",
    "# Derin kopya (deep copy) - iç içe listeler için\n",
    "liste3 = [[1, 2], [3, 4]]\n",
    "liste4 = copy.deepcopy(liste3)\n",
    "liste4[0][0] = 10\n",
    "print(liste3)  # [[1, 2], [3, 4]] (değişmedi)\n",
    "print(liste4)  # [[10, 2], [3, 4]]"
   ]
  },
  {
   "cell_type": "markdown",
   "id": "0df706d6",
   "metadata": {},
   "source": [
    "## Liste Comprehension\n",
    "\n",
    "Liste comprehension, liste oluşturmanın kısa ve etkili bir yoludur.\n",
    "\n",
    "### Temel Liste Comprehension"
   ]
  },
  {
   "cell_type": "code",
   "execution_count": null,
   "id": "24f7e80b",
   "metadata": {},
   "outputs": [],
   "source": [
    "# Temel liste comprehension\n",
    "sayilar = [1, 2, 3, 4, 5]\n",
    "kareler = [x**2 for x in sayilar]\n",
    "print(kareler)  # [1, 4, 9, 16, 25]\n",
    "\n",
    "# String listesi\n",
    "kelimeler = [\"Python\", \"Java\", \"C++\"]\n",
    "buyuk_harfler = [kelime.upper() for kelime in kelimeler]\n",
    "print(buyuk_harfler)  # ['PYTHON', 'JAVA', 'C++']\n",
    "\n",
    "# Karakter listesi\n",
    "metin = \"Python\"\n",
    "karakterler = [harf for harf in metin]\n",
    "print(karakterler)  # ['P', 'y', 't', 'h', 'o', 'n']"
   ]
  },
  {
   "cell_type": "markdown",
   "id": "43067ab5",
   "metadata": {},
   "source": [
    "### Koşullu Liste Comprehension"
   ]
  },
  {
   "cell_type": "code",
   "execution_count": null,
   "id": "83dac11a",
   "metadata": {},
   "outputs": [],
   "source": [
    "sayilar = [1, 2, 3, 4, 5, 6, 7, 8, 9, 10]\n",
    "\n",
    "# Koşullu liste comprehension\n",
    "cift_sayilar = [x for x in sayilar if x % 2 == 0]\n",
    "print(cift_sayilar)  # [2, 4, 6, 8, 10]\n",
    "\n",
    "tek_sayilar = [x for x in sayilar if x % 2 == 1]\n",
    "print(tek_sayilar)  # [1, 3, 5, 7, 9]\n",
    "\n",
    "# Pozitif sayılar\n",
    "sayilar2 = [-3, 1, -5, 2, 0, 8, -1, 4]\n",
    "pozitif = [x for x in sayilar2 if x > 0]\n",
    "print(pozitif)  # [1, 2, 8, 4]\n",
    "\n",
    "# String filtreleme\n",
    "kelimeler = [\"Python\", \"Java\", \"C++\", \"JavaScript\", \"PHP\"]\n",
    "uzun_kelimeler = [kelime for kelime in kelimeler if len(kelime) > 4]\n",
    "print(uzun_kelimeler)  # ['Python', 'JavaScript']"
   ]
  },
  {
   "cell_type": "markdown",
   "id": "5f9bbdf9",
   "metadata": {},
   "source": [
    "### Karmaşık Liste Comprehension"
   ]
  },
  {
   "cell_type": "code",
   "execution_count": null,
   "id": "9a929736",
   "metadata": {},
   "outputs": [],
   "source": [
    "# Karmaşık örnek\n",
    "metin = \"Python Programlama\"\n",
    "buyuk_harfler = [harf.upper() for harf in metin if harf.isalpha()]\n",
    "print(buyuk_harfler)  # ['P', 'Y', 'T', 'H', 'O', 'N', 'P', 'R', 'O', 'G', 'R', 'A', 'M', 'L', 'A', 'M', 'A']\n",
    "\n",
    "# İç içe liste comprehension\n",
    "matris = [[i+j for j in range(3)] for i in range(3)]\n",
    "print(matris)  # [[0, 1, 2], [1, 2, 3], [2, 3, 4]]\n",
    "\n",
    "# Koşullu dönüşüm\n",
    "sayilar = [1, 2, 3, 4, 5]\n",
    "donusum = [x*2 if x % 2 == 0 else x*3 for x in sayilar]\n",
    "print(donusum)  # [3, 4, 9, 8, 15]"
   ]
  },
  {
   "cell_type": "markdown",
   "id": "924c0891",
   "metadata": {},
   "source": [
    "## İç İçe Listeler (Nested Lists)\n",
    "\n",
    "### 2D Liste (Matris)"
   ]
  },
  {
   "cell_type": "code",
   "execution_count": null,
   "id": "3febe553",
   "metadata": {},
   "outputs": [],
   "source": [
    "# 2D liste (matris)\n",
    "matris = [\n",
    "    [1, 2, 3],\n",
    "    [4, 5, 6],\n",
    "    [7, 8, 9]\n",
    "]\n",
    "\n",
    "print(matris[0])      # [1, 2, 3]\n",
    "print(matris[0][1])   # 2\n",
    "print(matris[1][2])   # 6\n",
    "\n",
    "# Matris işlemleri\n",
    "for satir in matris:\n",
    "    for eleman in satir:\n",
    "        print(eleman, end=\" \")\n",
    "    print()  # Yeni satır\n",
    "\n",
    "# Matris oluşturma\n",
    "def matris_olustur(satir, sutun):\n",
    "    return [[0 for j in range(sutun)] for i in range(satir)]\n",
    "\n",
    "yeni_matris = matris_olustur(3, 4)\n",
    "print(yeni_matris)  # [[0, 0, 0, 0], [0, 0, 0, 0], [0, 0, 0, 0]]"
   ]
  },
  {
   "cell_type": "markdown",
   "id": "17b25864",
   "metadata": {},
   "source": [
    "### 3D Liste"
   ]
  },
  {
   "cell_type": "code",
   "execution_count": null,
   "id": "5af478f7",
   "metadata": {},
   "outputs": [],
   "source": [
    "# 3D liste\n",
    "kup = [\n",
    "    [\n",
    "        [1, 2],\n",
    "        [3, 4]\n",
    "    ],\n",
    "    [\n",
    "        [5, 6],\n",
    "        [7, 8]\n",
    "    ]\n",
    "]\n",
    "\n",
    "print(kup[0])         # [[1, 2], [3, 4]]\n",
    "print(kup[0][1])      # [3, 4]\n",
    "print(kup[0][1][0])   # 3\n",
    "\n",
    "# 3D liste oluşturma\n",
    "def kup_olustur(boyut):\n",
    "    return [[[0 for k in range(boyut)] for j in range(boyut)] for i in range(boyut)]\n",
    "\n",
    "yeni_kup = kup_olustur(2)\n",
    "print(yeni_kup)  # [[[0, 0], [0, 0]], [[0, 0], [0, 0]]]"
   ]
  },
  {
   "cell_type": "markdown",
   "id": "3f2b0853",
   "metadata": {},
   "source": [
    "## Pratik Liste Örnekleri\n",
    "\n",
    "### 1. Liste Filtreleme"
   ]
  },
  {
   "cell_type": "code",
   "execution_count": null,
   "id": "5ffee603",
   "metadata": {},
   "outputs": [],
   "source": [
    "def pozitif_sayilar(liste):\n",
    "    return [x for x in liste if x > 0]\n",
    "\n",
    "def cift_sayilar(liste):\n",
    "    return [x for x in liste if x % 2 == 0]\n",
    "\n",
    "def tek_sayilar(liste):\n",
    "    return [x for x in liste if x % 2 == 1]\n",
    "\n",
    "# Test\n",
    "sayilar = [-3, 1, -5, 2, 0, 8, -1, 4]\n",
    "print(f\"Pozitif sayılar: {pozitif_sayilar(sayilar)}\")\n",
    "print(f\"Çift sayılar: {cift_sayilar(sayilar)}\")\n",
    "print(f\"Tek sayılar: {tek_sayilar(sayilar)}\")"
   ]
  },
  {
   "cell_type": "markdown",
   "id": "a80a2a4c",
   "metadata": {},
   "source": [
    "### 2. Liste İstatistikleri"
   ]
  },
  {
   "cell_type": "code",
   "execution_count": null,
   "id": "6e8a659d",
   "metadata": {},
   "outputs": [],
   "source": [
    "def liste_istatistikleri(liste):\n",
    "    if not liste:\n",
    "        return None\n",
    "    \n",
    "    return {\n",
    "        'toplam': sum(liste),\n",
    "        'ortalama': sum(liste) / len(liste),\n",
    "        'minimum': min(liste),\n",
    "        'maksimum': max(liste),\n",
    "        'uzunluk': len(liste),\n",
    "        'medyan': sorted(liste)[len(liste)//2] if len(liste) % 2 == 1 else (sorted(liste)[len(liste)//2-1] + sorted(liste)[len(liste)//2]) / 2\n",
    "    }\n",
    "\n",
    "# Test\n",
    "sayilar = [10, 20, 30, 40, 50]\n",
    "istatistikler = liste_istatistikleri(sayilar)\n",
    "for key, value in istatistikler.items():\n",
    "    print(f\"{key}: {value}\")"
   ]
  },
  {
   "cell_type": "markdown",
   "id": "10e610b7",
   "metadata": {},
   "source": [
    "### 3. Liste Birleştirme ve Temizleme"
   ]
  },
  {
   "cell_type": "code",
   "execution_count": null,
   "id": "c92cdf9b",
   "metadata": {},
   "outputs": [],
   "source": [
    "def listeleri_birlestir(liste1, liste2):\n",
    "    # Tekrarlayan elemanları çıkararak birleştir\n",
    "    birlesik = liste1 + liste2\n",
    "    return list(set(birlesik))\n",
    "\n",
    "def tekrarlari_temizle(liste):\n",
    "    # Sırayı koruyarak tekrarları temizle\n",
    "    temiz = []\n",
    "    for eleman in liste:\n",
    "        if eleman not in temiz:\n",
    "            temiz.append(eleman)\n",
    "    return temiz\n",
    "\n",
    "def tekrarlari_say(liste):\n",
    "    # Her elemanın kaç kez geçtiğini say\n",
    "    sayac = {}\n",
    "    for eleman in liste:\n",
    "        if eleman in sayac:\n",
    "            sayac[eleman] += 1\n",
    "        else:\n",
    "            sayac[eleman] = 1\n",
    "    return sayac\n",
    "\n",
    "# Test\n",
    "liste1 = [1, 2, 3, 4]\n",
    "liste2 = [3, 4, 5, 6]\n",
    "print(f\"Birleştirilmiş: {listeleri_birlestir(liste1, liste2)}\")\n",
    "\n",
    "tekrarli = [1, 2, 2, 3, 3, 3, 4, 4, 4, 4]\n",
    "print(f\"Temizlenmiş: {tekrarlari_temizle(tekrarli)}\")\n",
    "print(f\"Tekrar sayıları: {tekrarlari_say(tekrarli)}\")"
   ]
  },
  {
   "cell_type": "markdown",
   "id": "40050b7b",
   "metadata": {},
   "source": [
    "### 4. Liste Sıralama ve Arama"
   ]
  },
  {
   "cell_type": "code",
   "execution_count": null,
   "id": "9522f423",
   "metadata": {},
   "outputs": [],
   "source": [
    "def en_buyuk_n_eleman(liste, n):\n",
    "    # En büyük n elemanı döndür\n",
    "    return sorted(liste, reverse=True)[:n]\n",
    "\n",
    "def en_kucuk_n_eleman(liste, n):\n",
    "    # En küçük n elemanı döndür\n",
    "    return sorted(liste)[:n]\n",
    "\n",
    "def ikinci_en_buyuk(liste):\n",
    "    # İkinci en büyük elemanı bul\n",
    "    if len(liste) < 2:\n",
    "        return None\n",
    "    sirali = sorted(liste, reverse=True)\n",
    "    return sirali[1]\n",
    "\n",
    "# Test\n",
    "sayilar = [10, 5, 20, 15, 30, 25]\n",
    "print(f\"En büyük 3 eleman: {en_buyuk_n_eleman(sayilar, 3)}\")\n",
    "print(f\"En küçük 3 eleman: {en_kucuk_n_eleman(sayilar, 3)}\")\n",
    "print(f\"İkinci en büyük: {ikinci_en_buyuk(sayilar)}\")"
   ]
  },
  {
   "cell_type": "markdown",
   "id": "c9a30904",
   "metadata": {},
   "source": [
    "### 5. Liste Dönüşümleri"
   ]
  },
  {
   "cell_type": "code",
   "execution_count": null,
   "id": "2ad430a9",
   "metadata": {},
   "outputs": [],
   "source": [
    "def liste_donustur(liste, islem):\n",
    "    # Liste elemanlarını dönüştür\n",
    "    if islem == \"kare\":\n",
    "        return [x**2 for x in liste]\n",
    "    elif islem == \"kup\":\n",
    "        return [x**3 for x in liste]\n",
    "    elif islem == \"mutlak\":\n",
    "        return [abs(x) for x in liste]\n",
    "    elif islem == \"string\":\n",
    "        return [str(x) for x in liste]\n",
    "    else:\n",
    "        return liste\n",
    "\n",
    "def liste_filtrele_donustur(liste, kosul, islem):\n",
    "    # Koşula uyan elemanları dönüştür\n",
    "    return [islem(x) for x in liste if kosul(x)]\n",
    "\n",
    "# Test\n",
    "sayilar = [-3, 1, -5, 2, 0, 8, -1, 4]\n",
    "print(f\"Kareler: {liste_donustur(sayilar, 'kare')}\")\n",
    "print(f\"Mutlak değerler: {liste_donustur(sayilar, 'mutlak')}\")\n",
    "print(f\"Pozitif sayıların kareleri: {liste_filtrele_donustur(sayilar, lambda x: x > 0, lambda x: x**2)}\")"
   ]
  },
  {
   "cell_type": "markdown",
   "id": "ebf6127f",
   "metadata": {},
   "source": [
    "## Pratik Alıştırmalar\n",
    "\n",
    "**Alıştırma 1:** Bir listedeki en büyük 3 elemanı bulan fonksiyon yazın."
   ]
  },
  {
   "cell_type": "code",
   "execution_count": null,
   "id": "256019e0",
   "metadata": {},
   "outputs": [],
   "source": [
    "def en_buyuk_uc(liste):\n",
    "    return sorted(liste, reverse=True)[:3]\n",
    "\n",
    "# Test\n",
    "sayilar = [10, 5, 20, 15, 30, 25]\n",
    "print(en_buyuk_uc(sayilar))  # [30, 25, 20]"
   ]
  },
  {
   "cell_type": "markdown",
   "id": "cde82093",
   "metadata": {},
   "source": [
    "**Alıştırma 2:** İki listeyi eleman eleman toplayan fonksiyon yazın."
   ]
  },
  {
   "cell_type": "code",
   "execution_count": null,
   "id": "56d6913e",
   "metadata": {},
   "outputs": [],
   "source": [
    "def listeleri_topla(liste1, liste2):\n",
    "    return [a + b for a, b in zip(liste1, liste2)]\n",
    "\n",
    "# Test\n",
    "liste1 = [1, 2, 3, 4]\n",
    "liste2 = [5, 6, 7, 8]\n",
    "print(listeleri_topla(liste1, liste2))  # [6, 8, 10, 12]"
   ]
  },
  {
   "cell_type": "markdown",
   "id": "b6727359",
   "metadata": {},
   "source": [
    "**Alıştırma 3:** Bir listedeki elemanları ters sırada döndüren fonksiyon yazın."
   ]
  },
  {
   "cell_type": "code",
   "execution_count": null,
   "id": "69f796a3",
   "metadata": {},
   "outputs": [],
   "source": [
    "def ters_liste(liste):\n",
    "    return liste[::-1]\n",
    "\n",
    "# Test\n",
    "sayilar = [1, 2, 3, 4, 5]\n",
    "print(ters_liste(sayilar))  # [5, 4, 3, 2, 1]"
   ]
  },
  {
   "cell_type": "markdown",
   "id": "93e5e811",
   "metadata": {},
   "source": [
    "**Alıştırma 4:** Bir listedeki tekrarlayan elemanları bulan fonksiyon yazın."
   ]
  },
  {
   "cell_type": "code",
   "execution_count": null,
   "id": "a9d304de",
   "metadata": {},
   "outputs": [],
   "source": [
    "def tekrarlayan_elemanlar(liste):\n",
    "    tekrarlar = []\n",
    "    for eleman in liste:\n",
    "        if liste.count(eleman) > 1 and eleman not in tekrarlar:\n",
    "            tekrarlar.append(eleman)\n",
    "    return tekrarlar\n",
    "\n",
    "# Test\n",
    "sayilar = [1, 2, 2, 3, 3, 3, 4, 4, 4, 4]\n",
    "print(tekrarlayan_elemanlar(sayilar))  # [2, 3, 4]"
   ]
  },
  {
   "cell_type": "markdown",
   "id": "35977a92",
   "metadata": {},
   "source": [
    "**Alıştırma 5:** Bir listeyi belirli bir elemana göre bölen fonksiyon yazın."
   ]
  },
  {
   "cell_type": "code",
   "execution_count": null,
   "id": "6c9659dc",
   "metadata": {},
   "outputs": [],
   "source": [
    "def listeyi_bol(liste, ayrac):\n",
    "    sonuclar = []\n",
    "    gecici = []\n",
    "    \n",
    "    for eleman in liste:\n",
    "        if eleman == ayrac:\n",
    "            if gecici:\n",
    "                sonuclar.append(gecici)\n",
    "                gecici = []\n",
    "        else:\n",
    "            gecici.append(eleman)\n",
    "    \n",
    "    if gecici:\n",
    "        sonuclar.append(gecici)\n",
    "    \n",
    "    return sonuclar\n",
    "\n",
    "# Test\n",
    "sayilar = [1, 2, 0, 3, 4, 0, 5, 6]\n",
    "print(listeyi_bol(sayilar, 0))  # [[1, 2], [3, 4], [5, 6]]"
   ]
  },
  {
   "cell_type": "markdown",
   "id": "2c608924",
   "metadata": {},
   "source": [
    "## İleri Seviye Liste İşlemleri\n",
    "\n",
    "### Lambda Fonksiyonları ile Liste İşlemleri"
   ]
  },
  {
   "cell_type": "code",
   "execution_count": null,
   "id": "a019f3b2",
   "metadata": {},
   "outputs": [],
   "source": [
    "# map() ile liste işlemleri\n",
    "sayilar = [1, 2, 3, 4, 5]\n",
    "kareler = list(map(lambda x: x**2, sayilar))\n",
    "print(kareler)  # [1, 4, 9, 16, 25]\n",
    "\n",
    "# filter() ile filtreleme\n",
    "cift_sayilar = list(filter(lambda x: x % 2 == 0, sayilar))\n",
    "print(cift_sayilar)  # [2, 4]\n",
    "\n",
    "# reduce() ile toplama\n",
    "from functools import reduce\n",
    "toplam = reduce(lambda x, y: x + y, sayilar)\n",
    "print(toplam)  # 15\n",
    "\n",
    "# Karmaşık örnek\n",
    "karma_liste = [1, \"Python\", 3.14, True, \"Java\"]\n",
    "sayilar = list(filter(lambda x: isinstance(x, (int, float)), karma_liste))\n",
    "print(sayilar)  # [1, 3.14]"
   ]
  },
  {
   "cell_type": "markdown",
   "id": "30cad4d9",
   "metadata": {},
   "source": [
    "### Liste Comprehension ile Gelişmiş İşlemler"
   ]
  },
  {
   "cell_type": "code",
   "execution_count": null,
   "id": "f024a970",
   "metadata": {},
   "outputs": [],
   "source": [
    "# İç içe liste comprehension\n",
    "matris = [[i*j for j in range(1, 6)] for i in range(1, 6)]\n",
    "print(matris)\n",
    "\n",
    "# Koşullu dönüşüm\n",
    "sayilar = [1, 2, 3, 4, 5, 6, 7, 8, 9, 10]\n",
    "donusum = [x*2 if x % 2 == 0 else x*3 for x in sayilar]\n",
    "print(donusum)\n",
    "\n",
    "# Çoklu koşul\n",
    "sonuclar = []\n",
    "for x in sayilar:\n",
    "    if x < 5:\n",
    "        sonuclar.append(x*2)\n",
    "    elif x < 8:\n",
    "        sonuclar.append(x*3)\n",
    "    else:\n",
    "        sonuclar.append(x*4)\n",
    "print(sonuclar)\n",
    "\n",
    "# Liste comprehension ile aynı işlem\n",
    "sonuclar2 = [x*2 if x < 5 else x*3 if x < 8 else x*4 for x in sayilar]\n",
    "print(sonuclar2)"
   ]
  },
  {
   "cell_type": "markdown",
   "id": "764cb15e",
   "metadata": {},
   "source": [
    "## Genel Pratik Projeleri\n",
    "\n",
    "### Proje 1: Öğrenci Not Sistemi\n",
    "- Öğrenci bilgilerini listelerde saklama\n",
    "- Not hesaplama ve sıralama\n",
    "- Ortalama ve istatistikler\n",
    "\n",
    "### Proje 2: Basit Veritabanı\n",
    "- CSV formatında veri saklama\n",
    "- Arama ve filtreleme\n",
    "- Veri ekleme ve silme\n",
    "\n",
    "### Proje 3: Oyun Skor Sistemi\n",
    "- Oyuncu skorlarını saklama\n",
    "- En yüksek skorları listeleme\n",
    "- Ortalama skor hesaplama\n",
    "\n",
    "### Proje 4: Basit Hesap Makinesi\n",
    "- İşlem geçmişini saklama\n",
    "- Son işlemleri listeleme\n",
    "- İstatistik hesaplama\n",
    "\n",
    "### Proje 5: Dosya İşleme Sistemi\n",
    "- Dosya listelerini yönetme\n",
    "- Dosya boyutlarını hesaplama\n",
    "- Filtreleme ve sıralama\n",
    "\n",
    "---\n",
    "\n",
    "## Özet\n",
    "\n",
    "Bu rehberde Python'da liste işlemleri hakkında detaylı bilgi edindiniz:\n",
    "\n",
    "### Temel Kavramlar:\n",
    "- **Index mantığı**: 0'dan başlayan pozisyon numaraları\n",
    "- **Negatif index**: Sondan başlayarak erişim\n",
    "- **Slicing**: Belirli kısımları alma\n",
    "- **Mutable**: Listeler değiştirilebilir\n",
    "\n",
    "### En Çok Kullanılan Metodlar:\n",
    "- **Ekleme**: append(), insert(), extend()\n",
    "- **Silme**: remove(), pop(), del, clear()\n",
    "- **Arama**: index(), count()\n",
    "- **Sıralama**: sort(), sorted(), reverse()\n",
    "- **Kopyalama**: copy(), deepcopy()\n",
    "\n",
    "### Özel Özellikler:\n",
    "- **Liste Comprehension**: Kısa ve etkili liste oluşturma\n",
    "- **İç içe listeler**: Matris ve 3D yapılar\n",
    "- **Farklı tipler**: Aynı listede farklı veri tipleri\n",
    "\n",
    "### Pratik Uygulamalar:\n",
    "- Liste filtreleme ve dönüştürme\n",
    "- İstatistik hesaplama\n",
    "- Veri işleme ve analiz\n",
    "- Algoritma uygulamaları\n",
    "\n",
    "**ÖNEMLİ:** Index mantığını iyice anlayın - 0'dan başlar ve negatif indexler sondan başlar!\n",
    "\n",
    "Her bölümdeki pratik alıştırmaları yaparak konuları pekiştirin ve projelerle gerçek uygulamalar geliştirin. "
   ]
  }
 ],
 "metadata": {
  "jupytext": {
   "cell_metadata_filter": "-all",
   "main_language": "python",
   "notebook_metadata_filter": "-all"
  },
  "kernelspec": {
   "display_name": "Python 3",
   "language": "python",
   "name": "python3"
  },
  "language_info": {
   "codemirror_mode": {
    "name": "ipython",
    "version": 3
   },
   "file_extension": ".py",
   "mimetype": "text/x-python",
   "name": "python",
   "nbconvert_exporter": "python",
   "pygments_lexer": "ipython3",
   "version": "3.13.1"
  }
 },
 "nbformat": 4,
 "nbformat_minor": 5
}
