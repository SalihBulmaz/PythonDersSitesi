{
 "cells": [
  {
   "cell_type": "markdown",
   "id": "021d1456",
   "metadata": {
    "lines_to_next_cell": 0
   },
   "source": [
    "# Python Sözlükler (Dictionaries)\n",
    "\n",
    "## Giriş\n",
    "\n",
    "Sözlükler, Python'da anahtar-değer (key-value) çiftlerini saklamak için kullanılan veri yapılarıdır. Değiştirilebilir (mutable) ve sıralı (Python 3.7+) koleksiyonlardır.\n",
    "\n",
    "## Sözlük Oluşturma\n",
    "\n",
    "### Temel Sözlük Oluşturma"
   ]
  },
  {
   "cell_type": "code",
   "execution_count": 1,
   "id": "05b89931",
   "metadata": {},
   "outputs": [
    {
     "name": "stdout",
     "output_type": "stream",
     "text": [
      "{'AD': 'Ahmet', 'YAS': 20, 'BOLUM': 'Bilgisayar Mühendisliği', 'NOTLAR': [85, 90, 78]}\n",
      "<class 'dict'>\n"
     ]
    }
   ],
   "source": [
    "# Boş sözlük\n",
    "bos_sozluk = {}\n",
    "bos_sozluk2 = dict()\n",
    "\n",
    "# Elemanlı sözlük\n",
    "ogrenci = {\n",
    "    \"AD\": \"Ahmet\",\n",
    "    \"YAS\": 20,\n",
    "    \"BOLUM\": \"Bilgisayar Mühendisliği\",\n",
    "    \"NOTLAR\": [85, 90, 78]\n",
    "}\n",
    "\n",
    "print(ogrenci)  # {'ad': 'Ahmet', 'yas': 20, 'bolum': 'Bilgisayar Mühendisliği', 'notlar': [85, 90, 78]}\n",
    "print(type(ogrenci))  # <class 'dict'>"
   ]
  },
  {
   "cell_type": "markdown",
   "id": "87ac6a27",
   "metadata": {
    "lines_to_next_cell": 0
   },
   "source": [
    "### dict() Fonksiyonu ile Oluşturma"
   ]
  },
  {
   "cell_type": "code",
   "execution_count": null,
   "id": "25fdf089",
   "metadata": {},
   "outputs": [],
   "source": [
    "# Liste çiftlerinden sözlük\n",
    "ciftler = [(\"a\", 1), (\"b\", 2), (\"c\", 3)]\n",
    "sozluk = dict(ciftler)\n",
    "print(sozluk)  # {'a': 1, 'b': 2, 'c': 3}\n",
    "\n",
    "# zip() ile sözlük\n",
    "anahtarlar = [\"ad\", \"yas\", \"sehir\"]\n",
    "degerler = [\"Ali\", 25, \"İstanbul\"]\n",
    "kisi = dict(zip(anahtarlar, degerler))\n",
    "print(kisi)  # {'ad': 'Ali', 'yas': 25, 'sehir': 'İstanbul'}"
   ]
  },
  {
   "cell_type": "markdown",
   "id": "be1d0321",
   "metadata": {
    "lines_to_next_cell": 0
   },
   "source": [
    "### Dict Comprehension ile Oluşturma"
   ]
  },
  {
   "cell_type": "code",
   "execution_count": 2,
   "id": "7f4682a9",
   "metadata": {},
   "outputs": [
    {
     "name": "stdout",
     "output_type": "stream",
     "text": [
      "{1: 1, 2: 4, 3: 9, 4: 16, 5: 25}\n",
      "{2: 1, 4: 2, 6: 3, 8: 4, 10: 5}\n",
      "{1: 'tek', 2: 'çift', 3: 'tek', 4: 'çift', 5: 'tek'}\n"
     ]
    }
   ],
   "source": [
    "# Sayıların kareleri\n",
    "kareler = {x: x**2 for x in range(1, 6)}\n",
    "print(kareler)  # {1: 1, 2: 4, 3: 9, 4: 16, 5: 25}\n",
    "\n",
    "# Çift sayıların yarısı\n",
    "yarimlar = {x: x//2 for x in range(2, 11, 2)}\n",
    "print(yarimlar)  # {2: 1, 4: 2, 6: 3, 8: 4, 10: 5}\n",
    "\n",
    "# Koşullu sözlük\n",
    "durumlar = {x: \"çift\" if x % 2 == 0 else \"tek\" for x in range(1, 6)}\n",
    "print(durumlar)  # {1: 'tek', 2: 'çift', 3: 'tek', 4: 'çift', 5: 'tek'}"
   ]
  },
  {
   "cell_type": "markdown",
   "id": "d26899e4",
   "metadata": {
    "lines_to_next_cell": 0
   },
   "source": [
    "## Sözlük Elemanlarına Erişim\n",
    "\n",
    "### Anahtar ile Erişim"
   ]
  },
  {
   "cell_type": "code",
   "execution_count": 5,
   "id": "a56c04ec",
   "metadata": {},
   "outputs": [
    {
     "name": "stdout",
     "output_type": "stream",
     "text": [
      "Ayşe\n",
      "22\n",
      "25\n",
      "None\n",
      "Ayşe\n",
      "Yok\n"
     ]
    }
   ],
   "source": [
    "ogrenci = {\"ad\": \"Ayşe\", \"yas\": 22, \"bolum\": \"Matematik\", \"notlar\": [90, 85, 92], 1: 25}\n",
    "\n",
    "# Doğrudan erişim\n",
    "print(ogrenci[\"ad\"])  # Ayşe\n",
    "print(ogrenci[\"yas\"])  # 22\n",
    "print(ogrenci[1])  # 22\n",
    "\n",
    "# get() metodu ile güvenli erişim\n",
    "print(ogrenci.get(\"soyad\"))  # Ayşe\n",
    "print(ogrenci.get(\"ad\"))  # Ayşe\n",
    "print(ogrenci.get(\"telefon\", \"Yok\"))  # Yok (varsayılan değer)"
   ]
  },
  {
   "cell_type": "markdown",
   "id": "f0f10af9",
   "metadata": {
    "lines_to_next_cell": 0
   },
   "source": [
    "### Anahtarlar ve Değerler"
   ]
  },
  {
   "cell_type": "code",
   "execution_count": 6,
   "id": "18a5700f",
   "metadata": {},
   "outputs": [
    {
     "name": "stdout",
     "output_type": "stream",
     "text": [
      "dict_keys(['ad', 'yas', 'sehir'])\n",
      "dict_values(['Mehmet', 24, 'Ankara'])\n",
      "dict_items([('ad', 'Mehmet'), ('yas', 24), ('sehir', 'Ankara')])\n"
     ]
    }
   ],
   "source": [
    "ogrenci = {\"ad\": \"Mehmet\", \"yas\": 24, \"sehir\": \"Ankara\"}\n",
    "\n",
    "# Tüm anahtarlar\n",
    "print(ogrenci.keys())  # dict_keys(['ad', 'yas', 'sehir'])\n",
    "\n",
    "# Tüm değerler\n",
    "print(ogrenci.values())  # dict_values(['Mehmet', 24, 'Ankara'])\n",
    "\n",
    "# Anahtar-değer çiftleri\n",
    "print(ogrenci.items())  # dict_items([('ad', 'Mehmet'), ('yas', 24), ('sehir', 'Ankara')])"
   ]
  },
  {
   "cell_type": "code",
   "execution_count": 11,
   "id": "3ff0df33",
   "metadata": {},
   "outputs": [
    {
     "name": "stdout",
     "output_type": "stream",
     "text": [
      "dict_keys(['ad', 'yas', 'sehir'])\n",
      "ad = Mehmet\n",
      "yas = 24\n",
      "sehir = Ankara\n",
      "Mehmet\n",
      "24\n",
      "Ankara\n",
      "ad = Mehmet\n",
      "yas = 24\n",
      "sehir = Ankara\n"
     ]
    }
   ],
   "source": [
    "ogrenci = {\"ad\": \"Mehmet\", \"yas\": 24, \"sehir\": \"Ankara\"}\n",
    "\n",
    "# Tüm anahtarlar\n",
    "print(ogrenci.keys())  # dict_keys(['ad', 'yas', 'sehir'])\n",
    "for anahtar in ogrenci.keys():\n",
    "  deger = ogrenci[anahtar]\n",
    "  print(f'{anahtar} = {deger}')\n",
    "# Tüm değerler\n",
    "for deger in ogrenci.values():\n",
    "  print(f'{deger}')\n",
    "# print(ogrenci.values())  # dict_values(['Mehmet', 24, 'Ankara'])\n",
    "\n",
    "for anahtar, deger in ogrenci.items():\n",
    "    print(f'{anahtar} = {deger}')\n",
    "# Anahtar-değer çiftleri\n",
    "# print(ogrenci.items())  # dict_items([('ad', 'Mehmet'), ('yas', 24), ('sehir', 'Ankara')])"
   ]
  },
  {
   "cell_type": "markdown",
   "id": "8799592a",
   "metadata": {
    "lines_to_next_cell": 0
   },
   "source": [
    "## Sözlük İşlemleri\n",
    "\n",
    "### Eleman Ekleme ve Değiştirme"
   ]
  },
  {
   "cell_type": "code",
   "execution_count": 15,
   "id": "3d618012",
   "metadata": {},
   "outputs": [
    {
     "name": "stdout",
     "output_type": "stream",
     "text": [
      "{'ad': 'Fatma', 'yas': 21, 'bolum': 'Fizik'}\n",
      "{'ad': 'Fatma', 'yas': 21, 'bolum': 'Matematik'}\n",
      "{'ad': 'Fatma', 'yas': 22, 'bolum': 'Matematik'}\n",
      "{'ad': 'Fatma', 'yas': 25, 'bolum': 'Matematik', 'sehir': 'İzmir', 'telefon': '555-1234'}\n"
     ]
    }
   ],
   "source": [
    "ogrenci = {\"ad\": \"Fatma\", \"yas\": 21}\n",
    "\n",
    "# Yeni eleman ekleme\n",
    "ogrenci[\"bolum\"] = \"Fizik\"\n",
    "print(ogrenci)  # {'ad': 'Fatma', 'yas': 21, 'bolum': 'Fizik'}\n",
    "ogrenci[\"bolum\"] = \"Matematik\"\n",
    "print(ogrenci)  # {'ad': 'Fatma', 'yas': 21, 'bolum': 'Fizik'}\n",
    "\n",
    "# Mevcut elemanı değiştirme\n",
    "ogrenci[\"yas\"] = 22\n",
    "print(ogrenci)  # {'ad': 'Fatma', 'yas': 22, 'bolum': 'Fizik'}\n",
    "\n",
    "# update() metodu ile toplu güncelleme\n",
    "ogrenci.update({\"yas\": 25, \"sehir\": \"İzmir\", \"telefon\": \"555-1234\"})\n",
    "print(ogrenci)  # {'ad': 'Fatma', 'yas': 22, 'bolum': 'Fizik', 'sehir': 'İzmir', 'telefon': '555-1234'}"
   ]
  },
  {
   "cell_type": "markdown",
   "id": "0207d2c8",
   "metadata": {
    "lines_to_next_cell": 0
   },
   "source": [
    "### Eleman Silme"
   ]
  },
  {
   "cell_type": "code",
   "execution_count": null,
   "id": "2191acaf",
   "metadata": {},
   "outputs": [],
   "source": [
    "ogrenci = {\"ad\": \"Ali\", \"yas\": 23, \"bolum\": \"Kimya\", \"sehir\": \"Bursa\"}\n",
    "\n",
    "# pop() ile silme ve değer döndürme\n",
    "yas = ogrenci.pop(\"yas\")\n",
    "print(yas)  # 23\n",
    "print(ogrenci)  # {'ad': 'Ali', 'bolum': 'Kimya', 'sehir': 'Bursa'}\n",
    "\n",
    "# popitem() ile son elemanı silme\n",
    "son_eleman = ogrenci.popitem()\n",
    "print(son_eleman)  # ('sehir', 'Bursa')\n",
    "print(ogrenci)  # {'ad': 'Ali', 'bolum': 'Kimya'}\n",
    "\n",
    "# del ile silme\n",
    "del ogrenci[\"bolum\"]\n",
    "print(ogrenci)  # {'ad': 'Ali'}\n",
    "\n",
    "# clear() ile tüm elemanları silme\n",
    "ogrenci.clear()\n",
    "print(ogrenci)  # {}"
   ]
  },
  {
   "cell_type": "markdown",
   "id": "f20b26ac",
   "metadata": {
    "lines_to_next_cell": 0
   },
   "source": [
    "## Sözlük Metodları\n",
    "\n",
    "### Arama ve Kontrol"
   ]
  },
  {
   "cell_type": "code",
   "execution_count": null,
   "id": "e766adb2",
   "metadata": {},
   "outputs": [],
   "source": [
    "ogrenci = {\"ad\": \"Zeynep\", \"yas\": 20, \"bolum\": \"Biyoloji\"}\n",
    "\n",
    "# Anahtar var mı?\n",
    "print(\"ad\" in ogrenci)  # True\n",
    "print(\"telefon\" in ogrenci)  # False\n",
    "\n",
    "# Eleman sayısı\n",
    "print(len(ogrenci))  # 3\n",
    "\n",
    "# Anahtar var mı? (get ile kontrol)\n",
    "if ogrenci.get(\"yas\"):\n",
    "    print(\"Yaş bilgisi var\")\n",
    "else:\n",
    "    print(\"Yaş bilgisi yok\")"
   ]
  },
  {
   "cell_type": "markdown",
   "id": "539e3a4a",
   "metadata": {
    "lines_to_next_cell": 0
   },
   "source": [
    "### Kopyalama"
   ]
  },
  {
   "cell_type": "code",
   "execution_count": 19,
   "id": "3f892409",
   "metadata": {},
   "outputs": [
    {
     "name": "stdout",
     "output_type": "stream",
     "text": [
      "{'a': 1, 'b': 2, 'c': 3}\n",
      "{'b': 2, 'c': 3}\n",
      "{'a': 1, 'b': 2, 'c': 3}\n",
      "{'a': 1, 'b': 2, 'c': 3}\n"
     ]
    }
   ],
   "source": [
    "orijinal = {\"a\": 1, \"b\": 2, \"c\": 3}\n",
    "fake = orijinal.copy()\n",
    "fake.pop('a')\n",
    "print(orijinal)\n",
    "print(fake)\n",
    "# Sığ kopya (shallow copy)\n",
    "kopya = orijinal.copy()\n",
    "print(kopya)  # {'a': 1, 'b': 2, 'c': 3}\n",
    "\n",
    "# Derin kopya (deep copy)\n",
    "import copy\n",
    "derin_kopya = copy.deepcopy(orijinal)\n",
    "print(derin_kopya)  # {'a': 1, 'b': 2, 'c': 3}"
   ]
  },
  {
   "cell_type": "markdown",
   "id": "c1f95edb",
   "metadata": {
    "lines_to_next_cell": 0
   },
   "source": [
    "## İç İçe Sözlükler\n",
    "\n",
    "### Basit İç İçe Sözlük"
   ]
  },
  {
   "cell_type": "code",
   "execution_count": null,
   "id": "703833be",
   "metadata": {},
   "outputs": [
    {
     "name": "stdout",
     "output_type": "stream",
     "text": [
      "{'sehir': 'İstanbul', 'ilce': 'Kadıköy', 'mahalle': 'Fenerbahçe'}\n",
      "{'matematik': 85, 'fizik': 90, 'kimya': 78}\n"
     ]
    }
   ],
   "source": [
    "ogrenci = {\n",
    "    \"ad\": \"Ahmet\",\n",
    "    \"yas\": 21,\n",
    "    \"adres\": {\n",
    "        \"sehir\": \"İstanbul\",\n",
    "        \"ilce\": \"Kadıköy\",\n",
    "        \"mahalle\": \"Fenerbahçe\"\n",
    "    },\n",
    "    \"notlar\": {\n",
    "        \"matematik\": 85,\n",
    "        \"fizik\": 90,\n",
    "        \"kimya\": 78\n",
    "    }\n",
    "}\n",
    "\n",
    "# İç sözlüğe erişim\n",
    "print(ogrenci[\"adres\"][\"sehir\"])  # İstanbul\n",
    "print(ogrenci[\"notlar\"][\"matematik\"])  # 85"
   ]
  },
  {
   "cell_type": "markdown",
   "id": "f2ed1f1a",
   "metadata": {
    "lines_to_next_cell": 0
   },
   "source": [
    "### Karmaşık İç İçe Yapı"
   ]
  },
  {
   "cell_type": "code",
   "execution_count": null,
   "id": "1febfe72",
   "metadata": {},
   "outputs": [],
   "source": [
    "okul = {\n",
    "    \"ad\": \"Atatürk Lisesi\",\n",
    "    \"ogrenciler\": {\n",
    "        \"10A\": [\n",
    "            {\"ad\": \"Ali\", \"yas\": 16, \"notlar\": [85, 90, 78]},\n",
    "            {\"ad\": \"Ayşe\", \"yas\": 15, \"notlar\": [92, 88, 95]}\n",
    "        ],\n",
    "        \"10B\": [\n",
    "            {\"ad\": \"Mehmet\", \"yas\": 16, \"notlar\": [75, 82, 88]},\n",
    "            {\"ad\": \"Fatma\", \"yas\": 15, \"notlar\": [90, 85, 92]}\n",
    "        ]\n",
    "    }\n",
    "}\n",
    "\n",
    "# Karmaşık erişim\n",
    "print(okul[\"ogrenciler\"][\"10A\"][0][\"ad\"])  # Ali\n",
    "print(okul[\"ogrenciler\"][\"10B\"][1][\"notlar\"][0])  # 90"
   ]
  },
  {
   "cell_type": "markdown",
   "id": "0dc45a7b",
   "metadata": {
    "lines_to_next_cell": 0
   },
   "source": [
    "## Sözlük ile Döngüler\n",
    "\n",
    "### Anahtarlar ile Döngü"
   ]
  },
  {
   "cell_type": "code",
   "execution_count": null,
   "id": "c7c63cf3",
   "metadata": {},
   "outputs": [
    {
     "name": "stdout",
     "output_type": "stream",
     "text": [
      "ad: Elif\n",
      "yas: 19\n",
      "bolum: Psikoloji\n",
      "ad: Elif\n",
      "yas: 19\n",
      "bolum: Psikoloji\n"
     ]
    }
   ],
   "source": [
    "ogrenci = {\"ad\": \"Elif\", \"yas\": 19, \"bolum\": \"Psikoloji\"}\n",
    "\n",
    "# Anahtarlar ile döngü\n",
    "for anahtar in ogrenci:\n",
    "    print(f\"{anahtar}: {ogrenci[anahtar]}\")\n",
    "\n",
    "# keys() ile döngü\n",
    "for anahtar in ogrenci.keys():\n",
    "    print(anahtar)"
   ]
  },
  {
   "cell_type": "markdown",
   "id": "937dc2cf",
   "metadata": {
    "lines_to_next_cell": 0
   },
   "source": [
    "### Değerler ile Döngü"
   ]
  },
  {
   "cell_type": "code",
   "execution_count": 23,
   "id": "c7fff6a1",
   "metadata": {},
   "outputs": [
    {
     "name": "stdout",
     "output_type": "stream",
     "text": [
      "Can\n",
      "20\n",
      "Antalya\n"
     ]
    }
   ],
   "source": [
    "ogrenci = {\"ad\": \"Can\", \"yas\": 20, \"sehir\": \"Antalya\"}\n",
    "\n",
    "# Değerler ile döngü\n",
    "for deger in ogrenci.values():\n",
    "    print(deger)"
   ]
  },
  {
   "cell_type": "markdown",
   "id": "ed79e5cc",
   "metadata": {
    "lines_to_next_cell": 0
   },
   "source": [
    "### Anahtar-Değer Çiftleri ile Döngü"
   ]
  },
  {
   "cell_type": "code",
   "execution_count": null,
   "id": "834118e1",
   "metadata": {},
   "outputs": [],
   "source": [
    "ogrenci = {\"ad\": \"Deniz\", \"yas\": 18, \"bolum\": \"Müzik\"}\n",
    "\n",
    "# items() ile döngü\n",
    "for anahtar, deger in ogrenci.items():\n",
    "    print(f\"{anahtar}: {deger}\")\n",
    "\n",
    "# enumerate ile indeks\n",
    "for i, (anahtar, deger) in enumerate(ogrenci.items()):\n",
    "    print(f\"{i+1}. {anahtar}: {deger}\")"
   ]
  },
  {
   "cell_type": "markdown",
   "id": "a2218096",
   "metadata": {
    "lines_to_next_cell": 0
   },
   "source": [
    "## Pratik Örnekler\n",
    "\n",
    "### Örnek 1: Öğrenci Not Sistemi"
   ]
  },
  {
   "cell_type": "code",
   "execution_count": 25,
   "id": "44d97e86",
   "metadata": {},
   "outputs": [
    {
     "name": "stdout",
     "output_type": "stream",
     "text": [
      "Ahmet: 84.33\n",
      "Ayşe: 91.67\n",
      "Mehmet: 81.67\n"
     ]
    }
   ],
   "source": [
    "ogrenciler = {\n",
    "    \"Ahmet\": {\"matematik\": 85, \"fizik\": 90, \"kimya\": 78},\n",
    "    \"Ayşe\": {\"matematik\": 92, \"fizik\": 88, \"kimya\": 95},\n",
    "    \"Mehmet\": {\"matematik\": 75, \"fizik\": 82, \"kimya\": 88}\n",
    "}\n",
    "\n",
    "# Ortalama hesaplama\n",
    "for ogrenci, notlar in ogrenciler.items():\n",
    "    ortalama = sum(notlar.values()) / len(notlar)\n",
    "    print(f\"{ogrenci}: {ortalama:.2f}\")"
   ]
  },
  {
   "cell_type": "markdown",
   "id": "34410ec4",
   "metadata": {
    "lines_to_next_cell": 0
   },
   "source": [
    "### Örnek 2: Kelime Sayacı"
   ]
  },
  {
   "cell_type": "code",
   "execution_count": 24,
   "id": "65bf2575",
   "metadata": {},
   "outputs": [
    {
     "name": "stdout",
     "output_type": "stream",
     "text": [
      "{'python': 2, 'programlama': 1, 'dili': 1, 'çok': 1, 'güzel': 1, 'öğrenmesi': 1, 'kolay': 1}\n"
     ]
    }
   ],
   "source": [
    "metin = \"python programlama dili çok güzel python öğrenmesi kolay\"\n",
    "kelimeler = metin.split()\n",
    "\n",
    "kelime_sayaci = {}\n",
    "for kelime in kelimeler:\n",
    "    if kelime in kelime_sayaci:\n",
    "        kelime_sayaci[kelime] += 1\n",
    "    else:\n",
    "        kelime_sayaci[kelime] = 1\n",
    "\n",
    "print(kelime_sayaci)\n",
    "# {'python': 2, 'programlama': 1, 'dili': 1, 'çok': 1, 'güzel': 1, 'öğrenmesi': 1, 'kolay': 1}"
   ]
  },
  {
   "cell_type": "markdown",
   "id": "d2bddfa7",
   "metadata": {
    "lines_to_next_cell": 0
   },
   "source": [
    "### Örnek 3: Telefon Rehberi"
   ]
  },
  {
   "cell_type": "code",
   "execution_count": 26,
   "id": "f12879af",
   "metadata": {},
   "outputs": [
    {
     "name": "stdout",
     "output_type": "stream",
     "text": [
      "555-1234\n",
      "Kişi bulunamadı\n"
     ]
    }
   ],
   "source": [
    "rehber = {\n",
    "    \"Ahmet\": \"555-1234\",\n",
    "    \"Ayşe\": \"555-5678\",\n",
    "    \"Mehmet\": \"555-9012\"\n",
    "}\n",
    "\n",
    "# Arama fonksiyonu\n",
    "def telefon_ara(isim):\n",
    "    return rehber.get(isim, \"Kişi bulunamadı\")\n",
    "\n",
    "print(telefon_ara(\"Ahmet\"))  # 555-1234\n",
    "print(telefon_ara(\"Ali\"))    # Kişi bulunamadı"
   ]
  },
  {
   "cell_type": "markdown",
   "id": "58ac950b",
   "metadata": {},
   "source": [
    "## Önemli Notlar\n",
    "\n",
    "1. **Anahtarlar Benzersiz Olmalı**: Aynı anahtar birden fazla kez kullanılamaz.\n",
    "\n",
    "2. **Anahtarlar Değiştirilemez**: Anahtarlar immutable (değiştirilemez) olmalıdır.\n",
    "\n",
    "3. **Sıralı**: Python 3.7'den itibaren sözlükler ekleme sırasını korur.\n",
    "\n",
    "4. **Hızlı Erişim**: Anahtar ile erişim O(1) karmaşıklığındadır.\n",
    "\n",
    "5. **Bellek**: Sözlükler dinamik olarak büyür ve küçülür.\n",
    "\n",
    "## Alıştırmalar\n",
    "\n",
    "1. Bir öğrenci sözlüğü oluşturun ve bilgilerini güncelleyin.\n",
    "2. İki sözlüğü birleştirin.\n",
    "3. Bir sözlüğün en büyük ve en küçük değerlerini bulun.\n",
    "4. Sözlüğü anahtarlara göre sıralayın.\n",
    "5. İç içe sözlük yapısı oluşturun."
   ]
  },
  {
   "cell_type": "code",
   "execution_count": null,
   "id": "e011c406",
   "metadata": {},
   "outputs": [],
   "source": [
    "# Çözüm\n",
    "# 1. Öğrenci sözlüğü\n",
    "ogrenci = {\"ad\": \"Ali\", \"yas\": 20, \"bolum\": \"Bilgisayar\"}\n",
    "ogrenci[\"yas\"] = 21\n",
    "ogrenci[\"sehir\"] = \"İstanbul\"\n",
    "\n",
    "# 2. Sözlük birleştirme\n",
    "sozluk1 = {\"a\": 1, \"b\": 2}\n",
    "sozluk2 = {\"c\": 3, \"d\": 4}\n",
    "birlesik = {**sozluk1, **sozluk2}\n",
    "\n",
    "# 3. En büyük ve en küçük\n",
    "sayilar = {\"a\": 10, \"b\": 5, \"c\": 15, \"d\": 3}\n",
    "en_buyuk = max(sayilar.values())\n",
    "en_kucuk = min(sayilar.values())\n",
    "\n",
    "# 4. Sıralama\n",
    "sirali = dict(sorted(sayilar.items()))\n",
    "\n",
    "# 5. İç içe sözlük\n",
    "karmaşık = {\n",
    "    \"kisi\": {\"ad\": \"Mehmet\", \"yas\": 25},\n",
    "    \"adres\": {\"sehir\": \"Ankara\", \"ilce\": \"Çankaya\"}\n",
    "}"
   ]
  },
  {
   "cell_type": "code",
   "execution_count": 80,
   "id": "1e416dff",
   "metadata": {},
   "outputs": [
    {
     "name": "stdout",
     "output_type": "stream",
     "text": [
      "enes\n",
      "seyit\n"
     ]
    }
   ],
   "source": [
    "import random\n",
    "\n",
    "ogrenciler = [\n",
    "  'ahmet',\n",
    "  'yusuf',\n",
    "  'seyit',\n",
    "  'hasan huseyin',\n",
    "  'enes',\n",
    "  'omer',\n",
    "  'm ali',\n",
    "  'salih',\n",
    "]\n",
    "birinci = random.choice(ogrenciler)\n",
    "ogrenciler.remove(birinci)\n",
    "ikinci = random.choice(ogrenciler)\n",
    "print(birinci)\n",
    "print(ikinci)"
   ]
  }
 ],
 "metadata": {
  "jupytext": {
   "cell_metadata_filter": "-all",
   "main_language": "python",
   "notebook_metadata_filter": "-all"
  },
  "kernelspec": {
   "display_name": "3.13.1",
   "language": "python",
   "name": "python3"
  },
  "language_info": {
   "codemirror_mode": {
    "name": "ipython",
    "version": 3
   },
   "file_extension": ".py",
   "mimetype": "text/x-python",
   "name": "python",
   "nbconvert_exporter": "python",
   "pygments_lexer": "ipython3",
   "version": "3.13.1"
  }
 },
 "nbformat": 4,
 "nbformat_minor": 5
}
