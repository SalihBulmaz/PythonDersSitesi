{
 "cells": [
  {
   "cell_type": "markdown",
   "id": "ef58b5df",
   "metadata": {
    "lines_to_next_cell": 0
   },
   "source": [
    "# Python Veri Türleri\n",
    "\n",
    "## Giriş\n",
    "\n",
    "Python'da her değer belirli bir veri türüne sahiptir. Veri türleri, değerlerin nasıl saklanacağını ve hangi işlemlerin yapılabileceğini belirler.\n",
    "\n",
    "## Temel Veri Türleri\n",
    "\n",
    "### 1. Sayılar (Numbers)\n",
    "\n",
    "#### Integer (Tam Sayılar)"
   ]
  },
  {
   "cell_type": "code",
   "execution_count": null,
   "id": "4729c209",
   "metadata": {},
   "outputs": [],
   "source": [
    "# Pozitif ve negatif tam sayılar\n",
    "yas = 25\n",
    "sıcaklık = -5\n",
    "nüfus = 85000000\n",
    "\n",
    "print(type(yas))  # <class 'int'>"
   ]
  },
  {
   "cell_type": "markdown",
   "id": "d596cf5b",
   "metadata": {
    "lines_to_next_cell": 0
   },
   "source": [
    "#### Float (Ondalıklı Sayılar)"
   ]
  },
  {
   "cell_type": "code",
   "execution_count": null,
   "id": "8bebdaeb",
   "metadata": {},
   "outputs": [],
   "source": [
    "# Ondalıklı sayılar\n",
    "boy = 1.75\n",
    "pi = 3.14159\n",
    "sıcaklık = 23.5\n",
    "\n",
    "print(type(boy))  # <class 'float'>"
   ]
  },
  {
   "cell_type": "markdown",
   "id": "c6e2ba92",
   "metadata": {
    "lines_to_next_cell": 0
   },
   "source": [
    "#### Complex (Karmaşık Sayılar)"
   ]
  },
  {
   "cell_type": "code",
   "execution_count": null,
   "id": "e661c1ca",
   "metadata": {},
   "outputs": [],
   "source": [
    "# Karmaşık sayılar\n",
    "z = 3 + 4j\n",
    "w = complex(2, -3)\n",
    "\n",
    "print(z.real)  # 3.0\n",
    "print(z.imag)  # 4.0"
   ]
  },
  {
   "cell_type": "markdown",
   "id": "695da876",
   "metadata": {},
   "source": [
    "### 2. String (Metin)"
   ]
  },
  {
   "cell_type": "code",
   "execution_count": null,
   "id": "fb77ec89",
   "metadata": {},
   "outputs": [],
   "source": [
    "# Tek tırnak veya çift tırnak kullanılabilir\n",
    "isim = 'Ahmet'\n",
    "soyisim = \"Yılmaz\"\n",
    "mesaj = \"Python'u öğreniyorum\"\n",
    "\n",
    "# Çok satırlı string\n",
    "uzun_mesaj = \"\"\"\n",
    "Bu çok satırlı\n",
    "bir metindir.\n",
    "\"\"\"\n",
    "\n",
    "print(len(isim))  # 5"
   ]
  },
  {
   "cell_type": "markdown",
   "id": "d33e9bab",
   "metadata": {
    "lines_to_next_cell": 0
   },
   "source": [
    "#### String İşlemleri"
   ]
  },
  {
   "cell_type": "code",
   "execution_count": null,
   "id": "e7c4e7d9",
   "metadata": {},
   "outputs": [],
   "source": [
    "metin = \"Python Programlama\"\n",
    "\n",
    "# Büyük/küçük harf\n",
    "print(metin.upper())      # PYTHON PROGRAMLAMA\n",
    "print(metin.lower())      # python programlama\n",
    "print(metin.title())      # Python Programlama\n",
    "\n",
    "# Arama ve değiştirme\n",
    "print(metin.find(\"gram\"))  # 8\n",
    "print(metin.replace(\"Python\", \"Java\"))  # Java Programlama\n",
    "\n",
    "# Bölme ve birleştirme\n",
    "kelimeler = metin.split()  # ['Python', 'Programlama']\n",
    "yeni_metin = \"-\".join(kelimeler)  # Python-Programlama"
   ]
  },
  {
   "cell_type": "markdown",
   "id": "02bb118a",
   "metadata": {},
   "source": [
    "### 3. Boolean (Mantıksal)"
   ]
  },
  {
   "cell_type": "code",
   "execution_count": null,
   "id": "f4a9badb",
   "metadata": {},
   "outputs": [],
   "source": [
    "# True ve False değerleri\n",
    "evli_mi = True\n",
    "çalışıyor_mu = False\n",
    "\n",
    "# Karşılaştırma sonuçları\n",
    "yas = 18\n",
    "reşit_mi = yas >= 18  # True\n",
    "\n",
    "print(type(evli_mi))  # <class 'bool'>"
   ]
  },
  {
   "cell_type": "markdown",
   "id": "d773d2fc",
   "metadata": {},
   "source": [
    "## Karmaşık Veri Türleri\n",
    "\n",
    "### 1. List (Liste)"
   ]
  },
  {
   "cell_type": "code",
   "execution_count": null,
   "id": "6b18baca",
   "metadata": {},
   "outputs": [],
   "source": [
    "# Farklı veri türlerini içerebilir\n",
    "meyveler = [\"elma\", \"armut\", \"muz\"]\n",
    "sayılar = [1, 2, 3, 4, 5]\n",
    "karışık = [1, \"iki\", 3.0, True]\n",
    "\n",
    "# Liste işlemleri\n",
    "meyveler.append(\"portakal\")  # Sona ekleme\n",
    "meyveler.insert(1, \"kiraz\")  # Belirli konuma ekleme\n",
    "meyveler.remove(\"armut\")     # Silme\n",
    "\n",
    "print(len(meyveler))  # Liste uzunluğu\n",
    "print(meyveler[0])    # İlk eleman"
   ]
  },
  {
   "cell_type": "markdown",
   "id": "0458f204",
   "metadata": {
    "lines_to_next_cell": 0
   },
   "source": [
    "#### Liste Slicing"
   ]
  },
  {
   "cell_type": "code",
   "execution_count": null,
   "id": "b3ddfd8f",
   "metadata": {},
   "outputs": [],
   "source": [
    "sayılar = [0, 1, 2, 3, 4, 5, 6, 7, 8, 9]\n",
    "\n",
    "print(sayılar[2:5])    # [2, 3, 4]\n",
    "print(sayılar[:3])     # [0, 1, 2]\n",
    "print(sayılar[7:])     # [7, 8, 9]\n",
    "print(sayılar[::2])    # [0, 2, 4, 6, 8] (2'şer atlayarak)\n",
    "print(sayılar[::-1])   # [9, 8, 7, 6, 5, 4, 3, 2, 1, 0] (ters)"
   ]
  },
  {
   "cell_type": "markdown",
   "id": "df8655d8",
   "metadata": {},
   "source": [
    "### 2. Tuple (Demet)"
   ]
  },
  {
   "cell_type": "code",
   "execution_count": null,
   "id": "b4023bcc",
   "metadata": {},
   "outputs": [],
   "source": [
    "# Değiştirilemez listeler\n",
    "koordinat = (10, 20)\n",
    "renk = (255, 128, 0)\n",
    "kişi = (\"Ali\", 25, \"İstanbul\")\n",
    "\n",
    "# Tuple işlemleri\n",
    "print(len(koordinat))  # 2\n",
    "print(koordinat[0])    # 10\n",
    "\n",
    "# Tek elemanlı tuple\n",
    "tek_eleman = (42,)"
   ]
  },
  {
   "cell_type": "markdown",
   "id": "f2dc04f8",
   "metadata": {},
   "source": [
    "### 3. Dictionary (Sözlük)"
   ]
  },
  {
   "cell_type": "code",
   "execution_count": null,
   "id": "037e73dc",
   "metadata": {},
   "outputs": [],
   "source": [
    "# Anahtar-değer çiftleri\n",
    "öğrenci = {\n",
    "    \"ad\": \"Ayşe\",\n",
    "    \"yaş\": 20,\n",
    "    \"bölüm\": \"Bilgisayar Mühendisliği\",\n",
    "    \"notlar\": [85, 90, 78]\n",
    "}\n",
    "\n",
    "# Erişim\n",
    "print(öğrenci[\"ad\"])           # Ayşe\n",
    "print(öğrenci.get(\"yaş\"))      # 20\n",
    "print(öğrenci.get(\"telefon\", \"Yok\"))  # Yok (varsayılan değer)\n",
    "\n",
    "# Değiştirme ve ekleme\n",
    "öğrenci[\"yaş\"] = 21\n",
    "öğrenci[\"telefon\"] = \"555-1234\"\n",
    "\n",
    "# Anahtarlar ve değerler\n",
    "print(öğrenci.keys())    # dict_keys(['ad', 'yaş', 'bölüm', 'notlar', 'telefon'])\n",
    "print(öğrenci.values())  # dict_values(['Ayşe', 21, 'Bilgisayar Mühendisliği', [85, 90, 78], '555-1234'])"
   ]
  },
  {
   "cell_type": "markdown",
   "id": "7b2a7f5f",
   "metadata": {},
   "source": [
    "### 4. Set (Küme)"
   ]
  },
  {
   "cell_type": "code",
   "execution_count": null,
   "id": "e2e6b4db",
   "metadata": {},
   "outputs": [],
   "source": [
    "# Benzersiz elemanlar\n",
    "meyveler = {\"elma\", \"armut\", \"muz\", \"elma\"}  # Tekrarlanan elma silinir\n",
    "sayılar = set([1, 2, 3, 2, 4, 1])  # {1, 2, 3, 4}\n",
    "\n",
    "# Set işlemleri\n",
    "meyveler.add(\"portakal\")     # Ekleme\n",
    "meyveler.remove(\"armut\")     # Silme\n",
    "meyveler.discard(\"kiraz\")    # Güvenli silme (hata vermez)\n",
    "\n",
    "# Küme işlemleri\n",
    "a = {1, 2, 3, 4}\n",
    "b = {3, 4, 5, 6}\n",
    "\n",
    "print(a | b)  # Birleşim: {1, 2, 3, 4, 5, 6}\n",
    "print(a & b)  # Kesişim: {3, 4}\n",
    "print(a - b)  # Fark: {1, 2}"
   ]
  },
  {
   "cell_type": "markdown",
   "id": "547099d4",
   "metadata": {},
   "source": [
    "## Veri Türü Dönüşümleri"
   ]
  },
  {
   "cell_type": "code",
   "execution_count": null,
   "id": "f5e66ca1",
   "metadata": {},
   "outputs": [],
   "source": [
    "# String'den sayıya\n",
    "sayı_str = \"123\"\n",
    "sayı = int(sayı_str)\n",
    "ondalık = float(\"3.14\")\n",
    "\n",
    "# Sayıdan string'e\n",
    "sayı = 42\n",
    "sayı_str = str(sayı)\n",
    "\n",
    "# Liste dönüşümleri\n",
    "metin = \"Python\"\n",
    "karakterler = list(metin)  # ['P', 'y', 't', 'h', 'o', 'n']\n",
    "\n",
    "sayılar = [1, 2, 3, 4, 5]\n",
    "sayılar_tuple = tuple(sayılar)  # (1, 2, 3, 4, 5)\n",
    "sayılar_set = set(sayılar)      # {1, 2, 3, 4, 5}"
   ]
  },
  {
   "cell_type": "markdown",
   "id": "7cf1c959",
   "metadata": {},
   "source": [
    "## Veri Türü Kontrolü"
   ]
  },
  {
   "cell_type": "code",
   "execution_count": null,
   "id": "9ea5ec4b",
   "metadata": {},
   "outputs": [],
   "source": [
    "değer = 42\n",
    "\n",
    "print(type(değer))           # <class 'int'>\n",
    "print(isinstance(değer, int))  # True\n",
    "print(isinstance(değer, str))  # False\n",
    "\n",
    "# Çoklu kontrol\n",
    "if isinstance(değer, (int, float)):\n",
    "    print(\"Sayısal değer\")"
   ]
  },
  {
   "cell_type": "markdown",
   "id": "3caf6bec",
   "metadata": {
    "lines_to_next_cell": 0
   },
   "source": [
    "## Pratik Örnekler\n",
    "\n",
    "### Öğrenci Not Sistemi"
   ]
  },
  {
   "cell_type": "code",
   "execution_count": null,
   "id": "fca8ff2c",
   "metadata": {},
   "outputs": [],
   "source": [
    "öğrenciler = {\n",
    "    \"Ali\": {\"matematik\": [85, 90, 78], \"fizik\": [92, 88]},\n",
    "    \"Ayşe\": {\"matematik\": [95, 87, 91], \"fizik\": [89, 94]},\n",
    "    \"Mehmet\": {\"matematik\": [76, 82, 85], \"fizik\": [91, 87]}\n",
    "}\n",
    "\n",
    "def ortalama_hesapla(notlar):\n",
    "    return sum(notlar) / len(notlar)\n",
    "\n",
    "for öğrenci, dersler in öğrenciler.items():\n",
    "    print(f\"\\n{öğrenci}:\")\n",
    "    for ders, notlar in dersler.items():\n",
    "        ort = ortalama_hesapla(notlar)\n",
    "        print(f\"  {ders}: {ort:.1f}\")"
   ]
  },
  {
   "cell_type": "markdown",
   "id": "84728be9",
   "metadata": {
    "lines_to_next_cell": 0
   },
   "source": [
    "### Alışveriş Listesi"
   ]
  },
  {
   "cell_type": "code",
   "execution_count": null,
   "id": "a4dc9138",
   "metadata": {},
   "outputs": [],
   "source": [
    "alışveriş_listesi = []\n",
    "\n",
    "def ürün_ekle(ürün, miktar, fiyat):\n",
    "    alışveriş_listesi.append({\n",
    "        \"ürün\": ürün,\n",
    "        \"miktar\": miktar,\n",
    "        \"fiyat\": fiyat,\n",
    "        \"toplam\": miktar * fiyat\n",
    "    })\n",
    "\n",
    "def toplam_tutar():\n",
    "    return sum(item[\"toplam\"] for item in alışveriş_listesi)\n",
    "\n",
    "# Ürün ekleme\n",
    "ürün_ekle(\"elma\", 2, 5.0)\n",
    "ürün_ekle(\"süt\", 1, 12.0)\n",
    "ürün_ekle(\"ekmek\", 3, 2.5)\n",
    "\n",
    "print(f\"Toplam tutar: {toplam_tutar()} TL\")"
   ]
  },
  {
   "cell_type": "markdown",
   "id": "39f09c6f",
   "metadata": {},
   "source": [
    "## Özet\n",
    "\n",
    "- **Sayılar**: int, float, complex\n",
    "- **Metin**: str\n",
    "- **Mantıksal**: bool\n",
    "- **Koleksiyonlar**: list, tuple, dict, set\n",
    "- **Dönüşümler**: int(), float(), str(), list(), tuple(), set()\n",
    "- **Kontrol**: type(), isinstance()\n",
    "\n",
    "Bu veri türleri Python programlamanın temelini oluşturur ve her birinin kendine özgü özellikleri ve kullanım alanları vardır. "
   ]
  }
 ],
 "metadata": {
  "jupytext": {
   "cell_metadata_filter": "-all",
   "main_language": "python",
   "notebook_metadata_filter": "-all"
  }
 },
 "nbformat": 4,
 "nbformat_minor": 5
}
