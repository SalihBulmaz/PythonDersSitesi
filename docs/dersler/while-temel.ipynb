{
 "cells": [
  {
   "cell_type": "markdown",
   "id": "c860b411",
   "metadata": {},
   "source": [
    "# Python While Döngüleri - Primitif Tipler Rehberi\n",
    "\n",
    "## Giriş\n",
    "\n",
    "Bu derste Python'da koşula bağlı tekrarlayan işlemleri gerçekleştirmek için kullanılan `while` döngülerini öğreneceğiz. While döngüleri, belirli bir koşul sağlandığı sürece çalışmaya devam eder. Bu rehberde sadece primitif veri tipleri (int, float, string, boolean) kullanarak örnekler yapacağız.\n",
    "\n",
    "## While Döngüsünün Temel Yapısı"
   ]
  },
  {
   "cell_type": "code",
   "execution_count": null,
   "id": "7400f62b",
   "metadata": {},
   "outputs": [],
   "source": [
    "while koşul:\n",
    "    # Yapılacak işlemler\n",
    "    # Koşulu değiştirecek kod"
   ]
  },
  {
   "cell_type": "markdown",
   "id": "69983ef8",
   "metadata": {
    "lines_to_next_cell": 0
   },
   "source": [
    "**ÖNEMLİ:** While döngülerinde sonsuz döngüye girmemek için döngü içinde koşulu değiştirecek bir kod olmalıdır!\n",
    "\n",
    "## 1. Temel Sayma İşlemleri\n",
    "\n",
    "### Basit Sayma"
   ]
  },
  {
   "cell_type": "code",
   "execution_count": null,
   "id": "6577ade2",
   "metadata": {},
   "outputs": [],
   "source": [
    "# 1'den 10'a kadar sayma\n",
    "sayi = 1\n",
    "while sayi <= 10:\n",
    "    print(sayi)\n",
    "    sayi += 1  # Koşulu değiştiren kod\n",
    "\n",
    "# Çıktı: 1 2 3 4 5 6 7 8 9 10"
   ]
  },
  {
   "cell_type": "markdown",
   "id": "1ef7e528",
   "metadata": {
    "lines_to_next_cell": 0
   },
   "source": [
    "### Geriye Doğru Sayma"
   ]
  },
  {
   "cell_type": "code",
   "execution_count": null,
   "id": "fa73a2d5",
   "metadata": {},
   "outputs": [],
   "source": [
    "# 10'dan 1'e kadar geriye sayma\n",
    "sayi = 10\n",
    "while sayi >= 1:\n",
    "    print(sayi, end=\" \")\n",
    "    sayi -= 1\n",
    "\n",
    "print()  # Yeni satır\n",
    "# Çıktı: 10 9 8 7 6 5 4 3 2 1"
   ]
  },
  {
   "cell_type": "markdown",
   "id": "13e3f523",
   "metadata": {
    "lines_to_next_cell": 0
   },
   "source": [
    "### Belirli Adımlarla Sayma"
   ]
  },
  {
   "cell_type": "code",
   "execution_count": null,
   "id": "f59c595e",
   "metadata": {},
   "outputs": [],
   "source": [
    "# 2'şer 2'şer sayma\n",
    "sayi = 0\n",
    "while sayi <= 20:\n",
    "    print(sayi, end=\" \")\n",
    "    sayi += 2\n",
    "\n",
    "# Çıktı: 0 2 4 6 8 10 12 14 16 18 20"
   ]
  },
  {
   "cell_type": "markdown",
   "id": "9abdd741",
   "metadata": {
    "lines_to_next_cell": 0
   },
   "source": [
    "### Boolean Kontrolü ile Sayma"
   ]
  },
  {
   "cell_type": "code",
   "execution_count": null,
   "id": "78da4943",
   "metadata": {},
   "outputs": [],
   "source": [
    "# 100'e kadar sayma ama 50'de durma\n",
    "sayi = 1\n",
    "devam_et = True\n",
    "\n",
    "while devam_et and sayi <= 100:\n",
    "    print(sayi, end=\" \")\n",
    "    if sayi == 50:\n",
    "        devam_et = False\n",
    "    sayi += 1\n",
    "\n",
    "# Çıktı: 1 2 3 ... 49 50"
   ]
  },
  {
   "cell_type": "markdown",
   "id": "abdf5397",
   "metadata": {
    "lines_to_next_cell": 0
   },
   "source": [
    "### Pratik Alıştırmalar\n",
    "\n",
    "**Alıştırma 1:** 5'den 50'ye kadar 5'er 5'er sayan program yazın.\n",
    "\n",
    "**Alıştırma 2:** 100'den 1'e kadar 3'er 3'er azaltarak sayan program yazın.\n",
    "\n",
    "**Alıştırma 3:** 1'den başlayarak çift sayıları yazdıran, 20'ye ulaştığında duran program yazın.\n",
    "\n",
    "**Alıştırma 4:** Kullanıcıdan bir sayı alın ve 1'den o sayıya kadar yazdıran program yazın.\n",
    "\n",
    "**Alıştırma 5:** 1'den 1000'e kadar sayarken, 7'nin katlarını atlayan program yazın.\n",
    "\n",
    "## 2. Kullanıcı Girdisi ile Kontrol\n",
    "\n",
    "### Basit Menü Sistemi"
   ]
  },
  {
   "cell_type": "code",
   "execution_count": null,
   "id": "afbf9921",
   "metadata": {},
   "outputs": [],
   "source": [
    "# Basit menü sistemi\n",
    "devam = True\n",
    "while devam:\n",
    "    print(\"\\n1. Merhaba de\")\n",
    "    print(\"2. Çıkış\")\n",
    "    secim = input(\"Seçiminiz (1-2): \")\n",
    "    \n",
    "    if secim == \"1\":\n",
    "        print(\"Merhaba!\")\n",
    "    elif secim == \"2\":\n",
    "        devam = False\n",
    "        print(\"Çıkış yapılıyor...\")\n",
    "    else:\n",
    "        print(\"Geçersiz seçim!\")"
   ]
  },
  {
   "cell_type": "markdown",
   "id": "a0e1ffc9",
   "metadata": {
    "lines_to_next_cell": 0
   },
   "source": [
    "### Sayı Tahmin Oyunu"
   ]
  },
  {
   "cell_type": "code",
   "execution_count": null,
   "id": "b46d3a87",
   "metadata": {},
   "outputs": [],
   "source": [
    "# Basit sayı tahmin oyunu\n",
    "gizli_sayi = 42\n",
    "tahmin = 0\n",
    "deneme_sayisi = 0\n",
    "\n",
    "while tahmin != gizli_sayi:\n",
    "    tahmin = int(input(\"Bir sayı tahmin edin (1-100): \"))\n",
    "    deneme_sayisi += 1\n",
    "    \n",
    "    if tahmin < gizli_sayi:\n",
    "        print(\"Daha büyük bir sayı deneyin!\")\n",
    "    elif tahmin > gizli_sayi:\n",
    "        print(\"Daha küçük bir sayı deneyin!\")\n",
    "    else:\n",
    "        print(f\"Tebrikler! {deneme_sayisi} denemede buldunuz!\")"
   ]
  },
  {
   "cell_type": "markdown",
   "id": "64463644",
   "metadata": {
    "lines_to_next_cell": 0
   },
   "source": [
    "### Şifre Kontrol Sistemi"
   ]
  },
  {
   "cell_type": "code",
   "execution_count": null,
   "id": "4032fe98",
   "metadata": {},
   "outputs": [],
   "source": [
    "# Şifre kontrol sistemi\n",
    "dogru_sifre = \"python123\"\n",
    "giris_yapildi = False\n",
    "deneme_hakki = 3\n",
    "\n",
    "while not giris_yapildi and deneme_hakki > 0:\n",
    "    sifre = input(\"Şifrenizi girin: \")\n",
    "    \n",
    "    if sifre == dogru_sifre:\n",
    "        giris_yapildi = True\n",
    "        print(\"Giriş başarılı!\")\n",
    "    else:\n",
    "        deneme_hakki -= 1\n",
    "        if deneme_hakki > 0:\n",
    "            print(f\"Yanlış şifre! {deneme_hakki} hakkınız kaldı.\")\n",
    "        else:\n",
    "            print(\"Giriş hakkiniz bitti!\")"
   ]
  },
  {
   "cell_type": "markdown",
   "id": "74226c90",
   "metadata": {
    "lines_to_next_cell": 0
   },
   "source": [
    "### Float Değerlerle Hesaplama"
   ]
  },
  {
   "cell_type": "code",
   "execution_count": null,
   "id": "7312b041",
   "metadata": {},
   "outputs": [],
   "source": [
    "# Toplam hesaplayıcı\n",
    "toplam = 0.0\n",
    "sayi = 0.0\n",
    "\n",
    "print(\"Sayıları girin (0 ile bitirin):\")\n",
    "while sayi != 0:\n",
    "    sayi = float(input(\"Sayı: \"))\n",
    "    if sayi != 0:\n",
    "        toplam += sayi\n",
    "\n",
    "print(f\"Girilen sayıların toplamı: {toplam}\")"
   ]
  },
  {
   "cell_type": "markdown",
   "id": "eb79dd68",
   "metadata": {
    "lines_to_next_cell": 0
   },
   "source": [
    "### Pratik Alıştırmalar\n",
    "\n",
    "**Alıştırma 1:** Kullanıcı \"quit\" yazana kadar string alan ve karakter sayısını gösteren program yazın.\n",
    "\n",
    "**Alıştırma 2:** Kullanıcıdan pozitif sayılar alıp ortalamasını hesaplayan program yazın (negatif sayı ile bitsin).\n",
    "\n",
    "**Alıştırma 3:** Kullanıcıdan şifre alıp, en az 8 karakter olana kadar tekrar isteyen program yazın.\n",
    "\n",
    "**Alıştırma 4:** Basit ATM simülasyonu yapın (bakiye sorma, para çekme, çıkış).\n",
    "\n",
    "**Alıştırma 5:** Kullanıcının girdiği sayıların en büyüğünü bulan program yazın (0 ile bitsin).\n",
    "\n",
    "## 3. String İşlemleri\n",
    "\n",
    "### Karakter Karakter İşleme"
   ]
  },
  {
   "cell_type": "code",
   "execution_count": null,
   "id": "7d86a59d",
   "metadata": {},
   "outputs": [],
   "source": [
    "# String'i karakter karakter yazdırma\n",
    "metin = \"Python\"\n",
    "indeks = 0\n",
    "\n",
    "while indeks < len(metin):\n",
    "    print(f\"{indeks}. karakter: {metin[indeks]}\")\n",
    "    indeks += 1\n",
    "\n",
    "# Çıktı:\n",
    "# 0. karakter: P\n",
    "# 1. karakter: y\n",
    "# 2. karakter: t\n",
    "# 3. karakter: h\n",
    "# 4. karakter: o\n",
    "# 5. karakter: n"
   ]
  },
  {
   "cell_type": "markdown",
   "id": "e3b35a8e",
   "metadata": {
    "lines_to_next_cell": 0
   },
   "source": [
    "### String'de Karakter Arama"
   ]
  },
  {
   "cell_type": "code",
   "execution_count": null,
   "id": "cc5ae08a",
   "metadata": {},
   "outputs": [],
   "source": [
    "# Belirli bir karakteri arama\n",
    "metin = \"Python programlama\"\n",
    "aranan = \"a\"\n",
    "indeks = 0\n",
    "bulundu = False\n",
    "\n",
    "while indeks < len(metin) and not bulundu:\n",
    "    if metin[indeks] == aranan:\n",
    "        print(f\"'{aranan}' karakteri {indeks}. pozisyonda bulundu!\")\n",
    "        bulundu = True\n",
    "    indeks += 1\n",
    "\n",
    "if not bulundu:\n",
    "    print(f\"'{aranan}' karakteri bulunamadı!\")"
   ]
  },
  {
   "cell_type": "markdown",
   "id": "a4a82e57",
   "metadata": {
    "lines_to_next_cell": 0
   },
   "source": [
    "### String Temizleme"
   ]
  },
  {
   "cell_type": "code",
   "execution_count": null,
   "id": "e1dbde1e",
   "metadata": {},
   "outputs": [],
   "source": [
    "# String'den boşlukları temizleme\n",
    "metin = \"  Python   Programlama  \"\n",
    "temiz_metin = \"\"\n",
    "indeks = 0\n",
    "\n",
    "while indeks < len(metin):\n",
    "    if metin[indeks] != \" \":\n",
    "        temiz_metin += metin[indeks]\n",
    "    indeks += 1\n",
    "\n",
    "print(f\"Orijinal: '{metin}'\")\n",
    "print(f\"Temizlenmiş: '{temiz_metin}'\")\n",
    "# Çıktı:\n",
    "# Orijinal: '  Python   Programlama  '\n",
    "# Temizlenmiş: 'PythonProgramlama'"
   ]
  },
  {
   "cell_type": "markdown",
   "id": "8f2bd9a5",
   "metadata": {
    "lines_to_next_cell": 0
   },
   "source": [
    "### Palindrom Kontrolü"
   ]
  },
  {
   "cell_type": "code",
   "execution_count": null,
   "id": "79655597",
   "metadata": {},
   "outputs": [],
   "source": [
    "# Kelime palindrom mu kontrol etme\n",
    "kelime = \"radar\"\n",
    "baslangic = 0\n",
    "son = len(kelime) - 1\n",
    "palindrom = True\n",
    "\n",
    "while baslangic < son and palindrom:\n",
    "    if kelime[baslangic] != kelime[son]:\n",
    "        palindrom = False\n",
    "    baslangic += 1\n",
    "    son -= 1\n",
    "\n",
    "if palindrom:\n",
    "    print(f\"'{kelime}' bir palindromdur\")\n",
    "else:\n",
    "    print(f\"'{kelime}' bir palindrom değildir\")"
   ]
  },
  {
   "cell_type": "markdown",
   "id": "a257954a",
   "metadata": {
    "lines_to_next_cell": 0
   },
   "source": [
    "### Kelime Sayma"
   ]
  },
  {
   "cell_type": "code",
   "execution_count": null,
   "id": "58c3cee4",
   "metadata": {},
   "outputs": [],
   "source": [
    "# String'deki kelime sayısını bulma\n",
    "cumle = \"Python programlama dili çok güçlüdür\"\n",
    "kelime_sayisi = 0\n",
    "indeks = 0\n",
    "kelime_icinde = False\n",
    "\n",
    "while indeks < len(cumle):\n",
    "    if cumle[indeks] != \" \":\n",
    "        if not kelime_icinde:\n",
    "            kelime_sayisi += 1\n",
    "            kelime_icinde = True\n",
    "    else:\n",
    "        kelime_icinde = False\n",
    "    indeks += 1\n",
    "\n",
    "print(f\"'{cumle}' cümlesinde {kelime_sayisi} kelime var\")\n",
    "# Çıktı: 'Python programlama dili çok güçlüdür' cümlesinde 5 kelime var"
   ]
  },
  {
   "cell_type": "markdown",
   "id": "3562f16a",
   "metadata": {
    "lines_to_next_cell": 0
   },
   "source": [
    "### Pratik Alıştırmalar\n",
    "\n",
    "**Alıştırma 1:** Bir string'deki sesli harf sayısını while döngüsü ile bulan program yazın.\n",
    "\n",
    "**Alıştırma 2:** Verilen string'i tersten yazdıran program yazın.\n",
    "\n",
    "**Alıştırma 3:** Bir string'deki her karakterin kaç kez tekrarlandığını gösteren program yazın.\n",
    "\n",
    "**Alıştırma 4:** String'den sadece rakamları çıkaran program yazın.\n",
    "\n",
    "**Alıştırma 5:** İki string'in aynı olup olmadığını karakter karakter kontrol eden program yazın.\n",
    "\n",
    "## 4. Matematiksel Hesaplamalar\n",
    "\n",
    "### Faktöriyel Hesaplama"
   ]
  },
  {
   "cell_type": "code",
   "execution_count": null,
   "id": "fb5593fd",
   "metadata": {},
   "outputs": [],
   "source": [
    "# Faktöriyel hesaplama\n",
    "sayi = 5\n",
    "faktoriyel = 1\n",
    "sayac = 1\n",
    "\n",
    "while sayac <= sayi:\n",
    "    faktoriyel *= sayac\n",
    "    sayac += 1\n",
    "\n",
    "print(f\"{sayi}! = {faktoriyel}\")\n",
    "# Çıktı: 5! = 120"
   ]
  },
  {
   "cell_type": "markdown",
   "id": "e9376167",
   "metadata": {
    "lines_to_next_cell": 0
   },
   "source": [
    "### Fibonacci Serisi"
   ]
  },
  {
   "cell_type": "code",
   "execution_count": null,
   "id": "038d3ca7",
   "metadata": {},
   "outputs": [],
   "source": [
    "# Fibonacci serisinin ilk n terimini yazdırma\n",
    "n = 10\n",
    "a, b = 0, 1\n",
    "sayac = 0\n",
    "\n",
    "print(\"Fibonacci serisi:\")\n",
    "while sayac < n:\n",
    "    print(a, end=\" \")\n",
    "    a, b = b, a + b\n",
    "    sayac += 1\n",
    "\n",
    "# Çıktı: 0 1 1 2 3 5 8 13 21 34"
   ]
  },
  {
   "cell_type": "markdown",
   "id": "ae296c97",
   "metadata": {
    "lines_to_next_cell": 0
   },
   "source": [
    "### Asal Sayı Kontrolü"
   ]
  },
  {
   "cell_type": "code",
   "execution_count": null,
   "id": "fb52b5c5",
   "metadata": {},
   "outputs": [],
   "source": [
    "# Bir sayının asal olup olmadığını kontrol etme\n",
    "sayi = 17\n",
    "bolen = 2\n",
    "asal = True\n",
    "\n",
    "if sayi <= 1:\n",
    "    asal = False\n",
    "else:\n",
    "    while bolen < sayi and asal:\n",
    "        if sayi % bolen == 0:\n",
    "            asal = False\n",
    "        bolen += 1\n",
    "\n",
    "if asal:\n",
    "    print(f\"{sayi} asal bir sayıdır\")\n",
    "else:\n",
    "    print(f\"{sayi} asal bir sayı değildir\")"
   ]
  },
  {
   "cell_type": "markdown",
   "id": "bc306bf3",
   "metadata": {
    "lines_to_next_cell": 0
   },
   "source": [
    "### EBOB Hesaplama"
   ]
  },
  {
   "cell_type": "code",
   "execution_count": null,
   "id": "3ab38ba2",
   "metadata": {},
   "outputs": [],
   "source": [
    "# İki sayının EBOB'unu bulma (Öklid algoritması)\n",
    "a = 48\n",
    "b = 18\n",
    "\n",
    "print(f\"{a} ve {b} sayılarının EBOB'u:\")\n",
    "while b != 0:\n",
    "    kalan = a % b\n",
    "    a = b\n",
    "    b = kalan\n",
    "\n",
    "print(f\"EBOB = {a}\")\n",
    "# Çıktı: 48 ve 18 sayılarının EBOB'u: EBOB = 6"
   ]
  },
  {
   "cell_type": "markdown",
   "id": "1a877dfa",
   "metadata": {
    "lines_to_next_cell": 0
   },
   "source": [
    "### Sayının Rakamlarını Toplama"
   ]
  },
  {
   "cell_type": "code",
   "execution_count": null,
   "id": "eff4948f",
   "metadata": {},
   "outputs": [],
   "source": [
    "# Bir sayının rakamlarını toplama\n",
    "sayi = 12345\n",
    "rakam_toplami = 0\n",
    "\n",
    "while sayi > 0:\n",
    "    rakam = sayi % 10  # Son rakamı al\n",
    "    rakam_toplami += rakam\n",
    "    sayi = sayi // 10  # Son rakamı at\n",
    "\n",
    "print(f\"Rakamlar toplamı: {rakam_toplami}\")\n",
    "# Çıktı: Rakamlar toplamı: 15"
   ]
  },
  {
   "cell_type": "markdown",
   "id": "ccf96071",
   "metadata": {
    "lines_to_next_cell": 0
   },
   "source": [
    "### Pratik Alıştırmalar\n",
    "\n",
    "**Alıştırma 1:** İki sayının EKOK'unu bulan program yazın.\n",
    "\n",
    "**Alıştırma 2:** Verilen bir sayının kaç basamaklı olduğunu bulan program yazın.\n",
    "\n",
    "**Alıştırma 3:** Bir sayının mükemmel sayı olup olmadığını kontrol eden program yazın.\n",
    "\n",
    "**Alıştırma 4:** Girilen sayının tersini (rakamları ters sırada) bulan program yazın.\n",
    "\n",
    "**Alıştırma 5:** 1'den 1000'e kadar olan Armstrong sayılarını bulan program yazın.\n",
    "\n",
    "## 5. İç İçe While Döngüleri\n",
    "\n",
    "### Çarpım Tablosu"
   ]
  },
  {
   "cell_type": "code",
   "execution_count": null,
   "id": "76c13688",
   "metadata": {},
   "outputs": [],
   "source": [
    "# 1-5 arası çarpım tabloları\n",
    "i = 1\n",
    "while i <= 5:\n",
    "    print(f\"\\n{i}'lik çarpım tablosu:\")\n",
    "    print(\"-\" * 15)\n",
    "    j = 1\n",
    "    while j <= 10:\n",
    "        sonuc = i * j\n",
    "        print(f\"{i} x {j} = {sonuc}\")\n",
    "        j += 1\n",
    "    i += 1"
   ]
  },
  {
   "cell_type": "markdown",
   "id": "3b681edb",
   "metadata": {
    "lines_to_next_cell": 0
   },
   "source": [
    "### Yıldız Üçgeni"
   ]
  },
  {
   "cell_type": "code",
   "execution_count": null,
   "id": "5e985e8b",
   "metadata": {},
   "outputs": [],
   "source": [
    "# Yıldızlarla üçgen çizme\n",
    "satir = 1\n",
    "yukseklik = 5\n",
    "\n",
    "while satir <= yukseklik:\n",
    "    yildiz = 1\n",
    "    while yildiz <= satir:\n",
    "        print(\"*\", end=\"\")\n",
    "        yildiz += 1\n",
    "    print()  # Yeni satır\n",
    "    satir += 1\n",
    "\n",
    "# Çıktı:\n",
    "# *\n",
    "# **\n",
    "# ***\n",
    "# ****\n",
    "# *****"
   ]
  },
  {
   "cell_type": "markdown",
   "id": "bf82d482",
   "metadata": {
    "lines_to_next_cell": 0
   },
   "source": [
    "### Sayı Piramidi"
   ]
  },
  {
   "cell_type": "code",
   "execution_count": null,
   "id": "8910fb95",
   "metadata": {},
   "outputs": [],
   "source": [
    "# Sayılarla piramit çizme\n",
    "satir = 1\n",
    "yukseklik = 5\n",
    "\n",
    "while satir <= yukseklik:\n",
    "    sayi = 1\n",
    "    while sayi <= satir:\n",
    "        print(sayi, end=\"\")\n",
    "        sayi += 1\n",
    "    print()\n",
    "    satir += 1\n",
    "\n",
    "# Çıktı:\n",
    "# 1\n",
    "# 12\n",
    "# 123\n",
    "# 1234\n",
    "# 12345"
   ]
  },
  {
   "cell_type": "markdown",
   "id": "09464f14",
   "metadata": {
    "lines_to_next_cell": 0
   },
   "source": [
    "### Ters Üçgen"
   ]
  },
  {
   "cell_type": "code",
   "execution_count": null,
   "id": "33987b74",
   "metadata": {},
   "outputs": [],
   "source": [
    "# Ters yıldız üçgeni\n",
    "satir = 5\n",
    "\n",
    "while satir > 0:\n",
    "    yildiz = 1\n",
    "    while yildiz <= satir:\n",
    "        print(\"*\", end=\"\")\n",
    "        yildiz += 1\n",
    "    print()\n",
    "    satir -= 1\n",
    "\n",
    "# Çıktı:\n",
    "# *****\n",
    "# ****\n",
    "# ***\n",
    "# **\n",
    "# *"
   ]
  },
  {
   "cell_type": "markdown",
   "id": "692f614b",
   "metadata": {
    "lines_to_next_cell": 0
   },
   "source": [
    "### Pratik Alıştırmalar\n",
    "\n",
    "**Alıştırma 1:** Boş kare (sadece kenarları yıldızlı) çizen program yazın.\n",
    "\n",
    "**Alıştırma 2:** Piramit şeklinde (ortadan başlayıp genişleyen) yıldız çizen program yazın.\n",
    "\n",
    "**Alıştırma 3:** 1'den 10'a kadar tüm sayıların karelerini tablo halinde gösteren program yazın.\n",
    "\n",
    "**Alıştırma 4:** İki basamaklı tüm asal sayıları bulan program yazın.\n",
    "\n",
    "**Alıştırma 5:** Baklava dilimi şeklinde (büyüyüp küçülen) yıldız deseni çizen program yazın.\n",
    "\n",
    "## 6. Koşullu Durumlar ve Kontrol\n",
    "\n",
    "### Break ve Continue Benzeri Davranış"
   ]
  },
  {
   "cell_type": "code",
   "execution_count": null,
   "id": "0e578691",
   "metadata": {},
   "outputs": [],
   "source": [
    "# Break benzeri davranış (flag kullanarak)\n",
    "sayi = 1\n",
    "bulundu = False\n",
    "\n",
    "while sayi <= 100 and not bulundu:\n",
    "    if sayi % 7 == 0 and sayi % 11 == 0:\n",
    "        print(f\"7 ve 11'e bölünen ilk sayı: {sayi}\")\n",
    "        bulundu = True\n",
    "    sayi += 1"
   ]
  },
  {
   "cell_type": "markdown",
   "id": "96e61ec8",
   "metadata": {
    "lines_to_next_cell": 0
   },
   "source": [
    "### Çoklu Koşul Kontrolü"
   ]
  },
  {
   "cell_type": "code",
   "execution_count": null,
   "id": "65891b19",
   "metadata": {},
   "outputs": [],
   "source": [
    "# Birden fazla koşulu kontrol etme\n",
    "sayi = 1\n",
    "cift_toplam = 0\n",
    "tek_toplam = 0\n",
    "\n",
    "while sayi <= 100:\n",
    "    if sayi % 2 == 0:\n",
    "        cift_toplam += sayi\n",
    "    else:\n",
    "        tek_toplam += sayi\n",
    "    sayi += 1\n",
    "\n",
    "print(f\"Çift sayıların toplamı: {cift_toplam}\")\n",
    "print(f\"Tek sayıların toplamı: {tek_toplam}\")"
   ]
  },
  {
   "cell_type": "markdown",
   "id": "bf74b9f7",
   "metadata": {
    "lines_to_next_cell": 0
   },
   "source": [
    "### Hata Kontrolü ile Girdi Alma"
   ]
  },
  {
   "cell_type": "code",
   "execution_count": null,
   "id": "da98bb05",
   "metadata": {},
   "outputs": [],
   "source": [
    "# Geçerli girdi alana kadar tekrar etme\n",
    "gecerli_girdi = False\n",
    "sayi = 0\n",
    "\n",
    "while not gecerli_girdi:\n",
    "    girdi = input(\"1-10 arası bir sayı girin: \")\n",
    "    \n",
    "    # String'in sayı olup olmadığını kontrol et\n",
    "    if girdi.isdigit():\n",
    "        sayi = int(girdi)\n",
    "        if 1 <= sayi <= 10:\n",
    "            gecerli_girdi = True\n",
    "            print(f\"Geçerli sayı girdiniz: {sayi}\")\n",
    "        else:\n",
    "            print(\"Sayı 1-10 arasında olmalı!\")\n",
    "    else:\n",
    "        print(\"Lütfen geçerli bir sayı girin!\")"
   ]
  },
  {
   "cell_type": "markdown",
   "id": "6398cccc",
   "metadata": {
    "lines_to_next_cell": 0
   },
   "source": [
    "### Pratik Alıştırmalar\n",
    "\n",
    "**Alıştırma 1:** Kullanıcı 'e' veya 'h' (evet/hayır) girene kadar soru soran program yazın.\n",
    "\n",
    "**Alıştırma 2:** Geçerli email formatı girene kadar tekrar isteyen program yazın.\n",
    "\n",
    "**Alıştırma 3:** Pozitif çift sayı girene kadar tekrar isteyen program yazın.\n",
    "\n",
    "**Alıştırma 4:** Kullanıcının girdiği sayıları toplayan, negatif sayı girince duran program yazın.\n",
    "\n",
    "**Alıştırma 5:** Şifre güvenlik kontrolü yapan program yazın (en az 8 karakter, büyük-küçük harf içermeli).\n",
    "\n",
    "## 7. Karakter ve ASCII İşlemleri\n",
    "\n",
    "### ASCII Değerleri ile Çalışma"
   ]
  },
  {
   "cell_type": "code",
   "execution_count": null,
   "id": "032f9e20",
   "metadata": {},
   "outputs": [],
   "source": [
    "# Alfabeyi yazdırma\n",
    "ascii_kod = 65  # 'A' harfinin ASCII kodu\n",
    "son_harf = 90   # 'Z' harfinin ASCII kodu\n",
    "\n",
    "print(\"Büyük harfler:\")\n",
    "while ascii_kod <= son_harf:\n",
    "    harf = chr(ascii_kod)\n",
    "    print(f\"{harf} = {ascii_kod}\")\n",
    "    ascii_kod += 1"
   ]
  },
  {
   "cell_type": "markdown",
   "id": "71375989",
   "metadata": {
    "lines_to_next_cell": 0
   },
   "source": [
    "### Caesar Şifresi"
   ]
  },
  {
   "cell_type": "code",
   "execution_count": null,
   "id": "41b5383f",
   "metadata": {},
   "outputs": [],
   "source": [
    "# Basit Caesar şifresi (3 karakter kaydırma)\n",
    "metin = \"HELLO\"\n",
    "sifreli_metin = \"\"\n",
    "indeks = 0\n",
    "\n",
    "while indeks < len(metin):\n",
    "    karakter = metin[indeks]\n",
    "    if karakter.isalpha():\n",
    "        ascii_degeri = ord(karakter)\n",
    "        yeni_ascii = ascii_degeri + 3\n",
    "        # Z'den sonra A'ya döndür\n",
    "        if yeni_ascii > 90:\n",
    "            yeni_ascii = yeni_ascii - 26\n",
    "        sifreli_karakter = chr(yeni_ascii)\n",
    "        sifreli_metin += sifreli_karakter\n",
    "    else:\n",
    "        sifreli_metin += karakter\n",
    "    indeks += 1\n",
    "\n",
    "print(f\"Orijinal: {metin}\")\n",
    "print(f\"Şifreli: {sifreli_metin}\")\n",
    "# Çıktı:\n",
    "# Orijinal: HELLO\n",
    "# Şifreli: KHOOR"
   ]
  },
  {
   "cell_type": "markdown",
   "id": "3512f0d7",
   "metadata": {
    "lines_to_next_cell": 0
   },
   "source": [
    "### Karakter Frekans Analizi"
   ]
  },
  {
   "cell_type": "code",
   "execution_count": null,
   "id": "2e595614",
   "metadata": {},
   "outputs": [],
   "source": [
    "# En çok tekrar eden karakteri bulma\n",
    "metin = \"python programlama\"\n",
    "indeks = 0\n",
    "\n",
    "while indeks < len(metin):\n",
    "    karakter = metin[indeks]\n",
    "    if karakter != \" \":  # Boşlukları sayma\n",
    "        sayac = 0\n",
    "        j = 0\n",
    "        # Bu karakterin kaç kez geçtiğini say\n",
    "        while j < len(metin):\n",
    "            if metin[j] == karakter:\n",
    "                sayac += 1\n",
    "            j += 1\n",
    "        print(f\"'{karakter}' karakteri {sayac} kez geçiyor\")\n",
    "    indeks += 1"
   ]
  },
  {
   "cell_type": "markdown",
   "id": "38fa0355",
   "metadata": {
    "lines_to_next_cell": 0
   },
   "source": [
    "### Pratik Alıştırmalar\n",
    "\n",
    "**Alıştırma 1:** Küçük harflerin ASCII değerlerini yazdıran program yazın.\n",
    "\n",
    "**Alıştırma 2:** Rakamların ASCII değerlerini (0-9) gösteren program yazın.\n",
    "\n",
    "**Alıştırma 3:** String'i 5 karakter ileri kaydıran şifreleme programı yazın.\n",
    "\n",
    "**Alıştırma 4:** Bir string'deki en çok ve en az geçen karakterleri bulan program yazın.\n",
    "\n",
    "**Alıştırma 5:** ROT13 şifrelemesi yapan program yazın.\n",
    "\n",
    "## 8. Oyunlar ve Eğlenceli Uygulamalar\n",
    "\n",
    "### Sayı Toplamı Oyunu"
   ]
  },
  {
   "cell_type": "code",
   "execution_count": null,
   "id": "ed2eae4b",
   "metadata": {},
   "outputs": [],
   "source": [
    "# Hedef sayıya ulaşma oyunu\n",
    "hedef = 21\n",
    "mevcut_toplam = 0\n",
    "oyuncu_sirasi = 1\n",
    "\n",
    "print(f\"Hedef: {hedef}'e ulaşın!\")\n",
    "print(\"Her seferde 1, 2 veya 3 ekleyebilirsiniz\")\n",
    "\n",
    "while mevcut_toplam < hedef:\n",
    "    print(f\"\\nMevcut toplam: {mevcut_toplam}\")\n",
    "    ekleme = int(input(f\"Oyuncu {oyuncu_sirasi}, kaç eklemek istersiniz (1-3)? \"))\n",
    "    \n",
    "    if 1 <= ekleme <= 3:\n",
    "        mevcut_toplam += ekleme\n",
    "        if mevcut_toplam >= hedef:\n",
    "            print(f\"Oyuncu {oyuncu_sirasi} kazandı!\")\n",
    "        else:\n",
    "            oyuncu_sirasi = 2 if oyuncu_sirasi == 1 else 1\n",
    "    else:\n",
    "        print(\"Geçersiz hamle! 1, 2 veya 3 girmelisiniz.\")"
   ]
  },
  {
   "cell_type": "markdown",
   "id": "946eb344",
   "metadata": {
    "lines_to_next_cell": 0
   },
   "source": [
    "### Basit Kelime Oyunu"
   ]
  },
  {
   "cell_type": "code",
   "execution_count": null,
   "id": "ae63006a",
   "metadata": {},
   "outputs": [],
   "source": [
    "# Harflerle kelime oluşturma\n",
    "hedef_kelime = \"PYTHON\"\n",
    "tahmin = \"\"\n",
    "deneme = 0\n",
    "max_deneme = 6\n",
    "\n",
    "print(\"Kelimeyi tahmin edin!\")\n",
    "print(\"_\" * len(hedef_kelime))\n",
    "\n",
    "while tahmin != hedef_kelime and deneme < max_deneme:\n",
    "    harf = input(\"Bir harf girin: \").upper()\n",
    "    \n",
    "    if len(harf) == 1 and harf.isalpha():\n",
    "        if harf in hedef_kelime:\n",
    "            print(f\"'{harf}' harfi doğru!\")\n",
    "        else:\n",
    "            deneme += 1\n",
    "            print(f\"'{harf}' harfi yanlış! {max_deneme - deneme} hakkınız kaldı.\")\n",
    "    else:\n",
    "        print(\"Geçerli bir harf girin!\")\n",
    "        \n",
    "    # Tahmin kontrolü için basit yaklaşım\n",
    "    if deneme < max_deneme:\n",
    "        tam_tahmin = input(\"Kelimeyi biliyor musunuz? (Bilmiyorsanız ENTER): \").upper()\n",
    "        if tam_tahmin == hedef_kelime:\n",
    "            tahmin = hedef_kelime\n",
    "\n",
    "if tahmin == hedef_kelime:\n",
    "    print(\"Tebrikler! Kelimeyi buldunuz!\")\n",
    "else:\n",
    "    print(f\"Oyun bitti! Kelime: {hedef_kelime}\")"
   ]
  },
  {
   "cell_type": "markdown",
   "id": "8efd441e",
   "metadata": {},
   "source": [
    "### Pratik Alıştırmalar\n",
    "\n",
    "**Alıştırma 1:** Taş-kağıt-makas oyunu yapın.\n",
    "\n",
    "**Alıştırma 2:** Basit hesap makinesi yapın (işlemler bitene kadar devam etsin).\n",
    "\n",
    "**Alıştırma 3:** Kelime uzunluğu tahmin oyunu yapın.\n",
    "\n",
    "**Alıştırma 4:** Sayı çiftleri toplama oyunu yapın.\n",
    "\n",
    "**Alıştırma 5:** Basit şans oyunu (zar atma simülasyonu) yapın.\n",
    "\n",
    "## Genel Pratik Projeleri\n",
    "\n",
    "### Proje 1: Gelişmiş ATM Simülasyonu\n",
    "Bakiye görme, para yatırma, para çekme, işlem geçmişi özeti sunan ATM programı yazın.\n",
    "\n",
    "### Proje 2: Öğrenci Not Sistemi\n",
    "Öğrenci bilgilerini alıp not girişi yapan ve ortalama hesaplayan sistem yazın.\n",
    "\n",
    "### Proje 3: Basit Metin Editörü\n",
    "Metin girme, karakter/kelime sayma, arama ve değiştirme fonksiyonları olan program yazın.\n",
    "\n",
    "### Proje 4: Kişisel Finans Takipçisi\n",
    "Gelir-gider takibi yapan, toplam hesaplayan ve rapor sunan program yazın.\n",
    "\n",
    "### Proje 5: Quiz Uygulaması\n",
    "Sorular soran, doğru/yanlış sayısını tutan ve skor gösteren quiz programı yazın.\n",
    "\n",
    "---\n",
    "\n",
    "## While vs For Döngüleri - Ne Zaman Hangisini Kullanmalı?\n",
    "\n",
    "### While Döngüsü Tercih Edilir:\n",
    "- Kaç kez tekrar edeceği bilinmeyen durumlar\n",
    "- Kullanıcı girdisine bağlı kontrol\n",
    "- Koşula bağlı çalışma gereken durumlar\n",
    "- Sonsuz döngü gerektiğinde\n",
    "- Oyun döngüleri ve menü sistemleri\n",
    "\n",
    "### For Döngüsü Tercih Edilir:\n",
    "- Belirli sayıda tekrar gerektiğinde\n",
    "- Koleksiyonları (string, range) dolaşırken\n",
    "- İndeks bazlı işlemlerde\n",
    "- Matematiksel seriler için\n",
    "\n",
    "---\n",
    "\n",
    "## Özet\n",
    "\n",
    "Bu rehberde Python while döngülerini primitif veri tipleri ile nasıl kullanacağınızı öğrendiniz:\n",
    "\n",
    "- **Temel sayma**: Koşula bağlı sayma işlemleri\n",
    "- **Kullanıcı kontrolü**: Girdi alma ve doğrulama\n",
    "- **String işlemleri**: Karakter bazlı string işleme\n",
    "- **Matematik**: Döngülerle matematiksel hesaplamalar\n",
    "- **İç içe döngüler**: Karmaşık desenler ve tablolar\n",
    "- **Koşullu kontrol**: Çoklu koşul yönetimi\n",
    "- **ASCII işlemleri**: Karakter kodları ile çalışma\n",
    "- **Oyun uygulamaları**: Eğlenceli pratik örnekler\n",
    "\n",
    "**ÖNEMLİ:** While döngülerinde her zaman sonsuz döngüye girmemeye dikkat edin ve koşulu değiştirecek kodları unutmayın!\n",
    "\n",
    "Her bölümdeki pratik alıştırmaları yaparak konuları pekiştirin ve projelerle gerçek uygulamalar geliştirin."
   ]
  }
 ],
 "metadata": {
  "jupytext": {
   "cell_metadata_filter": "-all",
   "main_language": "python",
   "notebook_metadata_filter": "-all"
  }
 },
 "nbformat": 4,
 "nbformat_minor": 5
}
