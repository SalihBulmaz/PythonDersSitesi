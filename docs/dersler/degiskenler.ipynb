{
 "cells": [
  {
   "cell_type": "markdown",
   "id": "9695f3d4",
   "metadata": {},
   "source": [
    "# Python - Değişkenler ve Operatörler\n",
    "\n",
    "## 📝 Ders Hedefleri\n",
    "\n",
    "Bu derste şunları öğreneceksiniz:\n",
    "- Değişken kavramı ve kullanımı\n",
    "- Python veri türleri\n",
    "- Aritmetik, karşılaştırma ve mantıksal operatörler\n",
    "- Değişken isimlendirme kuralları\n",
    "- Tip dönüştürme işlemleri\n",
    "\n",
    "---\n",
    "\n",
    "## 🔤 Değişkenler Nedir?\n",
    "\n",
    "Değişkenler, verileri bellekte saklamak için kullanılan isimlendirilmiş alanlardır. Python'da değişken tanımlamak çok basittir.\n",
    "\n",
    "### Temel Değişken Tanımlama"
   ]
  },
  {
   "cell_type": "code",
   "execution_count": null,
   "id": "5046d2e9",
   "metadata": {},
   "outputs": [],
   "source": [
    "# Değişken tanımlama\n",
    "ad = \"Ali\"\n",
    "yas = 25\n",
    "boy = 1.75\n",
    "ogrenci_mi = True\n",
    "\n",
    "print(ad)        # Ali\n",
    "print(yas)       # 25\n",
    "print(boy)       # 1.75\n",
    "print(ogrenci_mi) # True"
   ]
  },
  {
   "cell_type": "markdown",
   "id": "fffe405f",
   "metadata": {
    "lines_to_next_cell": 0
   },
   "source": [
    "### Değişken İsimlendirme Kuralları\n",
    "\n",
    "#### ✅ Doğru Kullanım"
   ]
  },
  {
   "cell_type": "code",
   "execution_count": null,
   "id": "6ca45b2a",
   "metadata": {},
   "outputs": [],
   "source": [
    "ad = \"Mehmet\"\n",
    "yas_bilgisi = 30\n",
    "ogrenci_no = 12345\n",
    "toplam_1 = 100\n",
    "_ozel_deger = 50"
   ]
  },
  {
   "cell_type": "markdown",
   "id": "a09d0797",
   "metadata": {
    "lines_to_next_cell": 0
   },
   "source": [
    "#### ❌ Yanlış Kullanım"
   ]
  },
  {
   "cell_type": "code",
   "execution_count": null,
   "id": "a583b91f",
   "metadata": {},
   "outputs": [],
   "source": [
    "# 2ad = \"Ali\"          # Sayı ile başlayamaz\n",
    "# ad-soyad = \"Ali\"     # Tire kullanılamaz\n",
    "# for = 25             # Anahtar kelime kullanılamaz\n",
    "# ad soyad = \"Ali\"     # Boşluk kullanılamaz"
   ]
  },
  {
   "cell_type": "markdown",
   "id": "9b560787",
   "metadata": {},
   "source": [
    "---\n",
    "\n",
    "## 📊 Veri Türleri (Data Types)\n",
    "\n",
    "### Temel Veri Türleri"
   ]
  },
  {
   "cell_type": "code",
   "execution_count": null,
   "id": "8d5ed3d1",
   "metadata": {},
   "outputs": [],
   "source": [
    "# String (metin)\n",
    "ad = \"Ahmet\"\n",
    "mesaj = 'Merhaba Dünya'\n",
    "\n",
    "# Integer (tam sayı)\n",
    "yas = 25\n",
    "sayi = -10\n",
    "\n",
    "# Float (ondalıklı sayı)\n",
    "boy = 1.75\n",
    "fiyat = 99.99\n",
    "\n",
    "# Boolean (mantıksal)\n",
    "aktif_mi = True\n",
    "tamamlandi_mi = False\n",
    "\n",
    "# Tip kontrolü\n",
    "print(type(ad))      # <class 'str'>\n",
    "print(type(yas))     # <class 'int'>\n",
    "print(type(boy))     # <class 'float'>\n",
    "print(type(aktif_mi)) # <class 'bool'>"
   ]
  },
  {
   "cell_type": "markdown",
   "id": "77a5bfbf",
   "metadata": {},
   "source": [
    "### Koleksiyon Türleri"
   ]
  },
  {
   "cell_type": "code",
   "execution_count": null,
   "id": "3082c915",
   "metadata": {},
   "outputs": [],
   "source": [
    "# List (liste)\n",
    "sayilar = [1, 2, 3, 4, 5]\n",
    "isimler = [\"Ali\", \"Veli\", \"Ayşe\"]\n",
    "\n",
    "# Tuple (demet)\n",
    "koordinat = (10, 20)\n",
    "renkler = (\"kırmızı\", \"mavi\", \"yeşil\")\n",
    "\n",
    "# Dictionary (sözlük)\n",
    "kisi = {\"ad\": \"Ali\", \"yas\": 25, \"sehir\": \"İstanbul\"}\n",
    "\n",
    "# Set (küme)\n",
    "benzersiz_sayilar = {1, 2, 3, 4, 5}"
   ]
  },
  {
   "cell_type": "markdown",
   "id": "795ef426",
   "metadata": {},
   "source": [
    "---\n",
    "\n",
    "## ➕ Aritmetik Operatörler\n",
    "\n",
    "### Temel İşlemler"
   ]
  },
  {
   "cell_type": "code",
   "execution_count": null,
   "id": "c792cfa0",
   "metadata": {},
   "outputs": [],
   "source": [
    "a = 10\n",
    "b = 3\n",
    "\n",
    "print(a + b)    # 13 (Toplama)\n",
    "print(a - b)    # 7  (Çıkarma)\n",
    "print(a * b)    # 30 (Çarpma)\n",
    "print(a / b)    # 3.333... (Bölme)\n",
    "print(a // b)   # 3  (Tam bölme)\n",
    "print(a % b)    # 1  (Mod/Kalan)\n",
    "print(a ** b)   # 1000 (Üs alma)"
   ]
  },
  {
   "cell_type": "markdown",
   "id": "16091101",
   "metadata": {},
   "source": [
    "### Atama Operatörleri"
   ]
  },
  {
   "cell_type": "code",
   "execution_count": null,
   "id": "c6aee382",
   "metadata": {},
   "outputs": [],
   "source": [
    "sayac = 10\n",
    "\n",
    "sayac += 5    # sayac = sayac + 5  -> 15\n",
    "sayac -= 3    # sayac = sayac - 3  -> 12\n",
    "sayac *= 2    # sayac = sayac * 2  -> 24\n",
    "sayac /= 4    # sayac = sayac / 4  -> 6.0\n",
    "sayac //= 2   # sayac = sayac // 2 -> 3.0\n",
    "sayac %= 2    # sayac = sayac % 2  -> 1.0\n",
    "sayac **= 3   # sayac = sayac ** 3 -> 1.0\n",
    "\n",
    "print(sayac)  # 1.0"
   ]
  },
  {
   "cell_type": "markdown",
   "id": "1df390e3",
   "metadata": {},
   "source": [
    "---\n",
    "\n",
    "## 🔍 Karşılaştırma Operatörleri"
   ]
  },
  {
   "cell_type": "code",
   "execution_count": null,
   "id": "f7f9df12",
   "metadata": {},
   "outputs": [],
   "source": [
    "a = 10\n",
    "b = 5\n",
    "\n",
    "print(a > b)    # True  (Büyük)\n",
    "print(a < b)    # False (Küçük)\n",
    "print(a >= b)   # True  (Büyük eşit)\n",
    "print(a <= b)   # False (Küçük eşit)\n",
    "print(a == b)   # False (Eşit)\n",
    "print(a != b)   # True  (Eşit değil)\n",
    "\n",
    "# String karşılaştırma\n",
    "ad1 = \"Ali\"\n",
    "ad2 = \"Veli\"\n",
    "print(ad1 == ad2)  # False\n",
    "print(ad1 != ad2)  # True"
   ]
  },
  {
   "cell_type": "markdown",
   "id": "8324738c",
   "metadata": {},
   "source": [
    "---\n",
    "\n",
    "## 🧠 Mantıksal Operatörler"
   ]
  },
  {
   "cell_type": "code",
   "execution_count": null,
   "id": "b70702aa",
   "metadata": {},
   "outputs": [],
   "source": [
    "# and (ve)\n",
    "print(True and True)    # True\n",
    "print(True and False)   # False\n",
    "print(False and False)  # False\n",
    "\n",
    "# or (veya)\n",
    "print(True or False)    # True\n",
    "print(False or False)   # False\n",
    "\n",
    "# not (değil)\n",
    "print(not True)         # False\n",
    "print(not False)        # True\n",
    "\n",
    "# Örnek kullanım\n",
    "yas = 25\n",
    "ehliyet_var = True\n",
    "\n",
    "araba_kullanabilir = yas >= 18 and ehliyet_var\n",
    "print(araba_kullanabilir)  # True"
   ]
  },
  {
   "cell_type": "markdown",
   "id": "7d88fc3e",
   "metadata": {},
   "source": [
    "---\n",
    "\n",
    "## 🔄 Tip Dönüştürme (Type Conversion)\n",
    "\n",
    "### Açık Dönüştürme"
   ]
  },
  {
   "cell_type": "code",
   "execution_count": null,
   "id": "da035300",
   "metadata": {},
   "outputs": [],
   "source": [
    "# String'e dönüştürme\n",
    "sayi = 42\n",
    "sayi_str = str(sayi)\n",
    "print(sayi_str)     # \"42\"\n",
    "print(type(sayi_str)) # <class 'str'>\n",
    "\n",
    "# Integer'a dönüştürme\n",
    "metin_sayi = \"123\"\n",
    "sayi = int(metin_sayi)\n",
    "print(sayi)         # 123\n",
    "print(type(sayi))   # <class 'int'>\n",
    "\n",
    "# Float'a dönüştürme\n",
    "tam_sayi = 10\n",
    "ondalik = float(tam_sayi)\n",
    "print(ondalik)      # 10.0\n",
    "\n",
    "# Boolean'a dönüştürme\n",
    "print(bool(1))      # True\n",
    "print(bool(0))      # False\n",
    "print(bool(\"\"))     # False\n",
    "print(bool(\"Merhaba\")) # True"
   ]
  },
  {
   "cell_type": "markdown",
   "id": "5865e0a4",
   "metadata": {},
   "source": [
    "### Örtük Dönüştürme"
   ]
  },
  {
   "cell_type": "code",
   "execution_count": null,
   "id": "585937ad",
   "metadata": {},
   "outputs": [],
   "source": [
    "# Python otomatik dönüştürme yapar\n",
    "tam_sayi = 10\n",
    "ondalik = 3.5\n",
    "sonuc = tam_sayi + ondalik  # int + float = float\n",
    "print(sonuc)        # 13.5\n",
    "print(type(sonuc))  # <class 'float'>"
   ]
  },
  {
   "cell_type": "markdown",
   "id": "7da8db7b",
   "metadata": {},
   "source": [
    "---\n",
    "\n",
    "## 🎯 Pratik Örnekler\n",
    "\n",
    "### Örnek 1: Basit Hesaplama"
   ]
  },
  {
   "cell_type": "code",
   "execution_count": null,
   "id": "1cf0c585",
   "metadata": {},
   "outputs": [],
   "source": [
    "# Kullanıcıdan veri alma\n",
    "ad = input(\"Adınızı girin: \")\n",
    "yas_str = input(\"Yaşınızı girin: \")\n",
    "yas = int(yas_str)\n",
    "\n",
    "# Hesaplama\n",
    "dogum_yili = 2024 - yas\n",
    "\n",
    "# Sonuç\n",
    "print(f\"Merhaba {ad}!\")\n",
    "print(f\"Doğum yılınız: {dogum_yili}\")"
   ]
  },
  {
   "cell_type": "markdown",
   "id": "870d1cc1",
   "metadata": {},
   "source": [
    "### Örnek 2: Matematik İşlemleri"
   ]
  },
  {
   "cell_type": "code",
   "execution_count": null,
   "id": "f4921b20",
   "metadata": {},
   "outputs": [],
   "source": [
    "# İki sayının işlemleri\n",
    "sayi1 = 15\n",
    "sayi2 = 4\n",
    "\n",
    "print(f\"Sayılar: {sayi1} ve {sayi2}\")\n",
    "print(f\"Toplam: {sayi1 + sayi2}\")\n",
    "print(f\"Fark: {sayi1 - sayi2}\")\n",
    "print(f\"Çarpım: {sayi1 * sayi2}\")\n",
    "print(f\"Bölüm: {sayi1 / sayi2}\")\n",
    "print(f\"Kalan: {sayi1 % sayi2}\")"
   ]
  },
  {
   "cell_type": "markdown",
   "id": "a9dff0a3",
   "metadata": {},
   "source": [
    "### Örnek 3: Boolean Mantığı"
   ]
  },
  {
   "cell_type": "code",
   "execution_count": null,
   "id": "90a9e8e3",
   "metadata": {},
   "outputs": [],
   "source": [
    "# Öğrenci geçme sistemi\n",
    "vize_notu = 70\n",
    "final_notu = 80\n",
    "devam_yuzde = 85\n",
    "\n",
    "ortalama = (vize_notu + final_notu) / 2\n",
    "gecti_mi = ortalama >= 60 and devam_yuzde >= 80\n",
    "\n",
    "print(f\"Ortalama: {ortalama}\")\n",
    "print(f\"Devam: %{devam_yuzde}\")\n",
    "print(f\"Geçti mi? {gecti_mi}\")"
   ]
  },
  {
   "cell_type": "markdown",
   "id": "5f8a4f5b",
   "metadata": {},
   "source": [
    "---\n",
    "\n",
    "## 📚 String Formatları\n",
    "\n",
    "### f-string (Önerilen)"
   ]
  },
  {
   "cell_type": "code",
   "execution_count": null,
   "id": "52d8a99e",
   "metadata": {},
   "outputs": [],
   "source": [
    "ad = \"Ali\"\n",
    "yas = 25\n",
    "boy = 1.75\n",
    "\n",
    "# Modern format\n",
    "mesaj = f\"Benim adım {ad}, {yas} yaşındayım ve boyum {boy:.2f}m\"\n",
    "print(mesaj)"
   ]
  },
  {
   "cell_type": "markdown",
   "id": "00a9803f",
   "metadata": {},
   "source": [
    "### .format() Metodu"
   ]
  },
  {
   "cell_type": "code",
   "execution_count": null,
   "id": "2b7ab9aa",
   "metadata": {},
   "outputs": [],
   "source": [
    "mesaj = \"Benim adım {}, {} yaşındayım\".format(ad, yas)\n",
    "print(mesaj)\n",
    "\n",
    "# İsimli parametreler\n",
    "mesaj = \"Benim adım {isim}, {yas_bilgisi} yaşındayım\".format(\n",
    "    isim=ad, yas_bilgisi=yas)\n",
    "print(mesaj)"
   ]
  },
  {
   "cell_type": "markdown",
   "id": "8c10cd5a",
   "metadata": {},
   "source": [
    "### % Formatı (Eski)"
   ]
  },
  {
   "cell_type": "code",
   "execution_count": null,
   "id": "253b2d1f",
   "metadata": {},
   "outputs": [],
   "source": [
    "mesaj = \"Benim adım %s, %d yaşındayım\" % (ad, yas)\n",
    "print(mesaj)"
   ]
  },
  {
   "cell_type": "markdown",
   "id": "d32d9c0d",
   "metadata": {},
   "source": [
    "---\n",
    "\n",
    "## 🔬 Değişken Kapsamı (Scope)\n",
    "\n",
    "### Global ve Local Değişkenler"
   ]
  },
  {
   "cell_type": "code",
   "execution_count": null,
   "id": "fa92cc27",
   "metadata": {},
   "outputs": [],
   "source": [
    "# Global değişken\n",
    "global_degisken = \"Ben globalim\"\n",
    "\n",
    "def fonksiyon():\n",
    "    # Local değişken\n",
    "    local_degisken = \"Ben localim\"\n",
    "    print(global_degisken)  # Erişilebilir\n",
    "    print(local_degisken)   # Erişilebilir\n",
    "\n",
    "fonksiyon()\n",
    "print(global_degisken)      # Erişilebilir\n",
    "# print(local_degisken)     # HATA! Erişilemez"
   ]
  },
  {
   "cell_type": "markdown",
   "id": "7f38a859",
   "metadata": {},
   "source": [
    "---\n",
    "\n",
    "## ⚡ Performans İpuçları\n",
    "\n",
    "### Etkili Değişken Kullanımı"
   ]
  },
  {
   "cell_type": "code",
   "execution_count": null,
   "id": "cf4af277",
   "metadata": {},
   "outputs": [],
   "source": [
    "# İyi pratik - anlamlı isimler\n",
    "ogrenci_sayisi = 150\n",
    "toplam_puan = 1250\n",
    "ortalama_puan = toplam_puan / ogrenci_sayisi\n",
    "\n",
    "# Çoklu atama\n",
    "ad, soyad, yas = \"Ali\", \"Yılmaz\", 25\n",
    "\n",
    "# Değer değiştirme\n",
    "a, b = 10, 20\n",
    "a, b = b, a  # Swap işlemi\n",
    "print(f\"a: {a}, b: {b}\")  # a: 20, b: 10"
   ]
  },
  {
   "cell_type": "markdown",
   "id": "68bd1129",
   "metadata": {
    "lines_to_next_cell": 0
   },
   "source": [
    "---\n",
    "\n",
    "## 🧪 Pratik Egzersizler\n",
    "\n",
    "### Egzersiz 1: Temel Hesaplama"
   ]
  },
  {
   "cell_type": "code",
   "execution_count": null,
   "id": "6ddcf55f",
   "metadata": {},
   "outputs": [],
   "source": [
    "# Dikdörtgen alanı hesaplama\n",
    "uzunluk = 10\n",
    "genislik = 5\n",
    "alan = uzunluk * genislik\n",
    "cevre = 2 * (uzunluk + genislik)\n",
    "\n",
    "print(f\"Alan: {alan}\")\n",
    "print(f\"Çevre: {cevre}\")"
   ]
  },
  {
   "cell_type": "markdown",
   "id": "1c7e576a",
   "metadata": {
    "lines_to_next_cell": 0
   },
   "source": [
    "### Egzersiz 2: Yaş Hesaplama"
   ]
  },
  {
   "cell_type": "code",
   "execution_count": null,
   "id": "d372325a",
   "metadata": {},
   "outputs": [],
   "source": [
    "# Yaş ve yıl hesaplama\n",
    "dogum_yili = 1990\n",
    "su_anki_yil = 2024\n",
    "yas = su_anki_yil - dogum_yili\n",
    "\n",
    "print(f\"Yaşınız: {yas}\")\n",
    "print(f\"{yas} yaş büyük mü? {yas >= 18}\")"
   ]
  },
  {
   "cell_type": "markdown",
   "id": "3b9a410d",
   "metadata": {
    "lines_to_next_cell": 0
   },
   "source": [
    "### Egzersiz 3: Alışveriş Hesabı"
   ]
  },
  {
   "cell_type": "code",
   "execution_count": null,
   "id": "baeeb083",
   "metadata": {},
   "outputs": [],
   "source": [
    "# Basit alışveriş hesabı\n",
    "urun_fiyat = 25.50\n",
    "adet = 3\n",
    "ara_toplam = urun_fiyat * adet\n",
    "kdv_orani = 0.18\n",
    "kdv = ara_toplam * kdv_orani\n",
    "toplam = ara_toplam + kdv\n",
    "\n",
    "print(f\"Ara Toplam: {ara_toplam:.2f} TL\")\n",
    "print(f\"KDV: {kdv:.2f} TL\")\n",
    "print(f\"Genel Toplam: {toplam:.2f} TL\")"
   ]
  },
  {
   "cell_type": "markdown",
   "id": "a3395366",
   "metadata": {},
   "source": [
    "---\n",
    "\n",
    "## ✅ Özet ve Kontrol Listesi\n",
    "\n",
    "### Öğrendikleriniz\n",
    "- [x] Değişken tanımlama ve kullanma\n",
    "- [x] Temel veri türleri (str, int, float, bool)\n",
    "- [x] Aritmetik operatörler (+, -, *, /, //, %, **)\n",
    "- [x] Karşılaştırma operatörleri (>, <, ==, !=)\n",
    "- [x] Mantıksal operatörler (and, or, not)\n",
    "- [x] Tip dönüştürme işlemleri\n",
    "- [x] String formatting\n",
    "- [x] Değişken isimlendirme kuralları\n",
    "\n",
    "### Sırada Ne Var?\n",
    "- Koşullu ifadeler (if/elif/else)\n",
    "- Döngüler (for/while)\n",
    "- Liste ve dictionary işlemleri\n",
    "- Fonksiyon tanımlama\n",
    "\n",
    "### Pratik Yapın!\n",
    "Her gün 15-30 dakika kod yazarak öğrendiklerinizi pekiştirin. Basit hesaplama programları yazın ve farklı veri türleri ile deneyim kazanın.\n",
    "\n",
    "---\n",
    "\n",
    "**🎯 Sonraki ders: Koşullu İfadeler ve Karar Yapıları**  "
   ]
  }
 ],
 "metadata": {
  "jupytext": {
   "cell_metadata_filter": "-all",
   "main_language": "python",
   "notebook_metadata_filter": "-all"
  }
 },
 "nbformat": 4,
 "nbformat_minor": 5
}
